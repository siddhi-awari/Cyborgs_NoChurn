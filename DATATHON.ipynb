{
  "nbformat": 4,
  "nbformat_minor": 0,
  "metadata": {
    "colab": {
      "provenance": []
    },
    "kernelspec": {
      "name": "python3",
      "display_name": "Python 3"
    },
    "language_info": {
      "name": "python"
    }
  },
  "cells": [
    {
      "cell_type": "code",
      "execution_count": 1,
      "metadata": {
        "colab": {
          "base_uri": "https://localhost:8080/",
          "height": 73
        },
        "id": "9OPAaUDad2NW",
        "outputId": "3aa60383-7031-44f7-9e53-2d31fff7b9bd"
      },
      "outputs": [
        {
          "output_type": "display_data",
          "data": {
            "text/plain": [
              "<IPython.core.display.HTML object>"
            ],
            "text/html": [
              "\n",
              "     <input type=\"file\" id=\"files-7faa3bbc-1c0c-4f70-be30-17ae8966492e\" name=\"files[]\" multiple disabled\n",
              "        style=\"border:none\" />\n",
              "     <output id=\"result-7faa3bbc-1c0c-4f70-be30-17ae8966492e\">\n",
              "      Upload widget is only available when the cell has been executed in the\n",
              "      current browser session. Please rerun this cell to enable.\n",
              "      </output>\n",
              "      <script>// Copyright 2017 Google LLC\n",
              "//\n",
              "// Licensed under the Apache License, Version 2.0 (the \"License\");\n",
              "// you may not use this file except in compliance with the License.\n",
              "// You may obtain a copy of the License at\n",
              "//\n",
              "//      http://www.apache.org/licenses/LICENSE-2.0\n",
              "//\n",
              "// Unless required by applicable law or agreed to in writing, software\n",
              "// distributed under the License is distributed on an \"AS IS\" BASIS,\n",
              "// WITHOUT WARRANTIES OR CONDITIONS OF ANY KIND, either express or implied.\n",
              "// See the License for the specific language governing permissions and\n",
              "// limitations under the License.\n",
              "\n",
              "/**\n",
              " * @fileoverview Helpers for google.colab Python module.\n",
              " */\n",
              "(function(scope) {\n",
              "function span(text, styleAttributes = {}) {\n",
              "  const element = document.createElement('span');\n",
              "  element.textContent = text;\n",
              "  for (const key of Object.keys(styleAttributes)) {\n",
              "    element.style[key] = styleAttributes[key];\n",
              "  }\n",
              "  return element;\n",
              "}\n",
              "\n",
              "// Max number of bytes which will be uploaded at a time.\n",
              "const MAX_PAYLOAD_SIZE = 100 * 1024;\n",
              "\n",
              "function _uploadFiles(inputId, outputId) {\n",
              "  const steps = uploadFilesStep(inputId, outputId);\n",
              "  const outputElement = document.getElementById(outputId);\n",
              "  // Cache steps on the outputElement to make it available for the next call\n",
              "  // to uploadFilesContinue from Python.\n",
              "  outputElement.steps = steps;\n",
              "\n",
              "  return _uploadFilesContinue(outputId);\n",
              "}\n",
              "\n",
              "// This is roughly an async generator (not supported in the browser yet),\n",
              "// where there are multiple asynchronous steps and the Python side is going\n",
              "// to poll for completion of each step.\n",
              "// This uses a Promise to block the python side on completion of each step,\n",
              "// then passes the result of the previous step as the input to the next step.\n",
              "function _uploadFilesContinue(outputId) {\n",
              "  const outputElement = document.getElementById(outputId);\n",
              "  const steps = outputElement.steps;\n",
              "\n",
              "  const next = steps.next(outputElement.lastPromiseValue);\n",
              "  return Promise.resolve(next.value.promise).then((value) => {\n",
              "    // Cache the last promise value to make it available to the next\n",
              "    // step of the generator.\n",
              "    outputElement.lastPromiseValue = value;\n",
              "    return next.value.response;\n",
              "  });\n",
              "}\n",
              "\n",
              "/**\n",
              " * Generator function which is called between each async step of the upload\n",
              " * process.\n",
              " * @param {string} inputId Element ID of the input file picker element.\n",
              " * @param {string} outputId Element ID of the output display.\n",
              " * @return {!Iterable<!Object>} Iterable of next steps.\n",
              " */\n",
              "function* uploadFilesStep(inputId, outputId) {\n",
              "  const inputElement = document.getElementById(inputId);\n",
              "  inputElement.disabled = false;\n",
              "\n",
              "  const outputElement = document.getElementById(outputId);\n",
              "  outputElement.innerHTML = '';\n",
              "\n",
              "  const pickedPromise = new Promise((resolve) => {\n",
              "    inputElement.addEventListener('change', (e) => {\n",
              "      resolve(e.target.files);\n",
              "    });\n",
              "  });\n",
              "\n",
              "  const cancel = document.createElement('button');\n",
              "  inputElement.parentElement.appendChild(cancel);\n",
              "  cancel.textContent = 'Cancel upload';\n",
              "  const cancelPromise = new Promise((resolve) => {\n",
              "    cancel.onclick = () => {\n",
              "      resolve(null);\n",
              "    };\n",
              "  });\n",
              "\n",
              "  // Wait for the user to pick the files.\n",
              "  const files = yield {\n",
              "    promise: Promise.race([pickedPromise, cancelPromise]),\n",
              "    response: {\n",
              "      action: 'starting',\n",
              "    }\n",
              "  };\n",
              "\n",
              "  cancel.remove();\n",
              "\n",
              "  // Disable the input element since further picks are not allowed.\n",
              "  inputElement.disabled = true;\n",
              "\n",
              "  if (!files) {\n",
              "    return {\n",
              "      response: {\n",
              "        action: 'complete',\n",
              "      }\n",
              "    };\n",
              "  }\n",
              "\n",
              "  for (const file of files) {\n",
              "    const li = document.createElement('li');\n",
              "    li.append(span(file.name, {fontWeight: 'bold'}));\n",
              "    li.append(span(\n",
              "        `(${file.type || 'n/a'}) - ${file.size} bytes, ` +\n",
              "        `last modified: ${\n",
              "            file.lastModifiedDate ? file.lastModifiedDate.toLocaleDateString() :\n",
              "                                    'n/a'} - `));\n",
              "    const percent = span('0% done');\n",
              "    li.appendChild(percent);\n",
              "\n",
              "    outputElement.appendChild(li);\n",
              "\n",
              "    const fileDataPromise = new Promise((resolve) => {\n",
              "      const reader = new FileReader();\n",
              "      reader.onload = (e) => {\n",
              "        resolve(e.target.result);\n",
              "      };\n",
              "      reader.readAsArrayBuffer(file);\n",
              "    });\n",
              "    // Wait for the data to be ready.\n",
              "    let fileData = yield {\n",
              "      promise: fileDataPromise,\n",
              "      response: {\n",
              "        action: 'continue',\n",
              "      }\n",
              "    };\n",
              "\n",
              "    // Use a chunked sending to avoid message size limits. See b/62115660.\n",
              "    let position = 0;\n",
              "    do {\n",
              "      const length = Math.min(fileData.byteLength - position, MAX_PAYLOAD_SIZE);\n",
              "      const chunk = new Uint8Array(fileData, position, length);\n",
              "      position += length;\n",
              "\n",
              "      const base64 = btoa(String.fromCharCode.apply(null, chunk));\n",
              "      yield {\n",
              "        response: {\n",
              "          action: 'append',\n",
              "          file: file.name,\n",
              "          data: base64,\n",
              "        },\n",
              "      };\n",
              "\n",
              "      let percentDone = fileData.byteLength === 0 ?\n",
              "          100 :\n",
              "          Math.round((position / fileData.byteLength) * 100);\n",
              "      percent.textContent = `${percentDone}% done`;\n",
              "\n",
              "    } while (position < fileData.byteLength);\n",
              "  }\n",
              "\n",
              "  // All done.\n",
              "  yield {\n",
              "    response: {\n",
              "      action: 'complete',\n",
              "    }\n",
              "  };\n",
              "}\n",
              "\n",
              "scope.google = scope.google || {};\n",
              "scope.google.colab = scope.google.colab || {};\n",
              "scope.google.colab._files = {\n",
              "  _uploadFiles,\n",
              "  _uploadFilesContinue,\n",
              "};\n",
              "})(self);\n",
              "</script> "
            ]
          },
          "metadata": {}
        },
        {
          "output_type": "stream",
          "name": "stdout",
          "text": [
            "Saving 02 Churn-Dataset.xlsx to 02 Churn-Dataset.xlsx\n"
          ]
        }
      ],
      "source": [
        "from google.colab import files\n",
        "uploaded = files.upload()\n"
      ]
    },
    {
      "cell_type": "code",
      "source": [
        "import pandas as pd\n",
        "\n",
        "# Load the Excel file\n",
        "file_path = \"02 Churn-Dataset.xlsx\"  # Make sure the filename matches exactly\n",
        "df = pd.read_excel(file_path)\n",
        "\n",
        "# Display first few rows\n",
        "print(df.head())\n"
      ],
      "metadata": {
        "colab": {
          "base_uri": "https://localhost:8080/"
        },
        "id": "t2kBp4E2hzPB",
        "outputId": "49b93fde-1e09-44a2-f36c-754acb181e63"
      },
      "execution_count": 2,
      "outputs": [
        {
          "output_type": "stream",
          "name": "stdout",
          "text": [
            "   customerID  gender  SeniorCitizen Partner Dependents  tenure PhoneService  \\\n",
            "0  7590-VHVEG  Female              0     Yes         No       1           No   \n",
            "1  5575-GNVDE    Male              0      No         No      34          Yes   \n",
            "2  3668-QPYBK    Male              0      No         No       2          Yes   \n",
            "3  7795-CFOCW    Male              0      No         No      45           No   \n",
            "4  9237-HQITU  Female              0      No         No       2          Yes   \n",
            "\n",
            "      MultipleLines InternetService OnlineSecurity  ... StreamingTV  \\\n",
            "0  No phone service             DSL             No  ...          No   \n",
            "1                No             DSL            Yes  ...          No   \n",
            "2                No             DSL            Yes  ...          No   \n",
            "3  No phone service             DSL            Yes  ...          No   \n",
            "4                No     Fiber optic             No  ...          No   \n",
            "\n",
            "  StreamingMovies        Contract PaperlessBilling              PaymentMethod  \\\n",
            "0              No  Month-to-month              Yes           Electronic check   \n",
            "1              No        One year               No               Mailed check   \n",
            "2              No  Month-to-month              Yes               Mailed check   \n",
            "3              No        One year               No  Bank transfer (automatic)   \n",
            "4              No  Month-to-month              Yes           Electronic check   \n",
            "\n",
            "  MonthlyCharges TotalCharges numAdminTickets  numTechTickets Churn  \n",
            "0          29.85        29.85               0               0    No  \n",
            "1          56.95       1889.5               0               0    No  \n",
            "2          53.85       108.15               0               0   Yes  \n",
            "3          42.30      1840.75               0               3    No  \n",
            "4          70.70       151.65               0               0   Yes  \n",
            "\n",
            "[5 rows x 23 columns]\n"
          ]
        }
      ]
    },
    {
      "cell_type": "code",
      "source": [
        "# Display dataset information\n",
        "print(df.info())\n",
        "\n",
        "# Check for missing values\n",
        "print(df.isnull().sum())\n",
        "\n",
        "# Show summary statistics\n",
        "print(df.describe())\n"
      ],
      "metadata": {
        "colab": {
          "base_uri": "https://localhost:8080/"
        },
        "id": "QOSl8Bf2i86f",
        "outputId": "951f8c06-da64-4780-c5ed-01bee2e5b474"
      },
      "execution_count": 3,
      "outputs": [
        {
          "output_type": "stream",
          "name": "stdout",
          "text": [
            "<class 'pandas.core.frame.DataFrame'>\n",
            "RangeIndex: 7043 entries, 0 to 7042\n",
            "Data columns (total 23 columns):\n",
            " #   Column            Non-Null Count  Dtype  \n",
            "---  ------            --------------  -----  \n",
            " 0   customerID        7043 non-null   object \n",
            " 1   gender            7043 non-null   object \n",
            " 2   SeniorCitizen     7043 non-null   int64  \n",
            " 3   Partner           7043 non-null   object \n",
            " 4   Dependents        7043 non-null   object \n",
            " 5   tenure            7043 non-null   int64  \n",
            " 6   PhoneService      7043 non-null   object \n",
            " 7   MultipleLines     7043 non-null   object \n",
            " 8   InternetService   7043 non-null   object \n",
            " 9   OnlineSecurity    7043 non-null   object \n",
            " 10  OnlineBackup      7043 non-null   object \n",
            " 11  DeviceProtection  7043 non-null   object \n",
            " 12  TechSupport       7043 non-null   object \n",
            " 13  StreamingTV       7043 non-null   object \n",
            " 14  StreamingMovies   7043 non-null   object \n",
            " 15  Contract          7043 non-null   object \n",
            " 16  PaperlessBilling  7043 non-null   object \n",
            " 17  PaymentMethod     7043 non-null   object \n",
            " 18  MonthlyCharges    7043 non-null   float64\n",
            " 19  TotalCharges      7043 non-null   object \n",
            " 20  numAdminTickets   7043 non-null   int64  \n",
            " 21  numTechTickets    7043 non-null   int64  \n",
            " 22  Churn             7043 non-null   object \n",
            "dtypes: float64(1), int64(4), object(18)\n",
            "memory usage: 1.2+ MB\n",
            "None\n",
            "customerID          0\n",
            "gender              0\n",
            "SeniorCitizen       0\n",
            "Partner             0\n",
            "Dependents          0\n",
            "tenure              0\n",
            "PhoneService        0\n",
            "MultipleLines       0\n",
            "InternetService     0\n",
            "OnlineSecurity      0\n",
            "OnlineBackup        0\n",
            "DeviceProtection    0\n",
            "TechSupport         0\n",
            "StreamingTV         0\n",
            "StreamingMovies     0\n",
            "Contract            0\n",
            "PaperlessBilling    0\n",
            "PaymentMethod       0\n",
            "MonthlyCharges      0\n",
            "TotalCharges        0\n",
            "numAdminTickets     0\n",
            "numTechTickets      0\n",
            "Churn               0\n",
            "dtype: int64\n",
            "       SeniorCitizen       tenure  MonthlyCharges  numAdminTickets  \\\n",
            "count    7043.000000  7043.000000     7043.000000      7043.000000   \n",
            "mean        0.162147    32.371149       64.761692         0.515689   \n",
            "std         0.368612    24.559481       30.090047         1.275299   \n",
            "min         0.000000     0.000000       18.250000         0.000000   \n",
            "25%         0.000000     9.000000       35.500000         0.000000   \n",
            "50%         0.000000    29.000000       70.350000         0.000000   \n",
            "75%         0.000000    55.000000       89.850000         0.000000   \n",
            "max         1.000000    72.000000      118.750000         5.000000   \n",
            "\n",
            "       numTechTickets  \n",
            "count     7043.000000  \n",
            "mean         0.419566  \n",
            "std          1.250117  \n",
            "min          0.000000  \n",
            "25%          0.000000  \n",
            "50%          0.000000  \n",
            "75%          0.000000  \n",
            "max          9.000000  \n"
          ]
        }
      ]
    },
    {
      "cell_type": "code",
      "source": [
        "df['Churn'] = df['Churn'].astype(str).str.strip()  # Remove extra spaces\n",
        "df['Churn'] = df['Churn'].replace({'': None, ' ': None, 'nan': None})  # Replace empty values with NaN\n"
      ],
      "metadata": {
        "id": "JFKyf9MY08pJ"
      },
      "execution_count": 4,
      "outputs": []
    },
    {
      "cell_type": "code",
      "source": [
        "df['Churn'] = df['Churn'].map({'Yes': 1, 'No': 0})\n"
      ],
      "metadata": {
        "id": "G6uTAdxa0_D3"
      },
      "execution_count": 5,
      "outputs": []
    },
    {
      "cell_type": "code",
      "source": [
        "# Drop customerID as it's irrelevant\n",
        "df.drop(columns=['customerID'], inplace=True)\n"
      ],
      "metadata": {
        "id": "xl2glrAOjCCh"
      },
      "execution_count": null,
      "outputs": []
    },
    {
      "cell_type": "markdown",
      "source": [],
      "metadata": {
        "id": "6a5NTXTO1JuQ"
      }
    },
    {
      "cell_type": "code",
      "source": [
        "# Convert TotalCharges to numeric (forcing errors='coerce' to handle empty values)\n",
        "df['TotalCharges'] = pd.to_numeric(df['TotalCharges'], errors='coerce')\n",
        "\n",
        "# Fill missing values (if any) with the median\n",
        "df['TotalCharges'].fillna(df['TotalCharges'].median(), inplace=True)\n"
      ],
      "metadata": {
        "colab": {
          "base_uri": "https://localhost:8080/"
        },
        "id": "zRQm7IHMjeZY",
        "outputId": "c80d4f07-ea96-4414-e28c-7d08ad85b4c1"
      },
      "execution_count": 6,
      "outputs": [
        {
          "output_type": "stream",
          "name": "stderr",
          "text": [
            "<ipython-input-6-5fae6686a828>:5: FutureWarning: A value is trying to be set on a copy of a DataFrame or Series through chained assignment using an inplace method.\n",
            "The behavior will change in pandas 3.0. This inplace method will never work because the intermediate object on which we are setting values always behaves as a copy.\n",
            "\n",
            "For example, when doing 'df[col].method(value, inplace=True)', try using 'df.method({col: value}, inplace=True)' or df[col] = df[col].method(value) instead, to perform the operation inplace on the original object.\n",
            "\n",
            "\n",
            "  df['TotalCharges'].fillna(df['TotalCharges'].median(), inplace=True)\n"
          ]
        }
      ]
    },
    {
      "cell_type": "code",
      "source": [
        "categorical_features = df.select_dtypes(include=['object']).columns\n",
        "print(\"Categorical Columns:\", categorical_features)\n"
      ],
      "metadata": {
        "colab": {
          "base_uri": "https://localhost:8080/"
        },
        "id": "8DX6AvuAjlDp",
        "outputId": "045d02ce-ff9d-4ae8-e0ca-8760812710b5"
      },
      "execution_count": 7,
      "outputs": [
        {
          "output_type": "stream",
          "name": "stdout",
          "text": [
            "Categorical Columns: Index(['customerID', 'gender', 'Partner', 'Dependents', 'PhoneService',\n",
            "       'MultipleLines', 'InternetService', 'OnlineSecurity', 'OnlineBackup',\n",
            "       'DeviceProtection', 'TechSupport', 'StreamingTV', 'StreamingMovies',\n",
            "       'Contract', 'PaperlessBilling', 'PaymentMethod'],\n",
            "      dtype='object')\n"
          ]
        }
      ]
    },
    {
      "cell_type": "code",
      "source": [
        "for col in ['gender', 'Partner', 'Dependents', 'PhoneService', 'MultipleLines',\n",
        "            'InternetService', 'OnlineSecurity', 'OnlineBackup', 'DeviceProtection',\n",
        "            'TechSupport', 'StreamingTV', 'StreamingMovies', 'Contract',\n",
        "            'PaperlessBilling', 'PaymentMethod']:\n",
        "    print(f\"{col}: {df[col].unique()}\")\n"
      ],
      "metadata": {
        "colab": {
          "base_uri": "https://localhost:8080/"
        },
        "id": "H9DzErw_1nCI",
        "outputId": "1a1fad56-72f1-42ed-eb5a-091bff810a76"
      },
      "execution_count": 8,
      "outputs": [
        {
          "output_type": "stream",
          "name": "stdout",
          "text": [
            "gender: ['Female' 'Male']\n",
            "Partner: ['Yes' 'No']\n",
            "Dependents: ['No' 'Yes']\n",
            "PhoneService: ['No' 'Yes']\n",
            "MultipleLines: ['No phone service' 'No' 'Yes']\n",
            "InternetService: ['DSL' 'Fiber optic' 'No']\n",
            "OnlineSecurity: ['No' 'Yes' 'No internet service']\n",
            "OnlineBackup: ['Yes' 'No' 'No internet service']\n",
            "DeviceProtection: ['No' 'Yes' 'No internet service']\n",
            "TechSupport: ['No' 'Yes' 'No internet service']\n",
            "StreamingTV: ['No' 'Yes' 'No internet service']\n",
            "StreamingMovies: ['No' 'Yes' 'No internet service']\n",
            "Contract: ['Month-to-month' 'One year' 'Two year']\n",
            "PaperlessBilling: ['Yes' 'No']\n",
            "PaymentMethod: ['Electronic check' 'Mailed check' 'Bank transfer (automatic)'\n",
            " 'Credit card (automatic)']\n"
          ]
        }
      ]
    },
    {
      "cell_type": "code",
      "source": [
        "binary_cols = ['gender', 'Partner', 'Dependents', 'PhoneService', 'PaperlessBilling']\n",
        "\n",
        "# Convert Yes/No and Male/Female to 0/1\n",
        "df['gender'] = df['gender'].map({'Female': 1, 'Male': 0})  # Female → 1, Male → 0\n",
        "for col in binary_cols[1:]:  # Skip 'gender' as it's already handled\n",
        "    df[col] = df[col].map({'Yes': 1, 'No': 0})\n"
      ],
      "metadata": {
        "id": "M0kFPUkl2eRH"
      },
      "execution_count": 9,
      "outputs": []
    },
    {
      "cell_type": "code",
      "source": [
        "df['MultipleLines'] = df['MultipleLines'].map({'No': 0, 'Yes': 1, 'No phone service': 0})\n"
      ],
      "metadata": {
        "id": "JxJPgXUA2uqU"
      },
      "execution_count": 10,
      "outputs": []
    },
    {
      "cell_type": "code",
      "source": [
        "df = pd.get_dummies(df, columns=['InternetService', 'Contract', 'PaymentMethod'], drop_first=True)\n"
      ],
      "metadata": {
        "id": "l1aB0_NG25i4"
      },
      "execution_count": 11,
      "outputs": []
    },
    {
      "cell_type": "code",
      "source": [
        "internet_features = ['OnlineSecurity', 'OnlineBackup', 'DeviceProtection', 'TechSupport', 'StreamingTV', 'StreamingMovies']\n",
        "\n",
        "for col in internet_features:\n",
        "    df[col] = df[col].map({'Yes': 1, 'No': 0, 'No internet service': 0})\n"
      ],
      "metadata": {
        "id": "kyynJcJL22mZ"
      },
      "execution_count": 12,
      "outputs": []
    },
    {
      "cell_type": "code",
      "source": [
        "print(df.dtypes)  # Should only show int64 or float64\n",
        "print(df.head())  # Confirm encoding\n"
      ],
      "metadata": {
        "colab": {
          "base_uri": "https://localhost:8080/"
        },
        "collapsed": true,
        "id": "5Cbf13Ei29iY",
        "outputId": "210bf755-4e8c-4f50-9ba8-80379b7636d7"
      },
      "execution_count": 13,
      "outputs": [
        {
          "output_type": "stream",
          "name": "stdout",
          "text": [
            "customerID                                object\n",
            "gender                                     int64\n",
            "SeniorCitizen                              int64\n",
            "Partner                                    int64\n",
            "Dependents                                 int64\n",
            "tenure                                     int64\n",
            "PhoneService                               int64\n",
            "MultipleLines                              int64\n",
            "OnlineSecurity                             int64\n",
            "OnlineBackup                               int64\n",
            "DeviceProtection                           int64\n",
            "TechSupport                                int64\n",
            "StreamingTV                                int64\n",
            "StreamingMovies                            int64\n",
            "PaperlessBilling                           int64\n",
            "MonthlyCharges                           float64\n",
            "TotalCharges                             float64\n",
            "numAdminTickets                            int64\n",
            "numTechTickets                             int64\n",
            "Churn                                      int64\n",
            "InternetService_Fiber optic                 bool\n",
            "InternetService_No                          bool\n",
            "Contract_One year                           bool\n",
            "Contract_Two year                           bool\n",
            "PaymentMethod_Credit card (automatic)       bool\n",
            "PaymentMethod_Electronic check              bool\n",
            "PaymentMethod_Mailed check                  bool\n",
            "dtype: object\n",
            "   customerID  gender  SeniorCitizen  Partner  Dependents  tenure  \\\n",
            "0  7590-VHVEG       1              0        1           0       1   \n",
            "1  5575-GNVDE       0              0        0           0      34   \n",
            "2  3668-QPYBK       0              0        0           0       2   \n",
            "3  7795-CFOCW       0              0        0           0      45   \n",
            "4  9237-HQITU       1              0        0           0       2   \n",
            "\n",
            "   PhoneService  MultipleLines  OnlineSecurity  OnlineBackup  ...  \\\n",
            "0             0              0               0             1  ...   \n",
            "1             1              0               1             0  ...   \n",
            "2             1              0               1             1  ...   \n",
            "3             0              0               1             0  ...   \n",
            "4             1              0               0             0  ...   \n",
            "\n",
            "   numAdminTickets  numTechTickets  Churn  InternetService_Fiber optic  \\\n",
            "0                0               0      0                        False   \n",
            "1                0               0      0                        False   \n",
            "2                0               0      1                        False   \n",
            "3                0               3      0                        False   \n",
            "4                0               0      1                         True   \n",
            "\n",
            "   InternetService_No  Contract_One year  Contract_Two year  \\\n",
            "0               False              False              False   \n",
            "1               False               True              False   \n",
            "2               False              False              False   \n",
            "3               False               True              False   \n",
            "4               False              False              False   \n",
            "\n",
            "   PaymentMethod_Credit card (automatic)  PaymentMethod_Electronic check  \\\n",
            "0                                  False                            True   \n",
            "1                                  False                           False   \n",
            "2                                  False                           False   \n",
            "3                                  False                           False   \n",
            "4                                  False                            True   \n",
            "\n",
            "   PaymentMethod_Mailed check  \n",
            "0                       False  \n",
            "1                        True  \n",
            "2                        True  \n",
            "3                       False  \n",
            "4                       False  \n",
            "\n",
            "[5 rows x 27 columns]\n"
          ]
        }
      ]
    },
    {
      "cell_type": "code",
      "source": [
        "from sklearn.model_selection import train_test_split\n",
        "\n",
        "X = df.drop(columns=['Churn'])  # Features\n",
        "y = df['Churn']  # Target variable\n",
        "\n",
        "# Train-Test Split (80-20)\n",
        "X_train, X_test, y_train, y_test = train_test_split(X, y, test_size=0.2, random_state=42, stratify=y)\n",
        "\n",
        "print(\"✅ Train-Test Split Successful! Ready for Model Training.\")\n",
        "print(\"Training set size:\", X_train.shape)\n",
        "print(\"Testing set size:\", X_test.shape)\n"
      ],
      "metadata": {
        "colab": {
          "base_uri": "https://localhost:8080/"
        },
        "id": "J_S0-Jkx3Pvg",
        "outputId": "07f87d7f-952c-483e-946a-c33f7283a942"
      },
      "execution_count": 15,
      "outputs": [
        {
          "output_type": "stream",
          "name": "stdout",
          "text": [
            "✅ Train-Test Split Successful! Ready for Model Training.\n",
            "Training set size: (5634, 26)\n",
            "Testing set size: (1409, 26)\n"
          ]
        }
      ]
    },
    {
      "cell_type": "markdown",
      "source": [
        "## **RANDOM FOREST AND FEATURE IMPORTANCE**"
      ],
      "metadata": {
        "id": "1N5WdM6Jnr1Y"
      }
    },
    {
      "cell_type": "code",
      "source": [
        "from sklearn.ensemble import RandomForestClassifier\n",
        "\n",
        "# Train Random Forest with controlled depth to avoid overfitting\n",
        "rf = RandomForestClassifier(n_estimators=100, max_depth=10, random_state=42)\n",
        "rf.fit(X_train, y_train)\n"
      ],
      "metadata": {
        "colab": {
          "base_uri": "https://localhost:8080/",
          "height": 333
        },
        "id": "kK77kIrs3cdM",
        "outputId": "538b26c1-cda9-4b89-cba2-dd8c2d796368"
      },
      "execution_count": 16,
      "outputs": [
        {
          "output_type": "error",
          "ename": "ValueError",
          "evalue": "could not convert string to float: '4950-BDEUX'",
          "traceback": [
            "\u001b[0;31m---------------------------------------------------------------------------\u001b[0m",
            "\u001b[0;31mValueError\u001b[0m                                Traceback (most recent call last)",
            "\u001b[0;32m<ipython-input-16-c9e7aa874e09>\u001b[0m in \u001b[0;36m<cell line: 0>\u001b[0;34m()\u001b[0m\n\u001b[1;32m      3\u001b[0m \u001b[0;31m# Train Random Forest with controlled depth to avoid overfitting\u001b[0m\u001b[0;34m\u001b[0m\u001b[0;34m\u001b[0m\u001b[0m\n\u001b[1;32m      4\u001b[0m \u001b[0mrf\u001b[0m \u001b[0;34m=\u001b[0m \u001b[0mRandomForestClassifier\u001b[0m\u001b[0;34m(\u001b[0m\u001b[0mn_estimators\u001b[0m\u001b[0;34m=\u001b[0m\u001b[0;36m100\u001b[0m\u001b[0;34m,\u001b[0m \u001b[0mmax_depth\u001b[0m\u001b[0;34m=\u001b[0m\u001b[0;36m10\u001b[0m\u001b[0;34m,\u001b[0m \u001b[0mrandom_state\u001b[0m\u001b[0;34m=\u001b[0m\u001b[0;36m42\u001b[0m\u001b[0;34m)\u001b[0m\u001b[0;34m\u001b[0m\u001b[0;34m\u001b[0m\u001b[0m\n\u001b[0;32m----> 5\u001b[0;31m \u001b[0mrf\u001b[0m\u001b[0;34m.\u001b[0m\u001b[0mfit\u001b[0m\u001b[0;34m(\u001b[0m\u001b[0mX_train\u001b[0m\u001b[0;34m,\u001b[0m \u001b[0my_train\u001b[0m\u001b[0;34m)\u001b[0m\u001b[0;34m\u001b[0m\u001b[0;34m\u001b[0m\u001b[0m\n\u001b[0m",
            "\u001b[0;32m/usr/local/lib/python3.11/dist-packages/sklearn/base.py\u001b[0m in \u001b[0;36mwrapper\u001b[0;34m(estimator, *args, **kwargs)\u001b[0m\n\u001b[1;32m   1387\u001b[0m                 )\n\u001b[1;32m   1388\u001b[0m             ):\n\u001b[0;32m-> 1389\u001b[0;31m                 \u001b[0;32mreturn\u001b[0m \u001b[0mfit_method\u001b[0m\u001b[0;34m(\u001b[0m\u001b[0mestimator\u001b[0m\u001b[0;34m,\u001b[0m \u001b[0;34m*\u001b[0m\u001b[0margs\u001b[0m\u001b[0;34m,\u001b[0m \u001b[0;34m**\u001b[0m\u001b[0mkwargs\u001b[0m\u001b[0;34m)\u001b[0m\u001b[0;34m\u001b[0m\u001b[0;34m\u001b[0m\u001b[0m\n\u001b[0m\u001b[1;32m   1390\u001b[0m \u001b[0;34m\u001b[0m\u001b[0m\n\u001b[1;32m   1391\u001b[0m         \u001b[0;32mreturn\u001b[0m \u001b[0mwrapper\u001b[0m\u001b[0;34m\u001b[0m\u001b[0;34m\u001b[0m\u001b[0m\n",
            "\u001b[0;32m/usr/local/lib/python3.11/dist-packages/sklearn/ensemble/_forest.py\u001b[0m in \u001b[0;36mfit\u001b[0;34m(self, X, y, sample_weight)\u001b[0m\n\u001b[1;32m    358\u001b[0m             \u001b[0;32mraise\u001b[0m \u001b[0mValueError\u001b[0m\u001b[0;34m(\u001b[0m\u001b[0;34m\"sparse multilabel-indicator for y is not supported.\"\u001b[0m\u001b[0;34m)\u001b[0m\u001b[0;34m\u001b[0m\u001b[0;34m\u001b[0m\u001b[0m\n\u001b[1;32m    359\u001b[0m \u001b[0;34m\u001b[0m\u001b[0m\n\u001b[0;32m--> 360\u001b[0;31m         X, y = validate_data(\n\u001b[0m\u001b[1;32m    361\u001b[0m             \u001b[0mself\u001b[0m\u001b[0;34m,\u001b[0m\u001b[0;34m\u001b[0m\u001b[0;34m\u001b[0m\u001b[0m\n\u001b[1;32m    362\u001b[0m             \u001b[0mX\u001b[0m\u001b[0;34m,\u001b[0m\u001b[0;34m\u001b[0m\u001b[0;34m\u001b[0m\u001b[0m\n",
            "\u001b[0;32m/usr/local/lib/python3.11/dist-packages/sklearn/utils/validation.py\u001b[0m in \u001b[0;36mvalidate_data\u001b[0;34m(_estimator, X, y, reset, validate_separately, skip_check_array, **check_params)\u001b[0m\n\u001b[1;32m   2959\u001b[0m             \u001b[0my\u001b[0m \u001b[0;34m=\u001b[0m \u001b[0mcheck_array\u001b[0m\u001b[0;34m(\u001b[0m\u001b[0my\u001b[0m\u001b[0;34m,\u001b[0m \u001b[0minput_name\u001b[0m\u001b[0;34m=\u001b[0m\u001b[0;34m\"y\"\u001b[0m\u001b[0;34m,\u001b[0m \u001b[0;34m**\u001b[0m\u001b[0mcheck_y_params\u001b[0m\u001b[0;34m)\u001b[0m\u001b[0;34m\u001b[0m\u001b[0;34m\u001b[0m\u001b[0m\n\u001b[1;32m   2960\u001b[0m         \u001b[0;32melse\u001b[0m\u001b[0;34m:\u001b[0m\u001b[0;34m\u001b[0m\u001b[0;34m\u001b[0m\u001b[0m\n\u001b[0;32m-> 2961\u001b[0;31m             \u001b[0mX\u001b[0m\u001b[0;34m,\u001b[0m \u001b[0my\u001b[0m \u001b[0;34m=\u001b[0m \u001b[0mcheck_X_y\u001b[0m\u001b[0;34m(\u001b[0m\u001b[0mX\u001b[0m\u001b[0;34m,\u001b[0m \u001b[0my\u001b[0m\u001b[0;34m,\u001b[0m \u001b[0;34m**\u001b[0m\u001b[0mcheck_params\u001b[0m\u001b[0;34m)\u001b[0m\u001b[0;34m\u001b[0m\u001b[0;34m\u001b[0m\u001b[0m\n\u001b[0m\u001b[1;32m   2962\u001b[0m         \u001b[0mout\u001b[0m \u001b[0;34m=\u001b[0m \u001b[0mX\u001b[0m\u001b[0;34m,\u001b[0m \u001b[0my\u001b[0m\u001b[0;34m\u001b[0m\u001b[0;34m\u001b[0m\u001b[0m\n\u001b[1;32m   2963\u001b[0m \u001b[0;34m\u001b[0m\u001b[0m\n",
            "\u001b[0;32m/usr/local/lib/python3.11/dist-packages/sklearn/utils/validation.py\u001b[0m in \u001b[0;36mcheck_X_y\u001b[0;34m(X, y, accept_sparse, accept_large_sparse, dtype, order, copy, force_writeable, force_all_finite, ensure_all_finite, ensure_2d, allow_nd, multi_output, ensure_min_samples, ensure_min_features, y_numeric, estimator)\u001b[0m\n\u001b[1;32m   1368\u001b[0m     \u001b[0mensure_all_finite\u001b[0m \u001b[0;34m=\u001b[0m \u001b[0m_deprecate_force_all_finite\u001b[0m\u001b[0;34m(\u001b[0m\u001b[0mforce_all_finite\u001b[0m\u001b[0;34m,\u001b[0m \u001b[0mensure_all_finite\u001b[0m\u001b[0;34m)\u001b[0m\u001b[0;34m\u001b[0m\u001b[0;34m\u001b[0m\u001b[0m\n\u001b[1;32m   1369\u001b[0m \u001b[0;34m\u001b[0m\u001b[0m\n\u001b[0;32m-> 1370\u001b[0;31m     X = check_array(\n\u001b[0m\u001b[1;32m   1371\u001b[0m         \u001b[0mX\u001b[0m\u001b[0;34m,\u001b[0m\u001b[0;34m\u001b[0m\u001b[0;34m\u001b[0m\u001b[0m\n\u001b[1;32m   1372\u001b[0m         \u001b[0maccept_sparse\u001b[0m\u001b[0;34m=\u001b[0m\u001b[0maccept_sparse\u001b[0m\u001b[0;34m,\u001b[0m\u001b[0;34m\u001b[0m\u001b[0;34m\u001b[0m\u001b[0m\n",
            "\u001b[0;32m/usr/local/lib/python3.11/dist-packages/sklearn/utils/validation.py\u001b[0m in \u001b[0;36mcheck_array\u001b[0;34m(array, accept_sparse, accept_large_sparse, dtype, order, copy, force_writeable, force_all_finite, ensure_all_finite, ensure_non_negative, ensure_2d, allow_nd, ensure_min_samples, ensure_min_features, estimator, input_name)\u001b[0m\n\u001b[1;32m    971\u001b[0m         \u001b[0;31m# Use the original dtype for conversion if dtype is None\u001b[0m\u001b[0;34m\u001b[0m\u001b[0;34m\u001b[0m\u001b[0m\n\u001b[1;32m    972\u001b[0m         \u001b[0mnew_dtype\u001b[0m \u001b[0;34m=\u001b[0m \u001b[0mdtype_orig\u001b[0m \u001b[0;32mif\u001b[0m \u001b[0mdtype\u001b[0m \u001b[0;32mis\u001b[0m \u001b[0;32mNone\u001b[0m \u001b[0;32melse\u001b[0m \u001b[0mdtype\u001b[0m\u001b[0;34m\u001b[0m\u001b[0;34m\u001b[0m\u001b[0m\n\u001b[0;32m--> 973\u001b[0;31m         \u001b[0marray\u001b[0m \u001b[0;34m=\u001b[0m \u001b[0marray\u001b[0m\u001b[0;34m.\u001b[0m\u001b[0mastype\u001b[0m\u001b[0;34m(\u001b[0m\u001b[0mnew_dtype\u001b[0m\u001b[0;34m)\u001b[0m\u001b[0;34m\u001b[0m\u001b[0;34m\u001b[0m\u001b[0m\n\u001b[0m\u001b[1;32m    974\u001b[0m         \u001b[0;31m# Since we converted here, we do not need to convert again later\u001b[0m\u001b[0;34m\u001b[0m\u001b[0;34m\u001b[0m\u001b[0m\n\u001b[1;32m    975\u001b[0m         \u001b[0mdtype\u001b[0m \u001b[0;34m=\u001b[0m \u001b[0;32mNone\u001b[0m\u001b[0;34m\u001b[0m\u001b[0;34m\u001b[0m\u001b[0m\n",
            "\u001b[0;32m/usr/local/lib/python3.11/dist-packages/pandas/core/generic.py\u001b[0m in \u001b[0;36mastype\u001b[0;34m(self, dtype, copy, errors)\u001b[0m\n\u001b[1;32m   6641\u001b[0m         \u001b[0;32melse\u001b[0m\u001b[0;34m:\u001b[0m\u001b[0;34m\u001b[0m\u001b[0;34m\u001b[0m\u001b[0m\n\u001b[1;32m   6642\u001b[0m             \u001b[0;31m# else, only a single dtype is given\u001b[0m\u001b[0;34m\u001b[0m\u001b[0;34m\u001b[0m\u001b[0m\n\u001b[0;32m-> 6643\u001b[0;31m             \u001b[0mnew_data\u001b[0m \u001b[0;34m=\u001b[0m \u001b[0mself\u001b[0m\u001b[0;34m.\u001b[0m\u001b[0m_mgr\u001b[0m\u001b[0;34m.\u001b[0m\u001b[0mastype\u001b[0m\u001b[0;34m(\u001b[0m\u001b[0mdtype\u001b[0m\u001b[0;34m=\u001b[0m\u001b[0mdtype\u001b[0m\u001b[0;34m,\u001b[0m \u001b[0mcopy\u001b[0m\u001b[0;34m=\u001b[0m\u001b[0mcopy\u001b[0m\u001b[0;34m,\u001b[0m \u001b[0merrors\u001b[0m\u001b[0;34m=\u001b[0m\u001b[0merrors\u001b[0m\u001b[0;34m)\u001b[0m\u001b[0;34m\u001b[0m\u001b[0;34m\u001b[0m\u001b[0m\n\u001b[0m\u001b[1;32m   6644\u001b[0m             \u001b[0mres\u001b[0m \u001b[0;34m=\u001b[0m \u001b[0mself\u001b[0m\u001b[0;34m.\u001b[0m\u001b[0m_constructor_from_mgr\u001b[0m\u001b[0;34m(\u001b[0m\u001b[0mnew_data\u001b[0m\u001b[0;34m,\u001b[0m \u001b[0maxes\u001b[0m\u001b[0;34m=\u001b[0m\u001b[0mnew_data\u001b[0m\u001b[0;34m.\u001b[0m\u001b[0maxes\u001b[0m\u001b[0;34m)\u001b[0m\u001b[0;34m\u001b[0m\u001b[0;34m\u001b[0m\u001b[0m\n\u001b[1;32m   6645\u001b[0m             \u001b[0;32mreturn\u001b[0m \u001b[0mres\u001b[0m\u001b[0;34m.\u001b[0m\u001b[0m__finalize__\u001b[0m\u001b[0;34m(\u001b[0m\u001b[0mself\u001b[0m\u001b[0;34m,\u001b[0m \u001b[0mmethod\u001b[0m\u001b[0;34m=\u001b[0m\u001b[0;34m\"astype\"\u001b[0m\u001b[0;34m)\u001b[0m\u001b[0;34m\u001b[0m\u001b[0;34m\u001b[0m\u001b[0m\n",
            "\u001b[0;32m/usr/local/lib/python3.11/dist-packages/pandas/core/internals/managers.py\u001b[0m in \u001b[0;36mastype\u001b[0;34m(self, dtype, copy, errors)\u001b[0m\n\u001b[1;32m    428\u001b[0m             \u001b[0mcopy\u001b[0m \u001b[0;34m=\u001b[0m \u001b[0;32mFalse\u001b[0m\u001b[0;34m\u001b[0m\u001b[0;34m\u001b[0m\u001b[0m\n\u001b[1;32m    429\u001b[0m \u001b[0;34m\u001b[0m\u001b[0m\n\u001b[0;32m--> 430\u001b[0;31m         return self.apply(\n\u001b[0m\u001b[1;32m    431\u001b[0m             \u001b[0;34m\"astype\"\u001b[0m\u001b[0;34m,\u001b[0m\u001b[0;34m\u001b[0m\u001b[0;34m\u001b[0m\u001b[0m\n\u001b[1;32m    432\u001b[0m             \u001b[0mdtype\u001b[0m\u001b[0;34m=\u001b[0m\u001b[0mdtype\u001b[0m\u001b[0;34m,\u001b[0m\u001b[0;34m\u001b[0m\u001b[0;34m\u001b[0m\u001b[0m\n",
            "\u001b[0;32m/usr/local/lib/python3.11/dist-packages/pandas/core/internals/managers.py\u001b[0m in \u001b[0;36mapply\u001b[0;34m(self, f, align_keys, **kwargs)\u001b[0m\n\u001b[1;32m    361\u001b[0m                 \u001b[0mapplied\u001b[0m \u001b[0;34m=\u001b[0m \u001b[0mb\u001b[0m\u001b[0;34m.\u001b[0m\u001b[0mapply\u001b[0m\u001b[0;34m(\u001b[0m\u001b[0mf\u001b[0m\u001b[0;34m,\u001b[0m \u001b[0;34m**\u001b[0m\u001b[0mkwargs\u001b[0m\u001b[0;34m)\u001b[0m\u001b[0;34m\u001b[0m\u001b[0;34m\u001b[0m\u001b[0m\n\u001b[1;32m    362\u001b[0m             \u001b[0;32melse\u001b[0m\u001b[0;34m:\u001b[0m\u001b[0;34m\u001b[0m\u001b[0;34m\u001b[0m\u001b[0m\n\u001b[0;32m--> 363\u001b[0;31m                 \u001b[0mapplied\u001b[0m \u001b[0;34m=\u001b[0m \u001b[0mgetattr\u001b[0m\u001b[0;34m(\u001b[0m\u001b[0mb\u001b[0m\u001b[0;34m,\u001b[0m \u001b[0mf\u001b[0m\u001b[0;34m)\u001b[0m\u001b[0;34m(\u001b[0m\u001b[0;34m**\u001b[0m\u001b[0mkwargs\u001b[0m\u001b[0;34m)\u001b[0m\u001b[0;34m\u001b[0m\u001b[0;34m\u001b[0m\u001b[0m\n\u001b[0m\u001b[1;32m    364\u001b[0m             \u001b[0mresult_blocks\u001b[0m \u001b[0;34m=\u001b[0m \u001b[0mextend_blocks\u001b[0m\u001b[0;34m(\u001b[0m\u001b[0mapplied\u001b[0m\u001b[0;34m,\u001b[0m \u001b[0mresult_blocks\u001b[0m\u001b[0;34m)\u001b[0m\u001b[0;34m\u001b[0m\u001b[0;34m\u001b[0m\u001b[0m\n\u001b[1;32m    365\u001b[0m \u001b[0;34m\u001b[0m\u001b[0m\n",
            "\u001b[0;32m/usr/local/lib/python3.11/dist-packages/pandas/core/internals/blocks.py\u001b[0m in \u001b[0;36mastype\u001b[0;34m(self, dtype, copy, errors, using_cow, squeeze)\u001b[0m\n\u001b[1;32m    756\u001b[0m             \u001b[0mvalues\u001b[0m \u001b[0;34m=\u001b[0m \u001b[0mvalues\u001b[0m\u001b[0;34m[\u001b[0m\u001b[0;36m0\u001b[0m\u001b[0;34m,\u001b[0m \u001b[0;34m:\u001b[0m\u001b[0;34m]\u001b[0m  \u001b[0;31m# type: ignore[call-overload]\u001b[0m\u001b[0;34m\u001b[0m\u001b[0;34m\u001b[0m\u001b[0m\n\u001b[1;32m    757\u001b[0m \u001b[0;34m\u001b[0m\u001b[0m\n\u001b[0;32m--> 758\u001b[0;31m         \u001b[0mnew_values\u001b[0m \u001b[0;34m=\u001b[0m \u001b[0mastype_array_safe\u001b[0m\u001b[0;34m(\u001b[0m\u001b[0mvalues\u001b[0m\u001b[0;34m,\u001b[0m \u001b[0mdtype\u001b[0m\u001b[0;34m,\u001b[0m \u001b[0mcopy\u001b[0m\u001b[0;34m=\u001b[0m\u001b[0mcopy\u001b[0m\u001b[0;34m,\u001b[0m \u001b[0merrors\u001b[0m\u001b[0;34m=\u001b[0m\u001b[0merrors\u001b[0m\u001b[0;34m)\u001b[0m\u001b[0;34m\u001b[0m\u001b[0;34m\u001b[0m\u001b[0m\n\u001b[0m\u001b[1;32m    759\u001b[0m \u001b[0;34m\u001b[0m\u001b[0m\n\u001b[1;32m    760\u001b[0m         \u001b[0mnew_values\u001b[0m \u001b[0;34m=\u001b[0m \u001b[0mmaybe_coerce_values\u001b[0m\u001b[0;34m(\u001b[0m\u001b[0mnew_values\u001b[0m\u001b[0;34m)\u001b[0m\u001b[0;34m\u001b[0m\u001b[0;34m\u001b[0m\u001b[0m\n",
            "\u001b[0;32m/usr/local/lib/python3.11/dist-packages/pandas/core/dtypes/astype.py\u001b[0m in \u001b[0;36mastype_array_safe\u001b[0;34m(values, dtype, copy, errors)\u001b[0m\n\u001b[1;32m    235\u001b[0m \u001b[0;34m\u001b[0m\u001b[0m\n\u001b[1;32m    236\u001b[0m     \u001b[0;32mtry\u001b[0m\u001b[0;34m:\u001b[0m\u001b[0;34m\u001b[0m\u001b[0;34m\u001b[0m\u001b[0m\n\u001b[0;32m--> 237\u001b[0;31m         \u001b[0mnew_values\u001b[0m \u001b[0;34m=\u001b[0m \u001b[0mastype_array\u001b[0m\u001b[0;34m(\u001b[0m\u001b[0mvalues\u001b[0m\u001b[0;34m,\u001b[0m \u001b[0mdtype\u001b[0m\u001b[0;34m,\u001b[0m \u001b[0mcopy\u001b[0m\u001b[0;34m=\u001b[0m\u001b[0mcopy\u001b[0m\u001b[0;34m)\u001b[0m\u001b[0;34m\u001b[0m\u001b[0;34m\u001b[0m\u001b[0m\n\u001b[0m\u001b[1;32m    238\u001b[0m     \u001b[0;32mexcept\u001b[0m \u001b[0;34m(\u001b[0m\u001b[0mValueError\u001b[0m\u001b[0;34m,\u001b[0m \u001b[0mTypeError\u001b[0m\u001b[0;34m)\u001b[0m\u001b[0;34m:\u001b[0m\u001b[0;34m\u001b[0m\u001b[0;34m\u001b[0m\u001b[0m\n\u001b[1;32m    239\u001b[0m         \u001b[0;31m# e.g. _astype_nansafe can fail on object-dtype of strings\u001b[0m\u001b[0;34m\u001b[0m\u001b[0;34m\u001b[0m\u001b[0m\n",
            "\u001b[0;32m/usr/local/lib/python3.11/dist-packages/pandas/core/dtypes/astype.py\u001b[0m in \u001b[0;36mastype_array\u001b[0;34m(values, dtype, copy)\u001b[0m\n\u001b[1;32m    180\u001b[0m \u001b[0;34m\u001b[0m\u001b[0m\n\u001b[1;32m    181\u001b[0m     \u001b[0;32melse\u001b[0m\u001b[0;34m:\u001b[0m\u001b[0;34m\u001b[0m\u001b[0;34m\u001b[0m\u001b[0m\n\u001b[0;32m--> 182\u001b[0;31m         \u001b[0mvalues\u001b[0m \u001b[0;34m=\u001b[0m \u001b[0m_astype_nansafe\u001b[0m\u001b[0;34m(\u001b[0m\u001b[0mvalues\u001b[0m\u001b[0;34m,\u001b[0m \u001b[0mdtype\u001b[0m\u001b[0;34m,\u001b[0m \u001b[0mcopy\u001b[0m\u001b[0;34m=\u001b[0m\u001b[0mcopy\u001b[0m\u001b[0;34m)\u001b[0m\u001b[0;34m\u001b[0m\u001b[0;34m\u001b[0m\u001b[0m\n\u001b[0m\u001b[1;32m    183\u001b[0m \u001b[0;34m\u001b[0m\u001b[0m\n\u001b[1;32m    184\u001b[0m     \u001b[0;31m# in pandas we don't store numpy str dtypes, so convert to object\u001b[0m\u001b[0;34m\u001b[0m\u001b[0;34m\u001b[0m\u001b[0m\n",
            "\u001b[0;32m/usr/local/lib/python3.11/dist-packages/pandas/core/dtypes/astype.py\u001b[0m in \u001b[0;36m_astype_nansafe\u001b[0;34m(arr, dtype, copy, skipna)\u001b[0m\n\u001b[1;32m    131\u001b[0m     \u001b[0;32mif\u001b[0m \u001b[0mcopy\u001b[0m \u001b[0;32mor\u001b[0m \u001b[0marr\u001b[0m\u001b[0;34m.\u001b[0m\u001b[0mdtype\u001b[0m \u001b[0;34m==\u001b[0m \u001b[0mobject\u001b[0m \u001b[0;32mor\u001b[0m \u001b[0mdtype\u001b[0m \u001b[0;34m==\u001b[0m \u001b[0mobject\u001b[0m\u001b[0;34m:\u001b[0m\u001b[0;34m\u001b[0m\u001b[0;34m\u001b[0m\u001b[0m\n\u001b[1;32m    132\u001b[0m         \u001b[0;31m# Explicit copy, or required since NumPy can't view from / to object.\u001b[0m\u001b[0;34m\u001b[0m\u001b[0;34m\u001b[0m\u001b[0m\n\u001b[0;32m--> 133\u001b[0;31m         \u001b[0;32mreturn\u001b[0m \u001b[0marr\u001b[0m\u001b[0;34m.\u001b[0m\u001b[0mastype\u001b[0m\u001b[0;34m(\u001b[0m\u001b[0mdtype\u001b[0m\u001b[0;34m,\u001b[0m \u001b[0mcopy\u001b[0m\u001b[0;34m=\u001b[0m\u001b[0;32mTrue\u001b[0m\u001b[0;34m)\u001b[0m\u001b[0;34m\u001b[0m\u001b[0;34m\u001b[0m\u001b[0m\n\u001b[0m\u001b[1;32m    134\u001b[0m \u001b[0;34m\u001b[0m\u001b[0m\n\u001b[1;32m    135\u001b[0m     \u001b[0;32mreturn\u001b[0m \u001b[0marr\u001b[0m\u001b[0;34m.\u001b[0m\u001b[0mastype\u001b[0m\u001b[0;34m(\u001b[0m\u001b[0mdtype\u001b[0m\u001b[0;34m,\u001b[0m \u001b[0mcopy\u001b[0m\u001b[0;34m=\u001b[0m\u001b[0mcopy\u001b[0m\u001b[0;34m)\u001b[0m\u001b[0;34m\u001b[0m\u001b[0;34m\u001b[0m\u001b[0m\n",
            "\u001b[0;31mValueError\u001b[0m: could not convert string to float: '4950-BDEUX'"
          ]
        }
      ]
    },
    {
      "cell_type": "code",
      "source": [
        "import pandas as pd\n",
        "import matplotlib.pyplot as plt\n",
        "\n",
        "# Get feature importance\n",
        "feature_importance = pd.Series(rf.feature_importances_, index=X_train.columns)\n",
        "\n",
        "# Sort by importance\n",
        "feature_importance = feature_importance.sort_values(ascending=False)\n",
        "\n",
        "# Plot feature importance\n",
        "plt.figure(figsize=(12,6))\n",
        "feature_importance.plot(kind='bar', color='royalblue')\n",
        "plt.title(\"Feature Importance (Random Forest)\")\n",
        "plt.xlabel(\"Features\")\n",
        "plt.ylabel(\"Importance Score\")\n",
        "plt.show()\n"
      ],
      "metadata": {
        "colab": {
          "base_uri": "https://localhost:8080/",
          "height": 853
        },
        "id": "pIDoRgyK3qjv",
        "outputId": "1dada052-7ab2-4bfe-bfbb-24820e958fde"
      },
      "execution_count": null,
      "outputs": [
        {
          "output_type": "display_data",
          "data": {
            "text/plain": [
              "<Figure size 1200x600 with 1 Axes>"
            ],
            "image/png": "[encoded data removed]"
          },
          "metadata": {}
        }
      ]
    },
    {
      "cell_type": "code",
      "source": [
        "from sklearn.metrics import classification_report, roc_auc_score\n",
        "\n",
        "# Predict on the test set\n",
        "y_pred = rf.predict(X_test)\n",
        "y_pred_proba = rf.predict_proba(X_test)[:, 1]\n",
        "\n",
        "# Classification Report\n",
        "print(\"Classification Report:\\n\", classification_report(y_test, y_pred))\n",
        "\n",
        "# AUC-ROC Score\n",
        "print(\"AUC-ROC Score:\", roc_auc_score(y_test, y_pred_proba))\n"
      ],
      "metadata": {
        "colab": {
          "base_uri": "https://localhost:8080/"
        },
        "id": "X9wkOGOZ5MOh",
        "outputId": "29a44b01-5272-42a0-f14a-7318bd1202d1"
      },
      "execution_count": null,
      "outputs": [
        {
          "output_type": "stream",
          "name": "stdout",
          "text": [
            "Classification Report:\n",
            "               precision    recall  f1-score   support\n",
            "\n",
            "           0       0.89      0.92      0.91      1035\n",
            "           1       0.76      0.68      0.72       374\n",
            "\n",
            "    accuracy                           0.86      1409\n",
            "   macro avg       0.83      0.80      0.81      1409\n",
            "weighted avg       0.86      0.86      0.86      1409\n",
            "\n",
            "AUC-ROC Score: 0.9279805729933608\n"
          ]
        }
      ]
    },
    {
      "cell_type": "code",
      "source": [
        "# Identify low-importance features (threshold: importance < 0.01)\n",
        "low_importance_features = feature_importance[feature_importance < 0.01].index\n",
        "print(\"Dropping low-importance features:\", low_importance_features.tolist())\n",
        "\n",
        "# Drop these features from training and testing datasets\n",
        "X_train_reduced = X_train.drop(columns=low_importance_features)\n",
        "X_test_reduced = X_test.drop(columns=low_importance_features)\n",
        "\n",
        "# Check new shapes\n",
        "print(\"New training shape:\", X_train_reduced.shape)\n",
        "print(\"New testing shape:\", X_test_reduced.shape)\n"
      ],
      "metadata": {
        "colab": {
          "base_uri": "https://localhost:8080/"
        },
        "id": "T8dKKDSl4u4h",
        "outputId": "6a2f27f4-f376-403e-9f0a-7084de9b0534"
      },
      "execution_count": null,
      "outputs": [
        {
          "output_type": "stream",
          "name": "stdout",
          "text": [
            "Dropping low-importance features: ['PaymentMethod_Credit card (automatic)', 'PaymentMethod_Mailed check', 'PhoneService']\n",
            "New training shape: (5634, 22)\n",
            "New testing shape: (1409, 22)\n"
          ]
        }
      ]
    },
    {
      "cell_type": "code",
      "source": [
        "# Retrain Random Forest with reduced features\n",
        "rf_reduced = RandomForestClassifier(n_estimators=100, max_depth=10, random_state=42)\n",
        "rf_reduced.fit(X_train_reduced, y_train)\n",
        "\n",
        "# Evaluate the model\n",
        "from sklearn.metrics import classification_report, roc_auc_score\n",
        "\n",
        "y_pred = rf_reduced.predict(X_test_reduced)\n",
        "y_pred_proba = rf_reduced.predict_proba(X_test_reduced)[:, 1]\n",
        "\n",
        "print(\"Classification Report:\\n\", classification_report(y_test, y_pred))\n",
        "print(\"AUC-ROC Score:\", roc_auc_score(y_test, y_pred_proba))\n"
      ],
      "metadata": {
        "colab": {
          "base_uri": "https://localhost:8080/"
        },
        "id": "goUMfOiW5nAI",
        "outputId": "8aaaa150-c657-4480-f3b1-382c872f70f7"
      },
      "execution_count": null,
      "outputs": [
        {
          "output_type": "stream",
          "name": "stdout",
          "text": [
            "Classification Report:\n",
            "               precision    recall  f1-score   support\n",
            "\n",
            "           0       0.88      0.93      0.91      1035\n",
            "           1       0.77      0.66      0.71       374\n",
            "\n",
            "    accuracy                           0.86      1409\n",
            "   macro avg       0.83      0.79      0.81      1409\n",
            "weighted avg       0.85      0.86      0.85      1409\n",
            "\n",
            "AUC-ROC Score: 0.9289622568394947\n"
          ]
        }
      ]
    },
    {
      "cell_type": "code",
      "source": [
        "from sklearn.metrics import accuracy_score, classification_report, confusion_matrix\n",
        "\n",
        "# Get predictions on the test set\n",
        "y_pred_reduced = rf_reduced.predict(X_test_reduced)\n",
        "\n",
        "# Print Accuracy\n",
        "accuracy = accuracy_score(y_test, y_pred_reduced)\n",
        "print(f\"✅ Model Accuracy on Test Set: {accuracy:.4f}\")\n",
        "\n",
        "# Print Classification Report\n",
        "print(\"\\n📊 Classification Report:\\n\", classification_report(y_test, y_pred_reduced))\n",
        "\n",
        "# Print Confusion Matrix\n",
        "print(\"\\n🔍 Confusion Matrix:\")\n",
        "print(confusion_matrix(y_test, y_pred_reduced))\n"
      ],
      "metadata": {
        "colab": {
          "base_uri": "https://localhost:8080/"
        },
        "id": "us0Wujb3_ZQ_",
        "outputId": "339fb824-1609-4a4d-e5ad-89f0b0e953f6"
      },
      "execution_count": null,
      "outputs": [
        {
          "output_type": "stream",
          "name": "stdout",
          "text": [
            "✅ Model Accuracy on Test Set: 0.8581\n",
            "\n",
            "📊 Classification Report:\n",
            "               precision    recall  f1-score   support\n",
            "\n",
            "           0       0.88      0.93      0.91      1035\n",
            "           1       0.77      0.66      0.71       374\n",
            "\n",
            "    accuracy                           0.86      1409\n",
            "   macro avg       0.83      0.79      0.81      1409\n",
            "weighted avg       0.85      0.86      0.85      1409\n",
            "\n",
            "\n",
            "🔍 Confusion Matrix:\n",
            "[[962  73]\n",
            " [127 247]]\n"
          ]
        }
      ]
    },
    {
      "cell_type": "code",
      "source": [
        "import numpy as np\n",
        "\n",
        "# Example input: Modify these values based on the features in X_train_reduced\n",
        "sample_customer = np.array([[\n",
        "    1,    # gender (Female=1, Male=0)\n",
        "    0,    # SeniorCitizen (0 = No, 1 = Yes)\n",
        "    1,    # Partner (Yes=1, No=0)\n",
        "    0,    # Dependents (Yes=1, No=0)\n",
        "    12,   # tenure (Months with company)\n",
        "    0,    # MultipleLines (Yes=1, No=0)\n",
        "    1,    # OnlineSecurity (Yes=1, No=0)\n",
        "    0,    # OnlineBackup (Yes=1, No=0)\n",
        "    0,    # DeviceProtection (Yes=1, No=0)\n",
        "    1,    # TechSupport (Yes=1, No=0)\n",
        "    1,    # StreamingTV (Yes=1, No=0)\n",
        "    0,    # StreamingMovies (Yes=1, No=0)\n",
        "    1,    # PaperlessBilling (Yes=1, No=0)\n",
        "    75.5, # MonthlyCharges\n",
        "    900.5,# TotalCharges\n",
        "    2,    # numAdminTickets\n",
        "    1,    # numTechTickets\n",
        "    1,    # InternetService_Fiber optic (1=Yes, 0=No)\n",
        "    0,    # InternetService_No (1=Yes, 0=No)\n",
        "    0,    # Contract_One year (1=Yes, 0=No)\n",
        "    1,    # Contract_Two year (1=Yes, 0=No)\n",
        "    0     # PaymentMethod_Electronic check (1=Yes, 0=No)\n",
        "]])\n",
        "\n",
        "# Ensure input shape matches X_train_reduced\n",
        "sample_customer = np.array(sample_customer).reshape(1, -1)\n",
        "\n",
        "# Predict churn probability\n",
        "churn_prediction = rf_reduced.predict(sample_customer)[0]\n",
        "churn_probability = rf_reduced.predict_proba(sample_customer)[0][1]\n",
        "\n",
        "# Print result\n",
        "print(f\"\\n🔮 Prediction for Sample Customer: {'Churn' if churn_prediction == 1 else 'No Churn'}\")\n",
        "print(f\"📊 Churn Probability: {churn_probability:.4f}\")\n"
      ],
      "metadata": {
        "colab": {
          "base_uri": "https://localhost:8080/"
        },
        "id": "wCN0E1Hl_i_t",
        "outputId": "96b3f0da-c6c7-4668-c906-d0bdd15d8bac"
      },
      "execution_count": null,
      "outputs": [
        {
          "output_type": "stream",
          "name": "stdout",
          "text": [
            "\n",
            "🔮 Prediction for Sample Customer: No Churn\n",
            "📊 Churn Probability: 0.4611\n"
          ]
        },
        {
          "output_type": "stream",
          "name": "stderr",
          "text": [
            "/usr/local/lib/python3.11/dist-packages/sklearn/utils/validation.py:2739: UserWarning: X does not have valid feature names, but RandomForestClassifier was fitted with feature names\n",
            "  warnings.warn(\n",
            "/usr/local/lib/python3.11/dist-packages/sklearn/utils/validation.py:2739: UserWarning: X does not have valid feature names, but RandomForestClassifier was fitted with feature names\n",
            "  warnings.warn(\n"
          ]
        }
      ]
    },
    {
      "cell_type": "code",
      "source": [
        "from imblearn.over_sampling import SMOTE\n",
        "\n",
        "smote = SMOTE(random_state=42)\n",
        "X_train_balanced, y_train_balanced = smote.fit_resample(X_train_reduced, y_train)\n",
        "\n",
        "print(\"Class Distribution After SMOTE:\", np.bincount(y_train_balanced))\n"
      ],
      "metadata": {
        "colab": {
          "base_uri": "https://localhost:8080/"
        },
        "id": "P81vel0LCCDd",
        "outputId": "eb9b6a0a-3ca8-4b32-fe97-df4ea65aac8c"
      },
      "execution_count": null,
      "outputs": [
        {
          "output_type": "stream",
          "name": "stdout",
          "text": [
            "Class Distribution After SMOTE: [4139 4139]\n"
          ]
        }
      ]
    },
    {
      "cell_type": "code",
      "source": [
        "rf_weighted = RandomForestClassifier(n_estimators=100, max_depth=10, class_weight={0:1, 1:2}, random_state=42)\n",
        "rf_weighted.fit(X_train_reduced, y_train)\n"
      ],
      "metadata": {
        "colab": {
          "base_uri": "https://localhost:8080/",
          "height": 80
        },
        "id": "Ly6pS1ucCKv1",
        "outputId": "5fc9c187-07d2-4eda-e04d-71b6bb8f72b4"
      },
      "execution_count": null,
      "outputs": [
        {
          "output_type": "execute_result",
          "data": {
            "text/plain": [
              "RandomForestClassifier(class_weight={0: 1, 1: 2}, max_depth=10, random_state=42)"
            ],
            "text/html": [
              "<style>#sk-container-id-2 {\n",
              "  /* Definition of color scheme common for light and dark mode */\n",
              "  --sklearn-color-text: #000;\n",
              "  --sklearn-color-text-muted: #666;\n",
              "  --sklearn-color-line: gray;\n",
              "  /* Definition of color scheme for unfitted estimators */\n",
              "  --sklearn-color-unfitted-level-0: #fff5e6;\n",
              "  --sklearn-color-unfitted-level-1: #f6e4d2;\n",
              "  --sklearn-color-unfitted-level-2: #ffe0b3;\n",
              "  --sklearn-color-unfitted-level-3: chocolate;\n",
              "  /* Definition of color scheme for fitted estimators */\n",
              "  --sklearn-color-fitted-level-0: #f0f8ff;\n",
              "  --sklearn-color-fitted-level-1: #d4ebff;\n",
              "  --sklearn-color-fitted-level-2: #b3dbfd;\n",
              "  --sklearn-color-fitted-level-3: cornflowerblue;\n",
              "\n",
              "  /* Specific color for light theme */\n",
              "  --sklearn-color-text-on-default-background: var(--sg-text-color, var(--theme-code-foreground, var(--jp-content-font-color1, black)));\n",
              "  --sklearn-color-background: var(--sg-background-color, var(--theme-background, var(--jp-layout-color0, white)));\n",
              "  --sklearn-color-border-box: var(--sg-text-color, var(--theme-code-foreground, var(--jp-content-font-color1, black)));\n",
              "  --sklearn-color-icon: #696969;\n",
              "\n",
              "  @media (prefers-color-scheme: dark) {\n",
              "    /* Redefinition of color scheme for dark theme */\n",
              "    --sklearn-color-text-on-default-background: var(--sg-text-color, var(--theme-code-foreground, var(--jp-content-font-color1, white)));\n",
              "    --sklearn-color-background: var(--sg-background-color, var(--theme-background, var(--jp-layout-color0, #111)));\n",
              "    --sklearn-color-border-box: var(--sg-text-color, var(--theme-code-foreground, var(--jp-content-font-color1, white)));\n",
              "    --sklearn-color-icon: #878787;\n",
              "  }\n",
              "}\n",
              "\n",
              "#sk-container-id-2 {\n",
              "  color: var(--sklearn-color-text);\n",
              "}\n",
              "\n",
              "#sk-container-id-2 pre {\n",
              "  padding: 0;\n",
              "}\n",
              "\n",
              "#sk-container-id-2 input.sk-hidden--visually {\n",
              "  border: 0;\n",
              "  clip: rect(1px 1px 1px 1px);\n",
              "  clip: rect(1px, 1px, 1px, 1px);\n",
              "  height: 1px;\n",
              "  margin: -1px;\n",
              "  overflow: hidden;\n",
              "  padding: 0;\n",
              "  position: absolute;\n",
              "  width: 1px;\n",
              "}\n",
              "\n",
              "#sk-container-id-2 div.sk-dashed-wrapped {\n",
              "  border: 1px dashed var(--sklearn-color-line);\n",
              "  margin: 0 0.4em 0.5em 0.4em;\n",
              "  box-sizing: border-box;\n",
              "  padding-bottom: 0.4em;\n",
              "  background-color: var(--sklearn-color-background);\n",
              "}\n",
              "\n",
              "#sk-container-id-2 div.sk-container {\n",
              "  /* jupyter's `normalize.less` sets `[hidden] { display: none; }`\n",
              "     but bootstrap.min.css set `[hidden] { display: none !important; }`\n",
              "     so we also need the `!important` here to be able to override the\n",
              "     default hidden behavior on the sphinx rendered scikit-learn.org.\n",
              "     See: https://github.com/scikit-learn/scikit-learn/issues/21755 */\n",
              "  display: inline-block !important;\n",
              "  position: relative;\n",
              "}\n",
              "\n",
              "#sk-container-id-2 div.sk-text-repr-fallback {\n",
              "  display: none;\n",
              "}\n",
              "\n",
              "div.sk-parallel-item,\n",
              "div.sk-serial,\n",
              "div.sk-item {\n",
              "  /* draw centered vertical line to link estimators */\n",
              "  background-image: linear-gradient(var(--sklearn-color-text-on-default-background), var(--sklearn-color-text-on-default-background));\n",
              "  background-size: 2px 100%;\n",
              "  background-repeat: no-repeat;\n",
              "  background-position: center center;\n",
              "}\n",
              "\n",
              "/* Parallel-specific style estimator block */\n",
              "\n",
              "#sk-container-id-2 div.sk-parallel-item::after {\n",
              "  content: \"\";\n",
              "  width: 100%;\n",
              "  border-bottom: 2px solid var(--sklearn-color-text-on-default-background);\n",
              "  flex-grow: 1;\n",
              "}\n",
              "\n",
              "#sk-container-id-2 div.sk-parallel {\n",
              "  display: flex;\n",
              "  align-items: stretch;\n",
              "  justify-content: center;\n",
              "  background-color: var(--sklearn-color-background);\n",
              "  position: relative;\n",
              "}\n",
              "\n",
              "#sk-container-id-2 div.sk-parallel-item {\n",
              "  display: flex;\n",
              "  flex-direction: column;\n",
              "}\n",
              "\n",
              "#sk-container-id-2 div.sk-parallel-item:first-child::after {\n",
              "  align-self: flex-end;\n",
              "  width: 50%;\n",
              "}\n",
              "\n",
              "#sk-container-id-2 div.sk-parallel-item:last-child::after {\n",
              "  align-self: flex-start;\n",
              "  width: 50%;\n",
              "}\n",
              "\n",
              "#sk-container-id-2 div.sk-parallel-item:only-child::after {\n",
              "  width: 0;\n",
              "}\n",
              "\n",
              "/* Serial-specific style estimator block */\n",
              "\n",
              "#sk-container-id-2 div.sk-serial {\n",
              "  display: flex;\n",
              "  flex-direction: column;\n",
              "  align-items: center;\n",
              "  background-color: var(--sklearn-color-background);\n",
              "  padding-right: 1em;\n",
              "  padding-left: 1em;\n",
              "}\n",
              "\n",
              "\n",
              "/* Toggleable style: style used for estimator/Pipeline/ColumnTransformer box that is\n",
              "clickable and can be expanded/collapsed.\n",
              "- Pipeline and ColumnTransformer use this feature and define the default style\n",
              "- Estimators will overwrite some part of the style using the `sk-estimator` class\n",
              "*/\n",
              "\n",
              "/* Pipeline and ColumnTransformer style (default) */\n",
              "\n",
              "#sk-container-id-2 div.sk-toggleable {\n",
              "  /* Default theme specific background. It is overwritten whether we have a\n",
              "  specific estimator or a Pipeline/ColumnTransformer */\n",
              "  background-color: var(--sklearn-color-background);\n",
              "}\n",
              "\n",
              "/* Toggleable label */\n",
              "#sk-container-id-2 label.sk-toggleable__label {\n",
              "  cursor: pointer;\n",
              "  display: flex;\n",
              "  width: 100%;\n",
              "  margin-bottom: 0;\n",
              "  padding: 0.5em;\n",
              "  box-sizing: border-box;\n",
              "  text-align: center;\n",
              "  align-items: start;\n",
              "  justify-content: space-between;\n",
              "  gap: 0.5em;\n",
              "}\n",
              "\n",
              "#sk-container-id-2 label.sk-toggleable__label .caption {\n",
              "  font-size: 0.6rem;\n",
              "  font-weight: lighter;\n",
              "  color: var(--sklearn-color-text-muted);\n",
              "}\n",
              "\n",
              "#sk-container-id-2 label.sk-toggleable__label-arrow:before {\n",
              "  /* Arrow on the left of the label */\n",
              "  content: \"▸\";\n",
              "  float: left;\n",
              "  margin-right: 0.25em;\n",
              "  color: var(--sklearn-color-icon);\n",
              "}\n",
              "\n",
              "#sk-container-id-2 label.sk-toggleable__label-arrow:hover:before {\n",
              "  color: var(--sklearn-color-text);\n",
              "}\n",
              "\n",
              "/* Toggleable content - dropdown */\n",
              "\n",
              "#sk-container-id-2 div.sk-toggleable__content {\n",
              "  max-height: 0;\n",
              "  max-width: 0;\n",
              "  overflow: hidden;\n",
              "  text-align: left;\n",
              "  /* unfitted */\n",
              "  background-color: var(--sklearn-color-unfitted-level-0);\n",
              "}\n",
              "\n",
              "#sk-container-id-2 div.sk-toggleable__content.fitted {\n",
              "  /* fitted */\n",
              "  background-color: var(--sklearn-color-fitted-level-0);\n",
              "}\n",
              "\n",
              "#sk-container-id-2 div.sk-toggleable__content pre {\n",
              "  margin: 0.2em;\n",
              "  border-radius: 0.25em;\n",
              "  color: var(--sklearn-color-text);\n",
              "  /* unfitted */\n",
              "  background-color: var(--sklearn-color-unfitted-level-0);\n",
              "}\n",
              "\n",
              "#sk-container-id-2 div.sk-toggleable__content.fitted pre {\n",
              "  /* unfitted */\n",
              "  background-color: var(--sklearn-color-fitted-level-0);\n",
              "}\n",
              "\n",
              "#sk-container-id-2 input.sk-toggleable__control:checked~div.sk-toggleable__content {\n",
              "  /* Expand drop-down */\n",
              "  max-height: 200px;\n",
              "  max-width: 100%;\n",
              "  overflow: auto;\n",
              "}\n",
              "\n",
              "#sk-container-id-2 input.sk-toggleable__control:checked~label.sk-toggleable__label-arrow:before {\n",
              "  content: \"▾\";\n",
              "}\n",
              "\n",
              "/* Pipeline/ColumnTransformer-specific style */\n",
              "\n",
              "#sk-container-id-2 div.sk-label input.sk-toggleable__control:checked~label.sk-toggleable__label {\n",
              "  color: var(--sklearn-color-text);\n",
              "  background-color: var(--sklearn-color-unfitted-level-2);\n",
              "}\n",
              "\n",
              "#sk-container-id-2 div.sk-label.fitted input.sk-toggleable__control:checked~label.sk-toggleable__label {\n",
              "  background-color: var(--sklearn-color-fitted-level-2);\n",
              "}\n",
              "\n",
              "/* Estimator-specific style */\n",
              "\n",
              "/* Colorize estimator box */\n",
              "#sk-container-id-2 div.sk-estimator input.sk-toggleable__control:checked~label.sk-toggleable__label {\n",
              "  /* unfitted */\n",
              "  background-color: var(--sklearn-color-unfitted-level-2);\n",
              "}\n",
              "\n",
              "#sk-container-id-2 div.sk-estimator.fitted input.sk-toggleable__control:checked~label.sk-toggleable__label {\n",
              "  /* fitted */\n",
              "  background-color: var(--sklearn-color-fitted-level-2);\n",
              "}\n",
              "\n",
              "#sk-container-id-2 div.sk-label label.sk-toggleable__label,\n",
              "#sk-container-id-2 div.sk-label label {\n",
              "  /* The background is the default theme color */\n",
              "  color: var(--sklearn-color-text-on-default-background);\n",
              "}\n",
              "\n",
              "/* On hover, darken the color of the background */\n",
              "#sk-container-id-2 div.sk-label:hover label.sk-toggleable__label {\n",
              "  color: var(--sklearn-color-text);\n",
              "  background-color: var(--sklearn-color-unfitted-level-2);\n",
              "}\n",
              "\n",
              "/* Label box, darken color on hover, fitted */\n",
              "#sk-container-id-2 div.sk-label.fitted:hover label.sk-toggleable__label.fitted {\n",
              "  color: var(--sklearn-color-text);\n",
              "  background-color: var(--sklearn-color-fitted-level-2);\n",
              "}\n",
              "\n",
              "/* Estimator label */\n",
              "\n",
              "#sk-container-id-2 div.sk-label label {\n",
              "  font-family: monospace;\n",
              "  font-weight: bold;\n",
              "  display: inline-block;\n",
              "  line-height: 1.2em;\n",
              "}\n",
              "\n",
              "#sk-container-id-2 div.sk-label-container {\n",
              "  text-align: center;\n",
              "}\n",
              "\n",
              "/* Estimator-specific */\n",
              "#sk-container-id-2 div.sk-estimator {\n",
              "  font-family: monospace;\n",
              "  border: 1px dotted var(--sklearn-color-border-box);\n",
              "  border-radius: 0.25em;\n",
              "  box-sizing: border-box;\n",
              "  margin-bottom: 0.5em;\n",
              "  /* unfitted */\n",
              "  background-color: var(--sklearn-color-unfitted-level-0);\n",
              "}\n",
              "\n",
              "#sk-container-id-2 div.sk-estimator.fitted {\n",
              "  /* fitted */\n",
              "  background-color: var(--sklearn-color-fitted-level-0);\n",
              "}\n",
              "\n",
              "/* on hover */\n",
              "#sk-container-id-2 div.sk-estimator:hover {\n",
              "  /* unfitted */\n",
              "  background-color: var(--sklearn-color-unfitted-level-2);\n",
              "}\n",
              "\n",
              "#sk-container-id-2 div.sk-estimator.fitted:hover {\n",
              "  /* fitted */\n",
              "  background-color: var(--sklearn-color-fitted-level-2);\n",
              "}\n",
              "\n",
              "/* Specification for estimator info (e.g. \"i\" and \"?\") */\n",
              "\n",
              "/* Common style for \"i\" and \"?\" */\n",
              "\n",
              ".sk-estimator-doc-link,\n",
              "a:link.sk-estimator-doc-link,\n",
              "a:visited.sk-estimator-doc-link {\n",
              "  float: right;\n",
              "  font-size: smaller;\n",
              "  line-height: 1em;\n",
              "  font-family: monospace;\n",
              "  background-color: var(--sklearn-color-background);\n",
              "  border-radius: 1em;\n",
              "  height: 1em;\n",
              "  width: 1em;\n",
              "  text-decoration: none !important;\n",
              "  margin-left: 0.5em;\n",
              "  text-align: center;\n",
              "  /* unfitted */\n",
              "  border: var(--sklearn-color-unfitted-level-1) 1pt solid;\n",
              "  color: var(--sklearn-color-unfitted-level-1);\n",
              "}\n",
              "\n",
              ".sk-estimator-doc-link.fitted,\n",
              "a:link.sk-estimator-doc-link.fitted,\n",
              "a:visited.sk-estimator-doc-link.fitted {\n",
              "  /* fitted */\n",
              "  border: var(--sklearn-color-fitted-level-1) 1pt solid;\n",
              "  color: var(--sklearn-color-fitted-level-1);\n",
              "}\n",
              "\n",
              "/* On hover */\n",
              "div.sk-estimator:hover .sk-estimator-doc-link:hover,\n",
              ".sk-estimator-doc-link:hover,\n",
              "div.sk-label-container:hover .sk-estimator-doc-link:hover,\n",
              ".sk-estimator-doc-link:hover {\n",
              "  /* unfitted */\n",
              "  background-color: var(--sklearn-color-unfitted-level-3);\n",
              "  color: var(--sklearn-color-background);\n",
              "  text-decoration: none;\n",
              "}\n",
              "\n",
              "div.sk-estimator.fitted:hover .sk-estimator-doc-link.fitted:hover,\n",
              ".sk-estimator-doc-link.fitted:hover,\n",
              "div.sk-label-container:hover .sk-estimator-doc-link.fitted:hover,\n",
              ".sk-estimator-doc-link.fitted:hover {\n",
              "  /* fitted */\n",
              "  background-color: var(--sklearn-color-fitted-level-3);\n",
              "  color: var(--sklearn-color-background);\n",
              "  text-decoration: none;\n",
              "}\n",
              "\n",
              "/* Span, style for the box shown on hovering the info icon */\n",
              ".sk-estimator-doc-link span {\n",
              "  display: none;\n",
              "  z-index: 9999;\n",
              "  position: relative;\n",
              "  font-weight: normal;\n",
              "  right: .2ex;\n",
              "  padding: .5ex;\n",
              "  margin: .5ex;\n",
              "  width: min-content;\n",
              "  min-width: 20ex;\n",
              "  max-width: 50ex;\n",
              "  color: var(--sklearn-color-text);\n",
              "  box-shadow: 2pt 2pt 4pt #999;\n",
              "  /* unfitted */\n",
              "  background: var(--sklearn-color-unfitted-level-0);\n",
              "  border: .5pt solid var(--sklearn-color-unfitted-level-3);\n",
              "}\n",
              "\n",
              ".sk-estimator-doc-link.fitted span {\n",
              "  /* fitted */\n",
              "  background: var(--sklearn-color-fitted-level-0);\n",
              "  border: var(--sklearn-color-fitted-level-3);\n",
              "}\n",
              "\n",
              ".sk-estimator-doc-link:hover span {\n",
              "  display: block;\n",
              "}\n",
              "\n",
              "/* \"?\"-specific style due to the `<a>` HTML tag */\n",
              "\n",
              "#sk-container-id-2 a.estimator_doc_link {\n",
              "  float: right;\n",
              "  font-size: 1rem;\n",
              "  line-height: 1em;\n",
              "  font-family: monospace;\n",
              "  background-color: var(--sklearn-color-background);\n",
              "  border-radius: 1rem;\n",
              "  height: 1rem;\n",
              "  width: 1rem;\n",
              "  text-decoration: none;\n",
              "  /* unfitted */\n",
              "  color: var(--sklearn-color-unfitted-level-1);\n",
              "  border: var(--sklearn-color-unfitted-level-1) 1pt solid;\n",
              "}\n",
              "\n",
              "#sk-container-id-2 a.estimator_doc_link.fitted {\n",
              "  /* fitted */\n",
              "  border: var(--sklearn-color-fitted-level-1) 1pt solid;\n",
              "  color: var(--sklearn-color-fitted-level-1);\n",
              "}\n",
              "\n",
              "/* On hover */\n",
              "#sk-container-id-2 a.estimator_doc_link:hover {\n",
              "  /* unfitted */\n",
              "  background-color: var(--sklearn-color-unfitted-level-3);\n",
              "  color: var(--sklearn-color-background);\n",
              "  text-decoration: none;\n",
              "}\n",
              "\n",
              "#sk-container-id-2 a.estimator_doc_link.fitted:hover {\n",
              "  /* fitted */\n",
              "  background-color: var(--sklearn-color-fitted-level-3);\n",
              "}\n",
              "</style><div id=\"sk-container-id-2\" class=\"sk-top-container\"><div class=\"sk-text-repr-fallback\"><pre>RandomForestClassifier(class_weight={0: 1, 1: 2}, max_depth=10, random_state=42)</pre><b>In a Jupyter environment, please rerun this cell to show the HTML representation or trust the notebook. <br />On GitHub, the HTML representation is unable to render, please try loading this page with nbviewer.org.</b></div><div class=\"sk-container\" hidden><div class=\"sk-item\"><div class=\"sk-estimator fitted sk-toggleable\"><input class=\"sk-toggleable__control sk-hidden--visually\" id=\"sk-estimator-id-2\" type=\"checkbox\" checked><label for=\"sk-estimator-id-2\" class=\"sk-toggleable__label fitted sk-toggleable__label-arrow\"><div><div>RandomForestClassifier</div></div><div><a class=\"sk-estimator-doc-link fitted\" rel=\"noreferrer\" target=\"_blank\" href=\"https://scikit-learn.org/1.6/modules/generated/sklearn.ensemble.RandomForestClassifier.html\">?<span>Documentation for RandomForestClassifier</span></a><span class=\"sk-estimator-doc-link fitted\">i<span>Fitted</span></span></div></label><div class=\"sk-toggleable__content fitted\"><pre>RandomForestClassifier(class_weight={0: 1, 1: 2}, max_depth=10, random_state=42)</pre></div> </div></div></div></div>"
            ]
          },
          "metadata": {},
          "execution_count": 80
        }
      ]
    },
    {
      "cell_type": "code",
      "source": [
        "from xgboost import XGBClassifier\n",
        "\n",
        "xgb = XGBClassifier(n_estimators=200, learning_rate=0.1, max_depth=5, scale_pos_weight=2, random_state=42)\n",
        "xgb.fit(X_train_reduced, y_train)\n",
        "print(f\"XGBoost Accuracy: {xgb.score(X_test_reduced, y_test):.4f}\")\n"
      ],
      "metadata": {
        "colab": {
          "base_uri": "https://localhost:8080/"
        },
        "id": "IRy-LmbJCQmx",
        "outputId": "93b7d5dd-fa68-43cf-c0a6-ceb0feabeff3"
      },
      "execution_count": null,
      "outputs": [
        {
          "output_type": "stream",
          "name": "stdout",
          "text": [
            "XGBoost Accuracy: 0.8495\n"
          ]
        }
      ]
    },
    {
      "cell_type": "code",
      "source": [
        "from sklearn.metrics import classification_report, roc_auc_score\n",
        "\n",
        "# Get XGBoost predictions\n",
        "y_pred_xgb = xgb.predict(X_test_reduced)\n",
        "y_pred_xgb_proba = xgb.predict_proba(X_test_reduced)[:, 1]\n",
        "\n",
        "# Classification Report\n",
        "print(\"\\n📊 Classification Report (XGBoost):\\n\", classification_report(y_test, y_pred_xgb))\n",
        "\n",
        "# AUC-ROC Score\n",
        "print(\"\\n📈 AUC-ROC Score (XGBoost):\", roc_auc_score(y_test, y_pred_xgb_proba))\n"
      ],
      "metadata": {
        "colab": {
          "base_uri": "https://localhost:8080/"
        },
        "id": "9XLjwYP1Eb2t",
        "outputId": "cc3575dc-88ca-46f8-9643-322626accab9"
      },
      "execution_count": null,
      "outputs": [
        {
          "output_type": "stream",
          "name": "stdout",
          "text": [
            "\n",
            "📊 Classification Report (XGBoost):\n",
            "               precision    recall  f1-score   support\n",
            "\n",
            "           0       0.92      0.87      0.89      1035\n",
            "           1       0.69      0.79      0.74       374\n",
            "\n",
            "    accuracy                           0.85      1409\n",
            "   macro avg       0.80      0.83      0.82      1409\n",
            "weighted avg       0.86      0.85      0.85      1409\n",
            "\n",
            "\n",
            "📈 AUC-ROC Score (XGBoost): 0.9307990389831822\n"
          ]
        }
      ]
    },
    {
      "cell_type": "code",
      "source": [
        "from imblearn.over_sampling import SMOTE\n",
        "import numpy as np\n",
        "\n",
        "# Apply SMOTE to the training data\n",
        "smote = SMOTE(random_state=42)\n",
        "X_train_smote, y_train_smote = smote.fit_resample(X_train_reduced, y_train)\n",
        "\n",
        "# Check new class distribution\n",
        "print(\"Class distribution after SMOTE:\", np.bincount(y_train_smote))\n"
      ],
      "metadata": {
        "colab": {
          "base_uri": "https://localhost:8080/"
        },
        "id": "Tand_IMKFSA7",
        "outputId": "e6760d9b-fe84-4068-f3e7-eaf172731859"
      },
      "execution_count": null,
      "outputs": [
        {
          "output_type": "stream",
          "name": "stdout",
          "text": [
            "Class distribution after SMOTE: [4139 4139]\n"
          ]
        }
      ]
    },
    {
      "cell_type": "code",
      "source": [
        "from sklearn.ensemble import RandomForestClassifier\n",
        "from sklearn.metrics import classification_report, roc_auc_score\n",
        "\n",
        "# Train Random Forest on SMOTE-balanced data\n",
        "rf_smote = RandomForestClassifier(n_estimators=100, max_depth=10, random_state=42)\n",
        "rf_smote.fit(X_train_smote, y_train_smote)\n",
        "\n",
        "# Predict on test set\n",
        "y_pred_rf_smote = rf_smote.predict(X_test_reduced)\n",
        "y_pred_rf_smote_proba = rf_smote.predict_proba(X_test_reduced)[:, 1]\n",
        "\n",
        "# Evaluate model performance\n",
        "print(\"\\n📊 Classification Report (RF + SMOTE):\\n\", classification_report(y_test, y_pred_rf_smote))\n",
        "print(\"\\n📈 AUC-ROC Score (RF + SMOTE):\", roc_auc_score(y_test, y_pred_rf_smote_proba))\n"
      ],
      "metadata": {
        "colab": {
          "base_uri": "https://localhost:8080/"
        },
        "id": "_ERPqZWEFtQl",
        "outputId": "aaa559a7-a13d-497f-f2a4-6ca4f0ede207"
      },
      "execution_count": null,
      "outputs": [
        {
          "output_type": "stream",
          "name": "stdout",
          "text": [
            "\n",
            "📊 Classification Report (RF + SMOTE):\n",
            "               precision    recall  f1-score   support\n",
            "\n",
            "           0       0.93      0.85      0.89      1035\n",
            "           1       0.67      0.83      0.74       374\n",
            "\n",
            "    accuracy                           0.84      1409\n",
            "   macro avg       0.80      0.84      0.81      1409\n",
            "weighted avg       0.86      0.84      0.85      1409\n",
            "\n",
            "\n",
            "📈 AUC-ROC Score (RF + SMOTE): 0.9155571055826812\n"
          ]
        }
      ]
    },
    {
      "cell_type": "markdown",
      "source": [
        " TL;DR: Which Model to Use?\n",
        "Use XGBoost → If the company wants to save money and only target the most likely churners.\n",
        "Use Random Forest → If the company doesn’t care about cost and just wants to keep as many customers as possible.\n"
      ],
      "metadata": {
        "id": "1ELA3I1YIR5z"
      }
    },
    {
      "cell_type": "code",
      "source": [
        "from sklearn.linear_model import LogisticRegression\n",
        "from sklearn.metrics import classification_report, roc_auc_score\n",
        "\n",
        "lr = LogisticRegression(class_weight='balanced', max_iter=500, random_state=42)\n",
        "lr.fit(X_train_reduced, y_train)\n",
        "\n",
        "y_pred_lr = lr.predict(X_test_reduced)\n",
        "y_pred_proba_lr = lr.predict_proba(X_test_reduced)[:, 1]\n",
        "\n",
        "print(\"📊 Logistic Regression Report:\\n\", classification_report(y_test, y_pred_lr))\n",
        "print(\"📈 AUC-ROC Score (Logistic Regression):\", roc_auc_score(y_test, y_pred_proba_lr))\n"
      ],
      "metadata": {
        "colab": {
          "base_uri": "https://localhost:8080/"
        },
        "id": "Xrh-E1AxJkFU",
        "outputId": "0d915648-abe5-4c79-ec6b-7284b60bdcea"
      },
      "execution_count": null,
      "outputs": [
        {
          "output_type": "stream",
          "name": "stdout",
          "text": [
            "📊 Logistic Regression Report:\n",
            "               precision    recall  f1-score   support\n",
            "\n",
            "           0       0.94      0.82      0.88      1035\n",
            "           1       0.63      0.86      0.73       374\n",
            "\n",
            "    accuracy                           0.83      1409\n",
            "   macro avg       0.79      0.84      0.80      1409\n",
            "weighted avg       0.86      0.83      0.84      1409\n",
            "\n",
            "📈 AUC-ROC Score (Logistic Regression): 0.9266966338577592\n"
          ]
        },
        {
          "output_type": "stream",
          "name": "stderr",
          "text": [
            "/usr/local/lib/python3.11/dist-packages/sklearn/linear_model/_logistic.py:465: ConvergenceWarning: lbfgs failed to converge (status=1):\n",
            "STOP: TOTAL NO. of ITERATIONS REACHED LIMIT.\n",
            "\n",
            "Increase the number of iterations (max_iter) or scale the data as shown in:\n",
            "    https://scikit-learn.org/stable/modules/preprocessing.html\n",
            "Please also refer to the documentation for alternative solver options:\n",
            "    https://scikit-learn.org/stable/modules/linear_model.html#logistic-regression\n",
            "  n_iter_i = _check_optimize_result(\n"
          ]
        }
      ]
    },
    {
      "cell_type": "code",
      "source": [
        "from lightgbm import LGBMClassifier\n",
        "\n",
        "lgb = LGBMClassifier(n_estimators=200, learning_rate=0.1, max_depth=5, class_weight='balanced', random_state=42)\n",
        "lgb.fit(X_train_reduced, y_train)\n",
        "\n",
        "y_pred_lgb = lgb.predict(X_test_reduced)\n",
        "y_pred_proba_lgb = lgb.predict_proba(X_test_reduced)[:, 1]\n",
        "\n",
        "print(\"📊 LightGBM Report:\\n\", classification_report(y_test, y_pred_lgb))\n",
        "print(\"📈 AUC-ROC Score (LightGBM):\", roc_auc_score(y_test, y_pred_proba_lgb))\n"
      ],
      "metadata": {
        "colab": {
          "base_uri": "https://localhost:8080/"
        },
        "id": "PF0kI_fWJnvx",
        "outputId": "a0fa3b84-428a-414c-cda6-d832e50dec94"
      },
      "execution_count": null,
      "outputs": [
        {
          "output_type": "stream",
          "name": "stderr",
          "text": [
            "/usr/local/lib/python3.11/dist-packages/dask/dataframe/__init__.py:42: FutureWarning: \n",
            "Dask dataframe query planning is disabled because dask-expr is not installed.\n",
            "\n",
            "You can install it with `pip install dask[dataframe]` or `conda install dask`.\n",
            "This will raise in a future version.\n",
            "\n",
            "  warnings.warn(msg, FutureWarning)\n"
          ]
        },
        {
          "output_type": "stream",
          "name": "stdout",
          "text": [
            "[LightGBM] [Warning] Found whitespace in feature_names, replace with underlines\n",
            "[LightGBM] [Info] Number of positive: 1495, number of negative: 4139\n",
            "[LightGBM] [Info] Auto-choosing row-wise multi-threading, the overhead of testing was 0.002490 seconds.\n",
            "You can set `force_row_wise=true` to remove the overhead.\n",
            "And if memory is not enough, you can set `force_col_wise=true`.\n",
            "[LightGBM] [Info] Total Bins 475\n",
            "[LightGBM] [Info] Number of data points in the train set: 5634, number of used features: 22\n",
            "[LightGBM] [Info] [binary:BoostFromScore]: pavg=0.500000 -> initscore=0.000000\n",
            "[LightGBM] [Info] Start training from score 0.000000\n",
            "[LightGBM] [Warning] No further splits with positive gain, best gain: -inf\n",
            "[LightGBM] [Warning] No further splits with positive gain, best gain: -inf\n",
            "[LightGBM] [Warning] No further splits with positive gain, best gain: -inf\n",
            "[LightGBM] [Warning] No further splits with positive gain, best gain: -inf\n",
            "[LightGBM] [Warning] No further splits with positive gain, best gain: -inf\n",
            "[LightGBM] [Warning] No further splits with positive gain, best gain: -inf\n",
            "[LightGBM] [Warning] No further splits with positive gain, best gain: -inf\n",
            "[LightGBM] [Warning] No further splits with positive gain, best gain: -inf\n",
            "[LightGBM] [Warning] No further splits with positive gain, best gain: -inf\n",
            "[LightGBM] [Warning] No further splits with positive gain, best gain: -inf\n",
            "[LightGBM] [Warning] No further splits with positive gain, best gain: -inf\n",
            "[LightGBM] [Warning] No further splits with positive gain, best gain: -inf\n",
            "[LightGBM] [Warning] No further splits with positive gain, best gain: -inf\n",
            "[LightGBM] [Warning] No further splits with positive gain, best gain: -inf\n",
            "[LightGBM] [Warning] No further splits with positive gain, best gain: -inf\n",
            "[LightGBM] [Warning] No further splits with positive gain, best gain: -inf\n",
            "[LightGBM] [Warning] No further splits with positive gain, best gain: -inf\n",
            "[LightGBM] [Warning] No further splits with positive gain, best gain: -inf\n",
            "[LightGBM] [Warning] No further splits with positive gain, best gain: -inf\n",
            "[LightGBM] [Warning] No further splits with positive gain, best gain: -inf\n",
            "[LightGBM] [Warning] No further splits with positive gain, best gain: -inf\n",
            "[LightGBM] [Warning] No further splits with positive gain, best gain: -inf\n",
            "[LightGBM] [Warning] No further splits with positive gain, best gain: -inf\n",
            "[LightGBM] [Warning] No further splits with positive gain, best gain: -inf\n",
            "[LightGBM] [Warning] No further splits with positive gain, best gain: -inf\n",
            "[LightGBM] [Warning] No further splits with positive gain, best gain: -inf\n",
            "[LightGBM] [Warning] No further splits with positive gain, best gain: -inf\n",
            "[LightGBM] [Warning] No further splits with positive gain, best gain: -inf\n",
            "[LightGBM] [Warning] No further splits with positive gain, best gain: -inf\n",
            "[LightGBM] [Warning] No further splits with positive gain, best gain: -inf\n",
            "[LightGBM] [Warning] No further splits with positive gain, best gain: -inf\n",
            "[LightGBM] [Warning] No further splits with positive gain, best gain: -inf\n",
            "[LightGBM] [Warning] No further splits with positive gain, best gain: -inf\n",
            "[LightGBM] [Warning] No further splits with positive gain, best gain: -inf\n",
            "[LightGBM] [Warning] No further splits with positive gain, best gain: -inf\n",
            "[LightGBM] [Warning] No further splits with positive gain, best gain: -inf\n",
            "[LightGBM] [Warning] No further splits with positive gain, best gain: -inf\n",
            "[LightGBM] [Warning] No further splits with positive gain, best gain: -inf\n",
            "[LightGBM] [Warning] No further splits with positive gain, best gain: -inf\n",
            "[LightGBM] [Warning] No further splits with positive gain, best gain: -inf\n",
            "[LightGBM] [Warning] No further splits with positive gain, best gain: -inf\n",
            "[LightGBM] [Warning] No further splits with positive gain, best gain: -inf\n",
            "[LightGBM] [Warning] No further splits with positive gain, best gain: -inf\n",
            "[LightGBM] [Warning] No further splits with positive gain, best gain: -inf\n",
            "[LightGBM] [Warning] No further splits with positive gain, best gain: -inf\n",
            "[LightGBM] [Warning] No further splits with positive gain, best gain: -inf\n",
            "[LightGBM] [Warning] No further splits with positive gain, best gain: -inf\n",
            "[LightGBM] [Warning] No further splits with positive gain, best gain: -inf\n",
            "[LightGBM] [Warning] No further splits with positive gain, best gain: -inf\n",
            "[LightGBM] [Warning] No further splits with positive gain, best gain: -inf\n",
            "[LightGBM] [Warning] No further splits with positive gain, best gain: -inf\n",
            "[LightGBM] [Warning] No further splits with positive gain, best gain: -inf\n",
            "[LightGBM] [Warning] No further splits with positive gain, best gain: -inf\n",
            "[LightGBM] [Warning] No further splits with positive gain, best gain: -inf\n",
            "[LightGBM] [Warning] No further splits with positive gain, best gain: -inf\n",
            "[LightGBM] [Warning] No further splits with positive gain, best gain: -inf\n",
            "[LightGBM] [Warning] No further splits with positive gain, best gain: -inf\n",
            "[LightGBM] [Warning] No further splits with positive gain, best gain: -inf\n",
            "[LightGBM] [Warning] No further splits with positive gain, best gain: -inf\n",
            "[LightGBM] [Warning] No further splits with positive gain, best gain: -inf\n",
            "[LightGBM] [Warning] No further splits with positive gain, best gain: -inf\n",
            "[LightGBM] [Warning] No further splits with positive gain, best gain: -inf\n",
            "[LightGBM] [Warning] No further splits with positive gain, best gain: -inf\n",
            "[LightGBM] [Warning] No further splits with positive gain, best gain: -inf\n",
            "[LightGBM] [Warning] No further splits with positive gain, best gain: -inf\n",
            "[LightGBM] [Warning] No further splits with positive gain, best gain: -inf\n",
            "[LightGBM] [Warning] No further splits with positive gain, best gain: -inf\n",
            "[LightGBM] [Warning] No further splits with positive gain, best gain: -inf\n",
            "[LightGBM] [Warning] No further splits with positive gain, best gain: -inf\n",
            "[LightGBM] [Warning] No further splits with positive gain, best gain: -inf\n",
            "[LightGBM] [Warning] No further splits with positive gain, best gain: -inf\n",
            "[LightGBM] [Warning] No further splits with positive gain, best gain: -inf\n",
            "[LightGBM] [Warning] No further splits with positive gain, best gain: -inf\n",
            "[LightGBM] [Warning] No further splits with positive gain, best gain: -inf\n",
            "[LightGBM] [Warning] No further splits with positive gain, best gain: -inf\n",
            "[LightGBM] [Warning] No further splits with positive gain, best gain: -inf\n",
            "[LightGBM] [Warning] No further splits with positive gain, best gain: -inf\n",
            "[LightGBM] [Warning] No further splits with positive gain, best gain: -inf\n",
            "[LightGBM] [Warning] No further splits with positive gain, best gain: -inf\n",
            "[LightGBM] [Warning] No further splits with positive gain, best gain: -inf\n",
            "[LightGBM] [Warning] No further splits with positive gain, best gain: -inf\n",
            "[LightGBM] [Warning] No further splits with positive gain, best gain: -inf\n",
            "[LightGBM] [Warning] No further splits with positive gain, best gain: -inf\n",
            "[LightGBM] [Warning] No further splits with positive gain, best gain: -inf\n",
            "[LightGBM] [Warning] No further splits with positive gain, best gain: -inf\n",
            "[LightGBM] [Warning] No further splits with positive gain, best gain: -inf\n",
            "[LightGBM] [Warning] No further splits with positive gain, best gain: -inf\n",
            "[LightGBM] [Warning] No further splits with positive gain, best gain: -inf\n",
            "[LightGBM] [Warning] No further splits with positive gain, best gain: -inf\n",
            "[LightGBM] [Warning] No further splits with positive gain, best gain: -inf\n",
            "[LightGBM] [Warning] No further splits with positive gain, best gain: -inf\n",
            "[LightGBM] [Warning] No further splits with positive gain, best gain: -inf\n",
            "[LightGBM] [Warning] No further splits with positive gain, best gain: -inf\n",
            "[LightGBM] [Warning] No further splits with positive gain, best gain: -inf\n",
            "[LightGBM] [Warning] No further splits with positive gain, best gain: -inf\n",
            "[LightGBM] [Warning] No further splits with positive gain, best gain: -inf\n",
            "[LightGBM] [Warning] No further splits with positive gain, best gain: -inf\n",
            "[LightGBM] [Warning] No further splits with positive gain, best gain: -inf\n",
            "[LightGBM] [Warning] No further splits with positive gain, best gain: -inf\n",
            "[LightGBM] [Warning] No further splits with positive gain, best gain: -inf\n",
            "[LightGBM] [Warning] No further splits with positive gain, best gain: -inf\n",
            "[LightGBM] [Warning] No further splits with positive gain, best gain: -inf\n",
            "[LightGBM] [Warning] No further splits with positive gain, best gain: -inf\n",
            "[LightGBM] [Warning] No further splits with positive gain, best gain: -inf\n",
            "[LightGBM] [Warning] No further splits with positive gain, best gain: -inf\n",
            "[LightGBM] [Warning] No further splits with positive gain, best gain: -inf\n",
            "[LightGBM] [Warning] No further splits with positive gain, best gain: -inf\n",
            "[LightGBM] [Warning] No further splits with positive gain, best gain: -inf\n",
            "[LightGBM] [Warning] No further splits with positive gain, best gain: -inf\n",
            "[LightGBM] [Warning] No further splits with positive gain, best gain: -inf\n",
            "[LightGBM] [Warning] No further splits with positive gain, best gain: -inf\n",
            "[LightGBM] [Warning] No further splits with positive gain, best gain: -inf\n",
            "[LightGBM] [Warning] No further splits with positive gain, best gain: -inf\n",
            "[LightGBM] [Warning] No further splits with positive gain, best gain: -inf\n",
            "[LightGBM] [Warning] No further splits with positive gain, best gain: -inf\n",
            "[LightGBM] [Warning] No further splits with positive gain, best gain: -inf\n",
            "[LightGBM] [Warning] No further splits with positive gain, best gain: -inf\n",
            "[LightGBM] [Warning] No further splits with positive gain, best gain: -inf\n",
            "[LightGBM] [Warning] No further splits with positive gain, best gain: -inf\n",
            "[LightGBM] [Warning] No further splits with positive gain, best gain: -inf\n",
            "[LightGBM] [Warning] No further splits with positive gain, best gain: -inf\n",
            "[LightGBM] [Warning] No further splits with positive gain, best gain: -inf\n",
            "[LightGBM] [Warning] No further splits with positive gain, best gain: -inf\n",
            "[LightGBM] [Warning] No further splits with positive gain, best gain: -inf\n",
            "[LightGBM] [Warning] No further splits with positive gain, best gain: -inf\n",
            "[LightGBM] [Warning] No further splits with positive gain, best gain: -inf\n",
            "[LightGBM] [Warning] No further splits with positive gain, best gain: -inf\n",
            "[LightGBM] [Warning] No further splits with positive gain, best gain: -inf\n",
            "[LightGBM] [Warning] No further splits with positive gain, best gain: -inf\n",
            "[LightGBM] [Warning] No further splits with positive gain, best gain: -inf\n",
            "[LightGBM] [Warning] No further splits with positive gain, best gain: -inf\n",
            "[LightGBM] [Warning] No further splits with positive gain, best gain: -inf\n",
            "[LightGBM] [Warning] No further splits with positive gain, best gain: -inf\n",
            "[LightGBM] [Warning] No further splits with positive gain, best gain: -inf\n",
            "[LightGBM] [Warning] No further splits with positive gain, best gain: -inf\n",
            "[LightGBM] [Warning] No further splits with positive gain, best gain: -inf\n",
            "[LightGBM] [Warning] No further splits with positive gain, best gain: -inf\n",
            "[LightGBM] [Warning] No further splits with positive gain, best gain: -inf\n",
            "[LightGBM] [Warning] No further splits with positive gain, best gain: -inf\n",
            "[LightGBM] [Warning] No further splits with positive gain, best gain: -inf\n",
            "[LightGBM] [Warning] No further splits with positive gain, best gain: -inf\n",
            "[LightGBM] [Warning] No further splits with positive gain, best gain: -inf\n",
            "[LightGBM] [Warning] No further splits with positive gain, best gain: -inf\n",
            "[LightGBM] [Warning] No further splits with positive gain, best gain: -inf\n",
            "[LightGBM] [Warning] No further splits with positive gain, best gain: -inf\n",
            "[LightGBM] [Warning] No further splits with positive gain, best gain: -inf\n",
            "[LightGBM] [Warning] No further splits with positive gain, best gain: -inf\n",
            "[LightGBM] [Warning] No further splits with positive gain, best gain: -inf\n",
            "[LightGBM] [Warning] No further splits with positive gain, best gain: -inf\n",
            "[LightGBM] [Warning] No further splits with positive gain, best gain: -inf\n",
            "[LightGBM] [Warning] No further splits with positive gain, best gain: -inf\n",
            "[LightGBM] [Warning] No further splits with positive gain, best gain: -inf\n",
            "[LightGBM] [Warning] No further splits with positive gain, best gain: -inf\n",
            "[LightGBM] [Warning] No further splits with positive gain, best gain: -inf\n",
            "[LightGBM] [Warning] No further splits with positive gain, best gain: -inf\n",
            "[LightGBM] [Warning] No further splits with positive gain, best gain: -inf\n",
            "[LightGBM] [Warning] No further splits with positive gain, best gain: -inf\n",
            "[LightGBM] [Warning] No further splits with positive gain, best gain: -inf\n",
            "[LightGBM] [Warning] No further splits with positive gain, best gain: -inf\n",
            "[LightGBM] [Warning] No further splits with positive gain, best gain: -inf\n",
            "[LightGBM] [Warning] No further splits with positive gain, best gain: -inf\n",
            "[LightGBM] [Warning] No further splits with positive gain, best gain: -inf\n",
            "[LightGBM] [Warning] No further splits with positive gain, best gain: -inf\n",
            "[LightGBM] [Warning] No further splits with positive gain, best gain: -inf\n",
            "[LightGBM] [Warning] No further splits with positive gain, best gain: -inf\n",
            "[LightGBM] [Warning] No further splits with positive gain, best gain: -inf\n",
            "[LightGBM] [Warning] No further splits with positive gain, best gain: -inf\n",
            "[LightGBM] [Warning] No further splits with positive gain, best gain: -inf\n",
            "[LightGBM] [Warning] No further splits with positive gain, best gain: -inf\n",
            "[LightGBM] [Warning] No further splits with positive gain, best gain: -inf\n",
            "[LightGBM] [Warning] No further splits with positive gain, best gain: -inf\n",
            "[LightGBM] [Warning] No further splits with positive gain, best gain: -inf\n",
            "[LightGBM] [Warning] No further splits with positive gain, best gain: -inf\n",
            "[LightGBM] [Warning] No further splits with positive gain, best gain: -inf\n",
            "[LightGBM] [Warning] No further splits with positive gain, best gain: -inf\n",
            "[LightGBM] [Warning] No further splits with positive gain, best gain: -inf\n",
            "[LightGBM] [Warning] No further splits with positive gain, best gain: -inf\n",
            "[LightGBM] [Warning] No further splits with positive gain, best gain: -inf\n",
            "[LightGBM] [Warning] No further splits with positive gain, best gain: -inf\n",
            "[LightGBM] [Warning] No further splits with positive gain, best gain: -inf\n",
            "[LightGBM] [Warning] No further splits with positive gain, best gain: -inf\n",
            "[LightGBM] [Warning] No further splits with positive gain, best gain: -inf\n",
            "[LightGBM] [Warning] No further splits with positive gain, best gain: -inf\n",
            "[LightGBM] [Warning] No further splits with positive gain, best gain: -inf\n",
            "[LightGBM] [Warning] No further splits with positive gain, best gain: -inf\n",
            "[LightGBM] [Warning] No further splits with positive gain, best gain: -inf\n",
            "[LightGBM] [Warning] No further splits with positive gain, best gain: -inf\n",
            "[LightGBM] [Warning] No further splits with positive gain, best gain: -inf\n",
            "[LightGBM] [Warning] No further splits with positive gain, best gain: -inf\n",
            "[LightGBM] [Warning] No further splits with positive gain, best gain: -inf\n",
            "[LightGBM] [Warning] No further splits with positive gain, best gain: -inf\n",
            "[LightGBM] [Warning] No further splits with positive gain, best gain: -inf\n",
            "[LightGBM] [Warning] No further splits with positive gain, best gain: -inf\n",
            "[LightGBM] [Warning] No further splits with positive gain, best gain: -inf\n",
            "[LightGBM] [Warning] No further splits with positive gain, best gain: -inf\n",
            "[LightGBM] [Warning] No further splits with positive gain, best gain: -inf\n",
            "📊 LightGBM Report:\n",
            "               precision    recall  f1-score   support\n",
            "\n",
            "           0       0.94      0.84      0.89      1035\n",
            "           1       0.66      0.84      0.74       374\n",
            "\n",
            "    accuracy                           0.84      1409\n",
            "   macro avg       0.80      0.84      0.81      1409\n",
            "weighted avg       0.86      0.84      0.85      1409\n",
            "\n",
            "📈 AUC-ROC Score (LightGBM): 0.9298302720297605\n"
          ]
        }
      ]
    },
    {
      "cell_type": "code",
      "source": [
        "pip install catboost"
      ],
      "metadata": {
        "colab": {
          "base_uri": "https://localhost:8080/"
        },
        "id": "VlbyRAndJvWy",
        "outputId": "574de8e9-2b1a-4c1c-9e58-aaa8f897d62e"
      },
      "execution_count": null,
      "outputs": [
        {
          "output_type": "stream",
          "name": "stdout",
          "text": [
            "Collecting catboost\n",
            "  Downloading catboost-1.2.7-cp311-cp311-manylinux2014_x86_64.whl.metadata (1.2 kB)\n",
            "Requirement already satisfied: graphviz in /usr/local/lib/python3.11/dist-packages (from catboost) (0.20.3)\n",
            "Requirement already satisfied: matplotlib in /usr/local/lib/python3.11/dist-packages (from catboost) (3.10.0)\n",
            "Requirement already satisfied: numpy<2.0,>=1.16.0 in /usr/local/lib/python3.11/dist-packages (from catboost) (1.26.4)\n",
            "Requirement already satisfied: pandas>=0.24 in /usr/local/lib/python3.11/dist-packages (from catboost) (2.2.2)\n",
            "Requirement already satisfied: scipy in /usr/local/lib/python3.11/dist-packages (from catboost) (1.13.1)\n",
            "Requirement already satisfied: plotly in /usr/local/lib/python3.11/dist-packages (from catboost) (5.24.1)\n",
            "Requirement already satisfied: six in /usr/local/lib/python3.11/dist-packages (from catboost) (1.17.0)\n",
            "Requirement already satisfied: python-dateutil>=2.8.2 in /usr/local/lib/python3.11/dist-packages (from pandas>=0.24->catboost) (2.8.2)\n",
            "Requirement already satisfied: pytz>=2020.1 in /usr/local/lib/python3.11/dist-packages (from pandas>=0.24->catboost) (2024.2)\n",
            "Requirement already satisfied: tzdata>=2022.7 in /usr/local/lib/python3.11/dist-packages (from pandas>=0.24->catboost) (2025.1)\n",
            "Requirement already satisfied: contourpy>=1.0.1 in /usr/local/lib/python3.11/dist-packages (from matplotlib->catboost) (1.3.1)\n",
            "Requirement already satisfied: cycler>=0.10 in /usr/local/lib/python3.11/dist-packages (from matplotlib->catboost) (0.12.1)\n",
            "Requirement already satisfied: fonttools>=4.22.0 in /usr/local/lib/python3.11/dist-packages (from matplotlib->catboost) (4.55.7)\n",
            "Requirement already satisfied: kiwisolver>=1.3.1 in /usr/local/lib/python3.11/dist-packages (from matplotlib->catboost) (1.4.8)\n",
            "Requirement already satisfied: packaging>=20.0 in /usr/local/lib/python3.11/dist-packages (from matplotlib->catboost) (24.2)\n",
            "Requirement already satisfied: pillow>=8 in /usr/local/lib/python3.11/dist-packages (from matplotlib->catboost) (11.1.0)\n",
            "Requirement already satisfied: pyparsing>=2.3.1 in /usr/local/lib/python3.11/dist-packages (from matplotlib->catboost) (3.2.1)\n",
            "Requirement already satisfied: tenacity>=6.2.0 in /usr/local/lib/python3.11/dist-packages (from plotly->catboost) (9.0.0)\n",
            "Downloading catboost-1.2.7-cp311-cp311-manylinux2014_x86_64.whl (98.7 MB)\n",
            "\u001b[2K   \u001b[90m━━━━━━━━━━━━━━━━━━━━━━━━━━━━━━━━━━━━━━━━\u001b[0m \u001b[32m98.7/98.7 MB\u001b[0m \u001b[31m6.4 MB/s\u001b[0m eta \u001b[36m0:00:00\u001b[0m\n",
            "\u001b[?25hInstalling collected packages: catboost\n",
            "Successfully installed catboost-1.2.7\n"
          ]
        }
      ]
    },
    {
      "cell_type": "code",
      "source": [
        "from catboost import CatBoostClassifier\n",
        "\n",
        "cb = CatBoostClassifier(iterations=200, learning_rate=0.1, depth=5, auto_class_weights=\"Balanced\", verbose=0, random_seed=42)\n",
        "cb.fit(X_train_reduced, y_train)\n",
        "\n",
        "y_pred_cb = cb.predict(X_test_reduced)\n",
        "y_pred_proba_cb = cb.predict_proba(X_test_reduced)[:, 1]\n",
        "\n",
        "print(\"📊 CatBoost Report:\\n\", classification_report(y_test, y_pred_cb))\n",
        "print(\"📈 AUC-ROC Score (CatBoost):\", roc_auc_score(y_test, y_pred_proba_cb))\n"
      ],
      "metadata": {
        "colab": {
          "base_uri": "https://localhost:8080/"
        },
        "id": "X4AP2wcSJrFn",
        "outputId": "2068cad2-326c-4203-8427-5e234b106cf1"
      },
      "execution_count": null,
      "outputs": [
        {
          "output_type": "stream",
          "name": "stdout",
          "text": [
            "📊 CatBoost Report:\n",
            "               precision    recall  f1-score   support\n",
            "\n",
            "           0       0.95      0.83      0.89      1035\n",
            "           1       0.66      0.88      0.75       374\n",
            "\n",
            "    accuracy                           0.85      1409\n",
            "   macro avg       0.80      0.86      0.82      1409\n",
            "weighted avg       0.87      0.85      0.85      1409\n",
            "\n",
            "📈 AUC-ROC Score (CatBoost): 0.9344777700276422\n"
          ]
        }
      ]
    },
    {
      "cell_type": "code",
      "source": [
        "import tensorflow as tf\n",
        "from tensorflow import keras\n",
        "\n",
        "# Define Neural Network\n",
        "nn = keras.Sequential([\n",
        "    keras.layers.Dense(64, activation='relu', input_shape=(X_train_reduced.shape[1],)),\n",
        "    keras.layers.Dense(32, activation='relu'),\n",
        "    keras.layers.Dense(1, activation='sigmoid')\n",
        "])\n",
        "\n",
        "nn.compile(optimizer='adam', loss='binary_crossentropy', metrics=['accuracy'])\n",
        "\n",
        "# Train the model\n",
        "nn.fit(X_train_reduced, y_train, epochs=20, batch_size=32, validation_data=(X_test_reduced, y_test), verbose=1)\n",
        "\n",
        "# Predict on test data\n",
        "y_pred_nn = (nn.predict(X_test_reduced) > 0.5).astype(int)\n"
      ],
      "metadata": {
        "colab": {
          "base_uri": "https://localhost:8080/"
        },
        "id": "oaogskukJ9e5",
        "outputId": "ba3f94a4-87c5-492a-caf3-737fdf66eafc"
      },
      "execution_count": null,
      "outputs": [
        {
          "output_type": "stream",
          "name": "stderr",
          "text": [
            "/usr/local/lib/python3.11/dist-packages/keras/src/layers/core/dense.py:87: UserWarning: Do not pass an `input_shape`/`input_dim` argument to a layer. When using Sequential models, prefer using an `Input(shape)` object as the first layer in the model instead.\n",
            "  super().__init__(activity_regularizer=activity_regularizer, **kwargs)\n"
          ]
        },
        {
          "output_type": "stream",
          "name": "stdout",
          "text": [
            "Epoch 1/20\n",
            "\u001b[1m177/177\u001b[0m \u001b[32m━━━━━━━━━━━━━━━━━━━━\u001b[0m\u001b[37m\u001b[0m \u001b[1m13s\u001b[0m 20ms/step - accuracy: 0.6655 - loss: 16.4830 - val_accuracy: 0.7509 - val_loss: 1.0444\n",
            "Epoch 2/20\n",
            "\u001b[1m177/177\u001b[0m \u001b[32m━━━━━━━━━━━━━━━━━━━━\u001b[0m\u001b[37m\u001b[0m \u001b[1m3s\u001b[0m 8ms/step - accuracy: 0.7291 - loss: 1.8150 - val_accuracy: 0.7686 - val_loss: 1.0865\n",
            "Epoch 3/20\n",
            "\u001b[1m177/177\u001b[0m \u001b[32m━━━━━━━━━━━━━━━━━━━━\u001b[0m\u001b[37m\u001b[0m \u001b[1m2s\u001b[0m 7ms/step - accuracy: 0.7652 - loss: 1.1122 - val_accuracy: 0.4755 - val_loss: 2.7964\n",
            "Epoch 4/20\n",
            "\u001b[1m177/177\u001b[0m \u001b[32m━━━━━━━━━━━━━━━━━━━━\u001b[0m\u001b[37m\u001b[0m \u001b[1m2s\u001b[0m 5ms/step - accuracy: 0.7581 - loss: 1.2796 - val_accuracy: 0.8446 - val_loss: 0.3701\n",
            "Epoch 5/20\n",
            "\u001b[1m177/177\u001b[0m \u001b[32m━━━━━━━━━━━━━━━━━━━━\u001b[0m\u001b[37m\u001b[0m \u001b[1m1s\u001b[0m 4ms/step - accuracy: 0.7738 - loss: 1.5087 - val_accuracy: 0.8573 - val_loss: 0.3037\n",
            "Epoch 6/20\n",
            "\u001b[1m177/177\u001b[0m \u001b[32m━━━━━━━━━━━━━━━━━━━━\u001b[0m\u001b[37m\u001b[0m \u001b[1m1s\u001b[0m 5ms/step - accuracy: 0.7919 - loss: 0.9275 - val_accuracy: 0.7885 - val_loss: 2.1496\n",
            "Epoch 7/20\n",
            "\u001b[1m177/177\u001b[0m \u001b[32m━━━━━━━━━━━━━━━━━━━━\u001b[0m\u001b[37m\u001b[0m \u001b[1m1s\u001b[0m 3ms/step - accuracy: 0.7941 - loss: 1.5213 - val_accuracy: 0.4940 - val_loss: 2.9459\n",
            "Epoch 8/20\n",
            "\u001b[1m177/177\u001b[0m \u001b[32m━━━━━━━━━━━━━━━━━━━━\u001b[0m\u001b[37m\u001b[0m \u001b[1m1s\u001b[0m 3ms/step - accuracy: 0.7494 - loss: 2.2204 - val_accuracy: 0.3293 - val_loss: 12.9367\n",
            "Epoch 9/20\n",
            "\u001b[1m177/177\u001b[0m \u001b[32m━━━━━━━━━━━━━━━━━━━━\u001b[0m\u001b[37m\u001b[0m \u001b[1m1s\u001b[0m 3ms/step - accuracy: 0.7110 - loss: 5.2305 - val_accuracy: 0.8417 - val_loss: 0.3402\n",
            "Epoch 10/20\n",
            "\u001b[1m177/177\u001b[0m \u001b[32m━━━━━━━━━━━━━━━━━━━━\u001b[0m\u001b[37m\u001b[0m \u001b[1m1s\u001b[0m 3ms/step - accuracy: 0.8188 - loss: 0.5981 - val_accuracy: 0.8006 - val_loss: 2.0606\n",
            "Epoch 11/20\n",
            "\u001b[1m177/177\u001b[0m \u001b[32m━━━━━━━━━━━━━━━━━━━━\u001b[0m\u001b[37m\u001b[0m \u001b[1m1s\u001b[0m 3ms/step - accuracy: 0.8127 - loss: 0.7106 - val_accuracy: 0.7417 - val_loss: 0.6651\n",
            "Epoch 12/20\n",
            "\u001b[1m177/177\u001b[0m \u001b[32m━━━━━━━━━━━━━━━━━━━━\u001b[0m\u001b[37m\u001b[0m \u001b[1m1s\u001b[0m 3ms/step - accuracy: 0.7924 - loss: 0.8871 - val_accuracy: 0.8403 - val_loss: 0.4622\n",
            "Epoch 13/20\n",
            "\u001b[1m177/177\u001b[0m \u001b[32m━━━━━━━━━━━━━━━━━━━━\u001b[0m\u001b[37m\u001b[0m \u001b[1m0s\u001b[0m 3ms/step - accuracy: 0.8125 - loss: 0.7546 - val_accuracy: 0.8432 - val_loss: 0.3446\n",
            "Epoch 14/20\n",
            "\u001b[1m177/177\u001b[0m \u001b[32m━━━━━━━━━━━━━━━━━━━━\u001b[0m\u001b[37m\u001b[0m \u001b[1m1s\u001b[0m 3ms/step - accuracy: 0.8436 - loss: 0.4680 - val_accuracy: 0.8609 - val_loss: 0.3250\n",
            "Epoch 15/20\n",
            "\u001b[1m177/177\u001b[0m \u001b[32m━━━━━━━━━━━━━━━━━━━━\u001b[0m\u001b[37m\u001b[0m \u001b[1m1s\u001b[0m 3ms/step - accuracy: 0.7780 - loss: 1.2327 - val_accuracy: 0.7395 - val_loss: 0.6349\n",
            "Epoch 16/20\n",
            "\u001b[1m177/177\u001b[0m \u001b[32m━━━━━━━━━━━━━━━━━━━━\u001b[0m\u001b[37m\u001b[0m \u001b[1m1s\u001b[0m 2ms/step - accuracy: 0.8246 - loss: 0.6842 - val_accuracy: 0.4840 - val_loss: 3.6563\n",
            "Epoch 17/20\n",
            "\u001b[1m177/177\u001b[0m \u001b[32m━━━━━━━━━━━━━━━━━━━━\u001b[0m\u001b[37m\u001b[0m \u001b[1m1s\u001b[0m 3ms/step - accuracy: 0.7933 - loss: 1.2369 - val_accuracy: 0.4982 - val_loss: 3.2668\n",
            "Epoch 18/20\n",
            "\u001b[1m177/177\u001b[0m \u001b[32m━━━━━━━━━━━━━━━━━━━━\u001b[0m\u001b[37m\u001b[0m \u001b[1m1s\u001b[0m 3ms/step - accuracy: 0.7628 - loss: 1.6391 - val_accuracy: 0.8048 - val_loss: 0.4629\n",
            "Epoch 19/20\n",
            "\u001b[1m177/177\u001b[0m \u001b[32m━━━━━━━━━━━━━━━━━━━━\u001b[0m\u001b[37m\u001b[0m \u001b[1m0s\u001b[0m 3ms/step - accuracy: 0.8266 - loss: 0.6238 - val_accuracy: 0.8240 - val_loss: 0.6669\n",
            "Epoch 20/20\n",
            "\u001b[1m177/177\u001b[0m \u001b[32m━━━━━━━━━━━━━━━━━━━━\u001b[0m\u001b[37m\u001b[0m \u001b[1m1s\u001b[0m 3ms/step - accuracy: 0.8233 - loss: 0.6170 - val_accuracy: 0.8588 - val_loss: 0.3938\n",
            "\u001b[1m45/45\u001b[0m \u001b[32m━━━━━━━━━━━━━━━━━━━━\u001b[0m\u001b[37m\u001b[0m \u001b[1m0s\u001b[0m 2ms/step\n"
          ]
        }
      ]
    },
    {
      "cell_type": "code",
      "source": [
        "# Store model performance\n",
        "models = {\n",
        "    \"Logistic Regression\": (y_pred_lr, y_pred_proba_lr),\n",
        "    \"LightGBM\": (y_pred_lgb, y_pred_proba_lgb),\n",
        "    \"CatBoost\": (y_pred_cb, y_pred_proba_cb),\n",
        "    \"Neural Network\": (y_pred_nn.flatten(), None)  # Neural Network doesn't provide probabilities easily\n",
        "}\n",
        "\n",
        "# Compare performance\n",
        "for model_name, (y_pred, y_proba) in models.items():\n",
        "    print(f\"\\n📊 {model_name} Classification Report:\\n\", classification_report(y_test, y_pred))\n",
        "\n",
        "    if y_proba is not None:\n",
        "        print(f\"📈 {model_name} AUC-ROC Score:\", roc_auc_score(y_test, y_proba))\n"
      ],
      "metadata": {
        "colab": {
          "base_uri": "https://localhost:8080/"
        },
        "id": "jHnnSrFBJ6Jw",
        "outputId": "539103bb-6a9c-4c59-a7dc-fffcbf5ce977"
      },
      "execution_count": null,
      "outputs": [
        {
          "output_type": "stream",
          "name": "stdout",
          "text": [
            "\n",
            "📊 Logistic Regression Classification Report:\n",
            "               precision    recall  f1-score   support\n",
            "\n",
            "           0       0.94      0.82      0.88      1035\n",
            "           1       0.63      0.86      0.73       374\n",
            "\n",
            "    accuracy                           0.83      1409\n",
            "   macro avg       0.79      0.84      0.80      1409\n",
            "weighted avg       0.86      0.83      0.84      1409\n",
            "\n",
            "📈 Logistic Regression AUC-ROC Score: 0.9266966338577592\n",
            "\n",
            "📊 LightGBM Classification Report:\n",
            "               precision    recall  f1-score   support\n",
            "\n",
            "           0       0.94      0.84      0.89      1035\n",
            "           1       0.66      0.84      0.74       374\n",
            "\n",
            "    accuracy                           0.84      1409\n",
            "   macro avg       0.80      0.84      0.81      1409\n",
            "weighted avg       0.86      0.84      0.85      1409\n",
            "\n",
            "📈 LightGBM AUC-ROC Score: 0.9298302720297605\n",
            "\n",
            "📊 CatBoost Classification Report:\n",
            "               precision    recall  f1-score   support\n",
            "\n",
            "           0       0.95      0.83      0.89      1035\n",
            "           1       0.66      0.88      0.75       374\n",
            "\n",
            "    accuracy                           0.85      1409\n",
            "   macro avg       0.80      0.86      0.82      1409\n",
            "weighted avg       0.87      0.85      0.85      1409\n",
            "\n",
            "📈 CatBoost AUC-ROC Score: 0.9344777700276422\n",
            "\n",
            "📊 Neural Network Classification Report:\n",
            "               precision    recall  f1-score   support\n",
            "\n",
            "           0       0.87      0.94      0.91      1035\n",
            "           1       0.80      0.62      0.70       374\n",
            "\n",
            "    accuracy                           0.86      1409\n",
            "   macro avg       0.84      0.78      0.80      1409\n",
            "weighted avg       0.85      0.86      0.85      1409\n",
            "\n"
          ]
        }
      ]
    },
    {
      "cell_type": "code",
      "source": [
        "from imblearn.over_sampling import SMOTE\n",
        "\n",
        "smote = SMOTE(random_state=42)\n",
        "X_train_smote, y_train_smote = smote.fit_resample(X_train_reduced, y_train)\n"
      ],
      "metadata": {
        "id": "Iv7J1u-yLHpA"
      },
      "execution_count": null,
      "outputs": []
    },
    {
      "cell_type": "code",
      "source": [
        "from sklearn.linear_model import LogisticRegression\n",
        "from lightgbm import LGBMClassifier\n",
        "from catboost import CatBoostClassifier\n",
        "from sklearn.ensemble import RandomForestClassifier\n",
        "\n",
        "# Train all models on SMOTE-balanced data\n",
        "lr = LogisticRegression(class_weight='balanced', max_iter=500, random_state=42).fit(X_train_smote, y_train_smote)\n",
        "lgb = LGBMClassifier(n_estimators=200, learning_rate=0.1, max_depth=5, class_weight='balanced', random_state=42).fit(X_train_smote, y_train_smote)\n",
        "cb = CatBoostClassifier(iterations=200, learning_rate=0.1, depth=5, auto_class_weights=\"Balanced\", verbose=0, random_seed=42).fit(X_train_smote, y_train_smote)\n",
        "rf = RandomForestClassifier(n_estimators=100, max_depth=10, random_state=42).fit(X_train_smote, y_train_smote)\n"
      ],
      "metadata": {
        "colab": {
          "base_uri": "https://localhost:8080/"
        },
        "collapsed": true,
        "id": "JktbuoePLJ0b",
        "outputId": "14ae4767-6645-42df-d1b5-ff29f57b128e"
      },
      "execution_count": null,
      "outputs": [
        {
          "output_type": "stream",
          "name": "stderr",
          "text": [
            "/usr/local/lib/python3.11/dist-packages/sklearn/linear_model/_logistic.py:465: ConvergenceWarning: lbfgs failed to converge (status=1):\n",
            "STOP: TOTAL NO. of ITERATIONS REACHED LIMIT.\n",
            "\n",
            "Increase the number of iterations (max_iter) or scale the data as shown in:\n",
            "    https://scikit-learn.org/stable/modules/preprocessing.html\n",
            "Please also refer to the documentation for alternative solver options:\n",
            "    https://scikit-learn.org/stable/modules/linear_model.html#logistic-regression\n",
            "  n_iter_i = _check_optimize_result(\n"
          ]
        },
        {
          "output_type": "stream",
          "name": "stdout",
          "text": [
            "[LightGBM] [Warning] Found whitespace in feature_names, replace with underlines\n",
            "[LightGBM] [Info] Number of positive: 4139, number of negative: 4139\n",
            "[LightGBM] [Info] Auto-choosing row-wise multi-threading, the overhead of testing was 0.003522 seconds.\n",
            "You can set `force_row_wise=true` to remove the overhead.\n",
            "And if memory is not enough, you can set `force_col_wise=true`.\n",
            "[LightGBM] [Info] Total Bins 480\n",
            "[LightGBM] [Info] Number of data points in the train set: 8278, number of used features: 22\n",
            "[LightGBM] [Info] [binary:BoostFromScore]: pavg=0.500000 -> initscore=0.000000\n",
            "[LightGBM] [Warning] No further splits with positive gain, best gain: -inf\n",
            "[LightGBM] [Warning] No further splits with positive gain, best gain: -inf\n",
            "[LightGBM] [Warning] No further splits with positive gain, best gain: -inf\n",
            "[LightGBM] [Warning] No further splits with positive gain, best gain: -inf\n",
            "[LightGBM] [Warning] No further splits with positive gain, best gain: -inf\n",
            "[LightGBM] [Warning] No further splits with positive gain, best gain: -inf\n",
            "[LightGBM] [Warning] No further splits with positive gain, best gain: -inf\n",
            "[LightGBM] [Warning] No further splits with positive gain, best gain: -inf\n",
            "[LightGBM] [Warning] No further splits with positive gain, best gain: -inf\n",
            "[LightGBM] [Warning] No further splits with positive gain, best gain: -inf\n",
            "[LightGBM] [Warning] No further splits with positive gain, best gain: -inf\n",
            "[LightGBM] [Warning] No further splits with positive gain, best gain: -inf\n",
            "[LightGBM] [Warning] No further splits with positive gain, best gain: -inf\n",
            "[LightGBM] [Warning] No further splits with positive gain, best gain: -inf\n",
            "[LightGBM] [Warning] No further splits with positive gain, best gain: -inf\n",
            "[LightGBM] [Warning] No further splits with positive gain, best gain: -inf\n",
            "[LightGBM] [Warning] No further splits with positive gain, best gain: -inf\n",
            "[LightGBM] [Warning] No further splits with positive gain, best gain: -inf\n",
            "[LightGBM] [Warning] No further splits with positive gain, best gain: -inf\n",
            "[LightGBM] [Warning] No further splits with positive gain, best gain: -inf\n",
            "[LightGBM] [Warning] No further splits with positive gain, best gain: -inf\n",
            "[LightGBM] [Warning] No further splits with positive gain, best gain: -inf\n",
            "[LightGBM] [Warning] No further splits with positive gain, best gain: -inf\n",
            "[LightGBM] [Warning] No further splits with positive gain, best gain: -inf\n",
            "[LightGBM] [Warning] No further splits with positive gain, best gain: -inf\n",
            "[LightGBM] [Warning] No further splits with positive gain, best gain: -inf\n",
            "[LightGBM] [Warning] No further splits with positive gain, best gain: -inf\n",
            "[LightGBM] [Warning] No further splits with positive gain, best gain: -inf\n",
            "[LightGBM] [Warning] No further splits with positive gain, best gain: -inf\n",
            "[LightGBM] [Warning] No further splits with positive gain, best gain: -inf\n",
            "[LightGBM] [Warning] No further splits with positive gain, best gain: -inf\n",
            "[LightGBM] [Warning] No further splits with positive gain, best gain: -inf\n",
            "[LightGBM] [Warning] No further splits with positive gain, best gain: -inf\n",
            "[LightGBM] [Warning] No further splits with positive gain, best gain: -inf\n",
            "[LightGBM] [Warning] No further splits with positive gain, best gain: -inf\n",
            "[LightGBM] [Warning] No further splits with positive gain, best gain: -inf\n",
            "[LightGBM] [Warning] No further splits with positive gain, best gain: -inf\n",
            "[LightGBM] [Warning] No further splits with positive gain, best gain: -inf\n",
            "[LightGBM] [Warning] No further splits with positive gain, best gain: -inf\n",
            "[LightGBM] [Warning] No further splits with positive gain, best gain: -inf\n",
            "[LightGBM] [Warning] No further splits with positive gain, best gain: -inf\n",
            "[LightGBM] [Warning] No further splits with positive gain, best gain: -inf\n",
            "[LightGBM] [Warning] No further splits with positive gain, best gain: -inf\n",
            "[LightGBM] [Warning] No further splits with positive gain, best gain: -inf\n",
            "[LightGBM] [Warning] No further splits with positive gain, best gain: -inf\n",
            "[LightGBM] [Warning] No further splits with positive gain, best gain: -inf\n",
            "[LightGBM] [Warning] No further splits with positive gain, best gain: -inf\n",
            "[LightGBM] [Warning] No further splits with positive gain, best gain: -inf\n",
            "[LightGBM] [Warning] No further splits with positive gain, best gain: -inf\n",
            "[LightGBM] [Warning] No further splits with positive gain, best gain: -inf\n",
            "[LightGBM] [Warning] No further splits with positive gain, best gain: -inf\n",
            "[LightGBM] [Warning] No further splits with positive gain, best gain: -inf\n",
            "[LightGBM] [Warning] No further splits with positive gain, best gain: -inf\n",
            "[LightGBM] [Warning] No further splits with positive gain, best gain: -inf\n",
            "[LightGBM] [Warning] No further splits with positive gain, best gain: -inf\n",
            "[LightGBM] [Warning] No further splits with positive gain, best gain: -inf\n",
            "[LightGBM] [Warning] No further splits with positive gain, best gain: -inf\n",
            "[LightGBM] [Warning] No further splits with positive gain, best gain: -inf\n",
            "[LightGBM] [Warning] No further splits with positive gain, best gain: -inf\n",
            "[LightGBM] [Warning] No further splits with positive gain, best gain: -inf\n",
            "[LightGBM] [Warning] No further splits with positive gain, best gain: -inf\n",
            "[LightGBM] [Warning] No further splits with positive gain, best gain: -inf\n",
            "[LightGBM] [Warning] No further splits with positive gain, best gain: -inf\n",
            "[LightGBM] [Warning] No further splits with positive gain, best gain: -inf\n",
            "[LightGBM] [Warning] No further splits with positive gain, best gain: -inf\n",
            "[LightGBM] [Warning] No further splits with positive gain, best gain: -inf\n",
            "[LightGBM] [Warning] No further splits with positive gain, best gain: -inf\n",
            "[LightGBM] [Warning] No further splits with positive gain, best gain: -inf\n",
            "[LightGBM] [Warning] No further splits with positive gain, best gain: -inf\n",
            "[LightGBM] [Warning] No further splits with positive gain, best gain: -inf\n",
            "[LightGBM] [Warning] No further splits with positive gain, best gain: -inf\n",
            "[LightGBM] [Warning] No further splits with positive gain, best gain: -inf\n",
            "[LightGBM] [Warning] No further splits with positive gain, best gain: -inf\n",
            "[LightGBM] [Warning] No further splits with positive gain, best gain: -inf\n",
            "[LightGBM] [Warning] No further splits with positive gain, best gain: -inf\n",
            "[LightGBM] [Warning] No further splits with positive gain, best gain: -inf\n",
            "[LightGBM] [Warning] No further splits with positive gain, best gain: -inf\n",
            "[LightGBM] [Warning] No further splits with positive gain, best gain: -inf\n",
            "[LightGBM] [Warning] No further splits with positive gain, best gain: -inf\n",
            "[LightGBM] [Warning] No further splits with positive gain, best gain: -inf\n",
            "[LightGBM] [Warning] No further splits with positive gain, best gain: -inf\n",
            "[LightGBM] [Warning] No further splits with positive gain, best gain: -inf\n",
            "[LightGBM] [Warning] No further splits with positive gain, best gain: -inf\n",
            "[LightGBM] [Warning] No further splits with positive gain, best gain: -inf\n",
            "[LightGBM] [Warning] No further splits with positive gain, best gain: -inf\n",
            "[LightGBM] [Warning] No further splits with positive gain, best gain: -inf\n",
            "[LightGBM] [Warning] No further splits with positive gain, best gain: -inf\n",
            "[LightGBM] [Warning] No further splits with positive gain, best gain: -inf\n",
            "[LightGBM] [Warning] No further splits with positive gain, best gain: -inf\n",
            "[LightGBM] [Warning] No further splits with positive gain, best gain: -inf\n",
            "[LightGBM] [Warning] No further splits with positive gain, best gain: -inf\n",
            "[LightGBM] [Warning] No further splits with positive gain, best gain: -inf\n",
            "[LightGBM] [Warning] No further splits with positive gain, best gain: -inf\n",
            "[LightGBM] [Warning] No further splits with positive gain, best gain: -inf\n",
            "[LightGBM] [Warning] No further splits with positive gain, best gain: -inf\n",
            "[LightGBM] [Warning] No further splits with positive gain, best gain: -inf\n",
            "[LightGBM] [Warning] No further splits with positive gain, best gain: -inf\n",
            "[LightGBM] [Warning] No further splits with positive gain, best gain: -inf\n",
            "[LightGBM] [Warning] No further splits with positive gain, best gain: -inf\n",
            "[LightGBM] [Warning] No further splits with positive gain, best gain: -inf\n",
            "[LightGBM] [Warning] No further splits with positive gain, best gain: -inf\n",
            "[LightGBM] [Warning] No further splits with positive gain, best gain: -inf\n",
            "[LightGBM] [Warning] No further splits with positive gain, best gain: -inf\n",
            "[LightGBM] [Warning] No further splits with positive gain, best gain: -inf\n",
            "[LightGBM] [Warning] No further splits with positive gain, best gain: -inf\n",
            "[LightGBM] [Warning] No further splits with positive gain, best gain: -inf\n",
            "[LightGBM] [Warning] No further splits with positive gain, best gain: -inf\n",
            "[LightGBM] [Warning] No further splits with positive gain, best gain: -inf\n",
            "[LightGBM] [Warning] No further splits with positive gain, best gain: -inf\n",
            "[LightGBM] [Warning] No further splits with positive gain, best gain: -inf\n",
            "[LightGBM] [Warning] No further splits with positive gain, best gain: -inf\n",
            "[LightGBM] [Warning] No further splits with positive gain, best gain: -inf\n",
            "[LightGBM] [Warning] No further splits with positive gain, best gain: -inf\n",
            "[LightGBM] [Warning] No further splits with positive gain, best gain: -inf\n",
            "[LightGBM] [Warning] No further splits with positive gain, best gain: -inf\n",
            "[LightGBM] [Warning] No further splits with positive gain, best gain: -inf\n",
            "[LightGBM] [Warning] No further splits with positive gain, best gain: -inf\n",
            "[LightGBM] [Warning] No further splits with positive gain, best gain: -inf\n",
            "[LightGBM] [Warning] No further splits with positive gain, best gain: -inf\n",
            "[LightGBM] [Warning] No further splits with positive gain, best gain: -inf\n",
            "[LightGBM] [Warning] No further splits with positive gain, best gain: -inf\n",
            "[LightGBM] [Warning] No further splits with positive gain, best gain: -inf\n",
            "[LightGBM] [Warning] No further splits with positive gain, best gain: -inf\n",
            "[LightGBM] [Warning] No further splits with positive gain, best gain: -inf\n",
            "[LightGBM] [Warning] No further splits with positive gain, best gain: -inf\n",
            "[LightGBM] [Warning] No further splits with positive gain, best gain: -inf\n",
            "[LightGBM] [Warning] No further splits with positive gain, best gain: -inf\n",
            "[LightGBM] [Warning] No further splits with positive gain, best gain: -inf\n",
            "[LightGBM] [Warning] No further splits with positive gain, best gain: -inf\n",
            "[LightGBM] [Warning] No further splits with positive gain, best gain: -inf\n",
            "[LightGBM] [Warning] No further splits with positive gain, best gain: -inf\n",
            "[LightGBM] [Warning] No further splits with positive gain, best gain: -inf\n",
            "[LightGBM] [Warning] No further splits with positive gain, best gain: -inf\n",
            "[LightGBM] [Warning] No further splits with positive gain, best gain: -inf\n",
            "[LightGBM] [Warning] No further splits with positive gain, best gain: -inf\n",
            "[LightGBM] [Warning] No further splits with positive gain, best gain: -inf\n",
            "[LightGBM] [Warning] No further splits with positive gain, best gain: -inf\n",
            "[LightGBM] [Warning] No further splits with positive gain, best gain: -inf\n",
            "[LightGBM] [Warning] No further splits with positive gain, best gain: -inf\n",
            "[LightGBM] [Warning] No further splits with positive gain, best gain: -inf\n",
            "[LightGBM] [Warning] No further splits with positive gain, best gain: -inf\n",
            "[LightGBM] [Warning] No further splits with positive gain, best gain: -inf\n",
            "[LightGBM] [Warning] No further splits with positive gain, best gain: -inf\n",
            "[LightGBM] [Warning] No further splits with positive gain, best gain: -inf\n",
            "[LightGBM] [Warning] No further splits with positive gain, best gain: -inf\n",
            "[LightGBM] [Warning] No further splits with positive gain, best gain: -inf\n",
            "[LightGBM] [Warning] No further splits with positive gain, best gain: -inf\n",
            "[LightGBM] [Warning] No further splits with positive gain, best gain: -inf\n",
            "[LightGBM] [Warning] No further splits with positive gain, best gain: -inf\n",
            "[LightGBM] [Warning] No further splits with positive gain, best gain: -inf\n",
            "[LightGBM] [Warning] No further splits with positive gain, best gain: -inf\n",
            "[LightGBM] [Warning] No further splits with positive gain, best gain: -inf\n",
            "[LightGBM] [Warning] No further splits with positive gain, best gain: -inf\n",
            "[LightGBM] [Warning] No further splits with positive gain, best gain: -inf\n",
            "[LightGBM] [Warning] No further splits with positive gain, best gain: -inf\n",
            "[LightGBM] [Warning] No further splits with positive gain, best gain: -inf\n",
            "[LightGBM] [Warning] No further splits with positive gain, best gain: -inf\n",
            "[LightGBM] [Warning] No further splits with positive gain, best gain: -inf\n",
            "[LightGBM] [Warning] No further splits with positive gain, best gain: -inf\n",
            "[LightGBM] [Warning] No further splits with positive gain, best gain: -inf\n",
            "[LightGBM] [Warning] No further splits with positive gain, best gain: -inf\n",
            "[LightGBM] [Warning] No further splits with positive gain, best gain: -inf\n",
            "[LightGBM] [Warning] No further splits with positive gain, best gain: -inf\n",
            "[LightGBM] [Warning] No further splits with positive gain, best gain: -inf\n",
            "[LightGBM] [Warning] No further splits with positive gain, best gain: -inf\n",
            "[LightGBM] [Warning] No further splits with positive gain, best gain: -inf\n",
            "[LightGBM] [Warning] No further splits with positive gain, best gain: -inf\n",
            "[LightGBM] [Warning] No further splits with positive gain, best gain: -inf\n",
            "[LightGBM] [Warning] No further splits with positive gain, best gain: -inf\n",
            "[LightGBM] [Warning] No further splits with positive gain, best gain: -inf\n",
            "[LightGBM] [Warning] No further splits with positive gain, best gain: -inf\n",
            "[LightGBM] [Warning] No further splits with positive gain, best gain: -inf\n",
            "[LightGBM] [Warning] No further splits with positive gain, best gain: -inf\n",
            "[LightGBM] [Warning] No further splits with positive gain, best gain: -inf\n",
            "[LightGBM] [Warning] No further splits with positive gain, best gain: -inf\n",
            "[LightGBM] [Warning] No further splits with positive gain, best gain: -inf\n",
            "[LightGBM] [Warning] No further splits with positive gain, best gain: -inf\n",
            "[LightGBM] [Warning] No further splits with positive gain, best gain: -inf\n",
            "[LightGBM] [Warning] No further splits with positive gain, best gain: -inf\n",
            "[LightGBM] [Warning] No further splits with positive gain, best gain: -inf\n",
            "[LightGBM] [Warning] No further splits with positive gain, best gain: -inf\n",
            "[LightGBM] [Warning] No further splits with positive gain, best gain: -inf\n",
            "[LightGBM] [Warning] No further splits with positive gain, best gain: -inf\n",
            "[LightGBM] [Warning] No further splits with positive gain, best gain: -inf\n"
          ]
        }
      ]
    },
    {
      "cell_type": "code",
      "source": [
        "from sklearn.ensemble import VotingClassifier\n",
        "\n",
        "# Create an ensemble (Soft Voting)\n",
        "ensemble = VotingClassifier(\n",
        "    estimators=[('lr', lr), ('lgb', lgb), ('cb', cb), ('rf', rf)],\n",
        "    voting='soft'  # Soft voting averages probabilities\n",
        ")\n",
        "\n",
        "# Train the ensemble model\n",
        "ensemble.fit(X_train_smote, y_train_smote)\n",
        "\n",
        "# Predict on the test set\n",
        "y_pred_ensemble = ensemble.predict(X_test_reduced)\n"
      ],
      "metadata": {
        "colab": {
          "base_uri": "https://localhost:8080/"
        },
        "collapsed": true,
        "id": "EkDprxJhLM-r",
        "outputId": "bbe87939-ee0e-4b9c-d99a-42383dd1d140"
      },
      "execution_count": null,
      "outputs": [
        {
          "output_type": "stream",
          "name": "stderr",
          "text": [
            "/usr/local/lib/python3.11/dist-packages/sklearn/linear_model/_logistic.py:465: ConvergenceWarning: lbfgs failed to converge (status=1):\n",
            "STOP: TOTAL NO. of ITERATIONS REACHED LIMIT.\n",
            "\n",
            "Increase the number of iterations (max_iter) or scale the data as shown in:\n",
            "    https://scikit-learn.org/stable/modules/preprocessing.html\n",
            "Please also refer to the documentation for alternative solver options:\n",
            "    https://scikit-learn.org/stable/modules/linear_model.html#logistic-regression\n",
            "  n_iter_i = _check_optimize_result(\n"
          ]
        },
        {
          "output_type": "stream",
          "name": "stdout",
          "text": [
            "[LightGBM] [Warning] Found whitespace in feature_names, replace with underlines\n",
            "[LightGBM] [Info] Number of positive: 4139, number of negative: 4139\n",
            "[LightGBM] [Info] Auto-choosing row-wise multi-threading, the overhead of testing was 0.003778 seconds.\n",
            "You can set `force_row_wise=true` to remove the overhead.\n",
            "And if memory is not enough, you can set `force_col_wise=true`.\n",
            "[LightGBM] [Info] Total Bins 480\n",
            "[LightGBM] [Info] Number of data points in the train set: 8278, number of used features: 22\n",
            "[LightGBM] [Info] [binary:BoostFromScore]: pavg=0.500000 -> initscore=0.000000\n",
            "[LightGBM] [Warning] No further splits with positive gain, best gain: -inf\n",
            "[LightGBM] [Warning] No further splits with positive gain, best gain: -inf\n",
            "[LightGBM] [Warning] No further splits with positive gain, best gain: -inf\n",
            "[LightGBM] [Warning] No further splits with positive gain, best gain: -inf\n",
            "[LightGBM] [Warning] No further splits with positive gain, best gain: -inf\n",
            "[LightGBM] [Warning] No further splits with positive gain, best gain: -inf\n",
            "[LightGBM] [Warning] No further splits with positive gain, best gain: -inf\n",
            "[LightGBM] [Warning] No further splits with positive gain, best gain: -inf\n",
            "[LightGBM] [Warning] No further splits with positive gain, best gain: -inf\n",
            "[LightGBM] [Warning] No further splits with positive gain, best gain: -inf\n",
            "[LightGBM] [Warning] No further splits with positive gain, best gain: -inf\n",
            "[LightGBM] [Warning] No further splits with positive gain, best gain: -inf\n",
            "[LightGBM] [Warning] No further splits with positive gain, best gain: -inf\n",
            "[LightGBM] [Warning] No further splits with positive gain, best gain: -inf\n",
            "[LightGBM] [Warning] No further splits with positive gain, best gain: -inf\n",
            "[LightGBM] [Warning] No further splits with positive gain, best gain: -inf\n",
            "[LightGBM] [Warning] No further splits with positive gain, best gain: -inf\n",
            "[LightGBM] [Warning] No further splits with positive gain, best gain: -inf\n",
            "[LightGBM] [Warning] No further splits with positive gain, best gain: -inf\n",
            "[LightGBM] [Warning] No further splits with positive gain, best gain: -inf\n",
            "[LightGBM] [Warning] No further splits with positive gain, best gain: -inf\n",
            "[LightGBM] [Warning] No further splits with positive gain, best gain: -inf\n",
            "[LightGBM] [Warning] No further splits with positive gain, best gain: -inf\n",
            "[LightGBM] [Warning] No further splits with positive gain, best gain: -inf\n",
            "[LightGBM] [Warning] No further splits with positive gain, best gain: -inf\n",
            "[LightGBM] [Warning] No further splits with positive gain, best gain: -inf\n",
            "[LightGBM] [Warning] No further splits with positive gain, best gain: -inf\n",
            "[LightGBM] [Warning] No further splits with positive gain, best gain: -inf\n",
            "[LightGBM] [Warning] No further splits with positive gain, best gain: -inf\n",
            "[LightGBM] [Warning] No further splits with positive gain, best gain: -inf\n",
            "[LightGBM] [Warning] No further splits with positive gain, best gain: -inf\n",
            "[LightGBM] [Warning] No further splits with positive gain, best gain: -inf\n",
            "[LightGBM] [Warning] No further splits with positive gain, best gain: -inf\n",
            "[LightGBM] [Warning] No further splits with positive gain, best gain: -inf\n",
            "[LightGBM] [Warning] No further splits with positive gain, best gain: -inf\n",
            "[LightGBM] [Warning] No further splits with positive gain, best gain: -inf\n",
            "[LightGBM] [Warning] No further splits with positive gain, best gain: -inf\n",
            "[LightGBM] [Warning] No further splits with positive gain, best gain: -inf\n",
            "[LightGBM] [Warning] No further splits with positive gain, best gain: -inf\n",
            "[LightGBM] [Warning] No further splits with positive gain, best gain: -inf\n",
            "[LightGBM] [Warning] No further splits with positive gain, best gain: -inf\n",
            "[LightGBM] [Warning] No further splits with positive gain, best gain: -inf\n",
            "[LightGBM] [Warning] No further splits with positive gain, best gain: -inf\n",
            "[LightGBM] [Warning] No further splits with positive gain, best gain: -inf\n",
            "[LightGBM] [Warning] No further splits with positive gain, best gain: -inf\n",
            "[LightGBM] [Warning] No further splits with positive gain, best gain: -inf\n",
            "[LightGBM] [Warning] No further splits with positive gain, best gain: -inf\n",
            "[LightGBM] [Warning] No further splits with positive gain, best gain: -inf\n",
            "[LightGBM] [Warning] No further splits with positive gain, best gain: -inf\n",
            "[LightGBM] [Warning] No further splits with positive gain, best gain: -inf\n",
            "[LightGBM] [Warning] No further splits with positive gain, best gain: -inf\n",
            "[LightGBM] [Warning] No further splits with positive gain, best gain: -inf\n",
            "[LightGBM] [Warning] No further splits with positive gain, best gain: -inf\n",
            "[LightGBM] [Warning] No further splits with positive gain, best gain: -inf\n",
            "[LightGBM] [Warning] No further splits with positive gain, best gain: -inf\n",
            "[LightGBM] [Warning] No further splits with positive gain, best gain: -inf\n",
            "[LightGBM] [Warning] No further splits with positive gain, best gain: -inf\n",
            "[LightGBM] [Warning] No further splits with positive gain, best gain: -inf\n",
            "[LightGBM] [Warning] No further splits with positive gain, best gain: -inf\n",
            "[LightGBM] [Warning] No further splits with positive gain, best gain: -inf\n",
            "[LightGBM] [Warning] No further splits with positive gain, best gain: -inf\n",
            "[LightGBM] [Warning] No further splits with positive gain, best gain: -inf\n",
            "[LightGBM] [Warning] No further splits with positive gain, best gain: -inf\n",
            "[LightGBM] [Warning] No further splits with positive gain, best gain: -inf\n",
            "[LightGBM] [Warning] No further splits with positive gain, best gain: -inf\n",
            "[LightGBM] [Warning] No further splits with positive gain, best gain: -inf\n",
            "[LightGBM] [Warning] No further splits with positive gain, best gain: -inf\n",
            "[LightGBM] [Warning] No further splits with positive gain, best gain: -inf\n",
            "[LightGBM] [Warning] No further splits with positive gain, best gain: -inf\n",
            "[LightGBM] [Warning] No further splits with positive gain, best gain: -inf\n",
            "[LightGBM] [Warning] No further splits with positive gain, best gain: -inf\n",
            "[LightGBM] [Warning] No further splits with positive gain, best gain: -inf\n",
            "[LightGBM] [Warning] No further splits with positive gain, best gain: -inf\n",
            "[LightGBM] [Warning] No further splits with positive gain, best gain: -inf\n",
            "[LightGBM] [Warning] No further splits with positive gain, best gain: -inf\n",
            "[LightGBM] [Warning] No further splits with positive gain, best gain: -inf\n",
            "[LightGBM] [Warning] No further splits with positive gain, best gain: -inf\n",
            "[LightGBM] [Warning] No further splits with positive gain, best gain: -inf\n",
            "[LightGBM] [Warning] No further splits with positive gain, best gain: -inf\n",
            "[LightGBM] [Warning] No further splits with positive gain, best gain: -inf\n",
            "[LightGBM] [Warning] No further splits with positive gain, best gain: -inf\n",
            "[LightGBM] [Warning] No further splits with positive gain, best gain: -inf\n",
            "[LightGBM] [Warning] No further splits with positive gain, best gain: -inf\n",
            "[LightGBM] [Warning] No further splits with positive gain, best gain: -inf\n",
            "[LightGBM] [Warning] No further splits with positive gain, best gain: -inf\n",
            "[LightGBM] [Warning] No further splits with positive gain, best gain: -inf\n",
            "[LightGBM] [Warning] No further splits with positive gain, best gain: -inf\n",
            "[LightGBM] [Warning] No further splits with positive gain, best gain: -inf\n",
            "[LightGBM] [Warning] No further splits with positive gain, best gain: -inf\n",
            "[LightGBM] [Warning] No further splits with positive gain, best gain: -inf\n",
            "[LightGBM] [Warning] No further splits with positive gain, best gain: -inf\n",
            "[LightGBM] [Warning] No further splits with positive gain, best gain: -inf\n",
            "[LightGBM] [Warning] No further splits with positive gain, best gain: -inf\n",
            "[LightGBM] [Warning] No further splits with positive gain, best gain: -inf\n",
            "[LightGBM] [Warning] No further splits with positive gain, best gain: -inf\n",
            "[LightGBM] [Warning] No further splits with positive gain, best gain: -inf\n",
            "[LightGBM] [Warning] No further splits with positive gain, best gain: -inf\n",
            "[LightGBM] [Warning] No further splits with positive gain, best gain: -inf\n",
            "[LightGBM] [Warning] No further splits with positive gain, best gain: -inf\n",
            "[LightGBM] [Warning] No further splits with positive gain, best gain: -inf\n",
            "[LightGBM] [Warning] No further splits with positive gain, best gain: -inf\n",
            "[LightGBM] [Warning] No further splits with positive gain, best gain: -inf\n",
            "[LightGBM] [Warning] No further splits with positive gain, best gain: -inf\n",
            "[LightGBM] [Warning] No further splits with positive gain, best gain: -inf\n",
            "[LightGBM] [Warning] No further splits with positive gain, best gain: -inf\n",
            "[LightGBM] [Warning] No further splits with positive gain, best gain: -inf\n",
            "[LightGBM] [Warning] No further splits with positive gain, best gain: -inf\n",
            "[LightGBM] [Warning] No further splits with positive gain, best gain: -inf\n",
            "[LightGBM] [Warning] No further splits with positive gain, best gain: -inf\n",
            "[LightGBM] [Warning] No further splits with positive gain, best gain: -inf\n",
            "[LightGBM] [Warning] No further splits with positive gain, best gain: -inf\n",
            "[LightGBM] [Warning] No further splits with positive gain, best gain: -inf\n",
            "[LightGBM] [Warning] No further splits with positive gain, best gain: -inf\n",
            "[LightGBM] [Warning] No further splits with positive gain, best gain: -inf\n",
            "[LightGBM] [Warning] No further splits with positive gain, best gain: -inf\n",
            "[LightGBM] [Warning] No further splits with positive gain, best gain: -inf\n",
            "[LightGBM] [Warning] No further splits with positive gain, best gain: -inf\n",
            "[LightGBM] [Warning] No further splits with positive gain, best gain: -inf\n",
            "[LightGBM] [Warning] No further splits with positive gain, best gain: -inf\n",
            "[LightGBM] [Warning] No further splits with positive gain, best gain: -inf\n",
            "[LightGBM] [Warning] No further splits with positive gain, best gain: -inf\n",
            "[LightGBM] [Warning] No further splits with positive gain, best gain: -inf\n",
            "[LightGBM] [Warning] No further splits with positive gain, best gain: -inf\n",
            "[LightGBM] [Warning] No further splits with positive gain, best gain: -inf\n",
            "[LightGBM] [Warning] No further splits with positive gain, best gain: -inf\n",
            "[LightGBM] [Warning] No further splits with positive gain, best gain: -inf\n",
            "[LightGBM] [Warning] No further splits with positive gain, best gain: -inf\n",
            "[LightGBM] [Warning] No further splits with positive gain, best gain: -inf\n",
            "[LightGBM] [Warning] No further splits with positive gain, best gain: -inf\n",
            "[LightGBM] [Warning] No further splits with positive gain, best gain: -inf\n",
            "[LightGBM] [Warning] No further splits with positive gain, best gain: -inf\n",
            "[LightGBM] [Warning] No further splits with positive gain, best gain: -inf\n",
            "[LightGBM] [Warning] No further splits with positive gain, best gain: -inf\n",
            "[LightGBM] [Warning] No further splits with positive gain, best gain: -inf\n",
            "[LightGBM] [Warning] No further splits with positive gain, best gain: -inf\n",
            "[LightGBM] [Warning] No further splits with positive gain, best gain: -inf\n",
            "[LightGBM] [Warning] No further splits with positive gain, best gain: -inf\n",
            "[LightGBM] [Warning] No further splits with positive gain, best gain: -inf\n",
            "[LightGBM] [Warning] No further splits with positive gain, best gain: -inf\n",
            "[LightGBM] [Warning] No further splits with positive gain, best gain: -inf\n",
            "[LightGBM] [Warning] No further splits with positive gain, best gain: -inf\n",
            "[LightGBM] [Warning] No further splits with positive gain, best gain: -inf\n",
            "[LightGBM] [Warning] No further splits with positive gain, best gain: -inf\n",
            "[LightGBM] [Warning] No further splits with positive gain, best gain: -inf\n",
            "[LightGBM] [Warning] No further splits with positive gain, best gain: -inf\n",
            "[LightGBM] [Warning] No further splits with positive gain, best gain: -inf\n",
            "[LightGBM] [Warning] No further splits with positive gain, best gain: -inf\n",
            "[LightGBM] [Warning] No further splits with positive gain, best gain: -inf\n",
            "[LightGBM] [Warning] No further splits with positive gain, best gain: -inf\n",
            "[LightGBM] [Warning] No further splits with positive gain, best gain: -inf\n",
            "[LightGBM] [Warning] No further splits with positive gain, best gain: -inf\n",
            "[LightGBM] [Warning] No further splits with positive gain, best gain: -inf\n",
            "[LightGBM] [Warning] No further splits with positive gain, best gain: -inf\n",
            "[LightGBM] [Warning] No further splits with positive gain, best gain: -inf\n",
            "[LightGBM] [Warning] No further splits with positive gain, best gain: -inf\n",
            "[LightGBM] [Warning] No further splits with positive gain, best gain: -inf\n",
            "[LightGBM] [Warning] No further splits with positive gain, best gain: -inf\n",
            "[LightGBM] [Warning] No further splits with positive gain, best gain: -inf\n",
            "[LightGBM] [Warning] No further splits with positive gain, best gain: -inf\n",
            "[LightGBM] [Warning] No further splits with positive gain, best gain: -inf\n",
            "[LightGBM] [Warning] No further splits with positive gain, best gain: -inf\n",
            "[LightGBM] [Warning] No further splits with positive gain, best gain: -inf\n",
            "[LightGBM] [Warning] No further splits with positive gain, best gain: -inf\n",
            "[LightGBM] [Warning] No further splits with positive gain, best gain: -inf\n",
            "[LightGBM] [Warning] No further splits with positive gain, best gain: -inf\n",
            "[LightGBM] [Warning] No further splits with positive gain, best gain: -inf\n",
            "[LightGBM] [Warning] No further splits with positive gain, best gain: -inf\n",
            "[LightGBM] [Warning] No further splits with positive gain, best gain: -inf\n",
            "[LightGBM] [Warning] No further splits with positive gain, best gain: -inf\n",
            "[LightGBM] [Warning] No further splits with positive gain, best gain: -inf\n",
            "[LightGBM] [Warning] No further splits with positive gain, best gain: -inf\n",
            "[LightGBM] [Warning] No further splits with positive gain, best gain: -inf\n",
            "[LightGBM] [Warning] No further splits with positive gain, best gain: -inf\n",
            "[LightGBM] [Warning] No further splits with positive gain, best gain: -inf\n",
            "[LightGBM] [Warning] No further splits with positive gain, best gain: -inf\n",
            "[LightGBM] [Warning] No further splits with positive gain, best gain: -inf\n",
            "[LightGBM] [Warning] No further splits with positive gain, best gain: -inf\n",
            "[LightGBM] [Warning] No further splits with positive gain, best gain: -inf\n",
            "[LightGBM] [Warning] No further splits with positive gain, best gain: -inf\n",
            "[LightGBM] [Warning] No further splits with positive gain, best gain: -inf\n",
            "[LightGBM] [Warning] No further splits with positive gain, best gain: -inf\n",
            "[LightGBM] [Warning] No further splits with positive gain, best gain: -inf\n",
            "[LightGBM] [Warning] No further splits with positive gain, best gain: -inf\n",
            "[LightGBM] [Warning] No further splits with positive gain, best gain: -inf\n"
          ]
        }
      ]
    },
    {
      "cell_type": "code",
      "source": [
        "from sklearn.metrics import classification_report, roc_auc_score\n",
        "\n",
        "# Predict probabilities\n",
        "y_pred_ensemble_proba = ensemble.predict_proba(X_test_reduced)[:, 1]\n",
        "\n",
        "# Classification report\n",
        "print(\"\\n📊 Ensemble Model Classification Report:\\n\", classification_report(y_test, y_pred_ensemble))\n",
        "\n",
        "# AUC-ROC Score\n",
        "print(\"\\n📈 AUC-ROC Score (Ensemble Model):\", roc_auc_score(y_test, y_pred_ensemble_proba))\n"
      ],
      "metadata": {
        "colab": {
          "base_uri": "https://localhost:8080/"
        },
        "id": "PKuttXdnLYL_",
        "outputId": "b3bba067-d49f-4d36-bde8-c8e0917e8457"
      },
      "execution_count": null,
      "outputs": [
        {
          "output_type": "stream",
          "name": "stdout",
          "text": [
            "\n",
            "📊 Ensemble Model Classification Report:\n",
            "               precision    recall  f1-score   support\n",
            "\n",
            "           0       0.93      0.86      0.89      1035\n",
            "           1       0.67      0.82      0.74       374\n",
            "\n",
            "    accuracy                           0.85      1409\n",
            "   macro avg       0.80      0.84      0.81      1409\n",
            "weighted avg       0.86      0.85      0.85      1409\n",
            "\n",
            "\n",
            "📈 AUC-ROC Score (Ensemble Model): 0.9241649228861504\n"
          ]
        }
      ]
    },
    {
      "cell_type": "code",
      "source": [
        "import pandas as pd\n",
        "\n",
        "# Sample data\n",
        "sample_data = pd.DataFrame({\n",
        "    \"gender\": [\"Female\", \"Male\"],\n",
        "    \"SeniorCitizen\": [0, 0],\n",
        "    \"Partner\": [\"Yes\", \"No\"],\n",
        "    \"Dependents\": [\"No\", \"No\"],\n",
        "    \"tenure\": [1, 34],\n",
        "    \"PhoneService\": [\"No\", \"Yes\"],\n",
        "    \"MultipleLines\": [\"No phone service\", \"No\"],\n",
        "    \"InternetService\": [\"DSL\", \"DSL\"],\n",
        "    \"OnlineSecurity\": [\"No\", \"Yes\"],\n",
        "    \"OnlineBackup\": [\"Yes\", \"No\"],\n",
        "    \"DeviceProtection\": [\"No\", \"Yes\"],\n",
        "    \"TechSupport\": [\"No\", \"No\"],\n",
        "    \"StreamingTV\": [\"No\", \"No\"],\n",
        "    \"StreamingMovies\": [\"No\", \"No\"],\n",
        "    \"Contract\": [\"Month-to-month\", \"One year\"],\n",
        "    \"PaperlessBilling\": [\"Yes\", \"No\"],\n",
        "    \"PaymentMethod\": [\"Electronic check\", \"Mailed check\"],\n",
        "    \"MonthlyCharges\": [29.85, 56.95],\n",
        "    \"TotalCharges\": [29.85, 1889.5],\n",
        "    \"numAdminTickets\": [0, 0],\n",
        "    \"numTechTickets\": [0, 0]\n",
        "})\n",
        "\n",
        "# Apply the same preprocessing as on training data\n",
        "sample_data_processed = pd.get_dummies(sample_data)  # One-Hot Encoding\n",
        "\n",
        "# Ensure sample data has the same features as X_train_reduced\n",
        "missing_cols = set(X_train_reduced.columns) - set(sample_data_processed.columns)\n",
        "for col in missing_cols:\n",
        "    sample_data_processed[col] = 0  # Add missing columns with default value\n",
        "\n",
        "# Ensure column order matches training data\n",
        "sample_data_processed = sample_data_processed[X_train_reduced.columns]\n"
      ],
      "metadata": {
        "id": "1KqZ64MILv7g"
      },
      "execution_count": null,
      "outputs": []
    },
    {
      "cell_type": "code",
      "source": [
        "# Test with Random Forest (SMOTE-trained)\n",
        "rf_prediction = rf_smote.predict(sample_data_processed)\n",
        "rf_proba = rf_smote.predict_proba(sample_data_processed)[:, 1]\n",
        "\n",
        "# Test with XGBoost\n",
        "xgb_prediction = xgb.predict(sample_data_processed)\n",
        "xgb_proba = xgb.predict_proba(sample_data_processed)[:, 1]\n",
        "\n",
        "# Print results\n",
        "print(\"\\n🔍 Predictions for Sample Data:\")\n",
        "for i in range(len(sample_data)):\n",
        "    print(f\"📌 Customer {i+1}:\")\n",
        "    print(f\"   - Random Forest: {'Churn' if rf_prediction[i] == 1 else 'No Churn'} (Probability: {rf_proba[i]:.4f})\")\n",
        "    print(f\"   - XGBoost: {'Churn' if xgb_prediction[i] == 1 else 'No Churn'} (Probability: {xgb_proba[i]:.4f})\")\n",
        "    print(\"-\" * 50)\n"
      ],
      "metadata": {
        "colab": {
          "base_uri": "https://localhost:8080/"
        },
        "id": "Vh992Gi6LaTJ",
        "outputId": "e679e3e1-647b-4919-be56-61199e4f5c52"
      },
      "execution_count": null,
      "outputs": [
        {
          "output_type": "stream",
          "name": "stdout",
          "text": [
            "\n",
            "🔍 Predictions for Sample Data:\n",
            "📌 Customer 1:\n",
            "   - Random Forest: Churn (Probability: 0.8487)\n",
            "   - XGBoost: Churn (Probability: 0.7394)\n",
            "--------------------------------------------------\n",
            "📌 Customer 2:\n",
            "   - Random Forest: No Churn (Probability: 0.2280)\n",
            "   - XGBoost: No Churn (Probability: 0.0440)\n",
            "--------------------------------------------------\n"
          ]
        }
      ]
    },
    {
      "cell_type": "code",
      "source": [
        "import pandas as pd\n",
        "from sklearn.ensemble import RandomForestClassifier\n",
        "from sklearn.metrics import classification_report, roc_auc_score\n",
        "\n",
        "# Sample data\n",
        "sample_data = pd.DataFrame({\n",
        "    \"gender\": [\"Female\", \"Male\"],\n",
        "    \"SeniorCitizen\": [0, 0],\n",
        "    \"Partner\": [\"Yes\", \"No\"],\n",
        "    \"Dependents\": [\"No\", \"No\"],\n",
        "    \"tenure\": [1, 34],\n",
        "    \"PhoneService\": [\"No\", \"Yes\"],\n",
        "    \"MultipleLines\": [\"No phone service\", \"No\"],\n",
        "    \"InternetService\": [\"DSL\", \"DSL\"],\n",
        "    \"OnlineSecurity\": [\"No\", \"Yes\"],\n",
        "    \"OnlineBackup\": [\"Yes\", \"No\"],\n",
        "    \"DeviceProtection\": [\"No\", \"Yes\"],\n",
        "    \"TechSupport\": [\"No\", \"No\"],\n",
        "    \"StreamingTV\": [\"No\", \"No\"],\n",
        "    \"StreamingMovies\": [\"No\", \"No\"],\n",
        "    \"Contract\": [\"Month-to-month\", \"One year\"],\n",
        "    \"PaperlessBilling\": [\"Yes\", \"No\"],\n",
        "    \"PaymentMethod\": [\"Electronic check\", \"Mailed check\"],\n",
        "    \"MonthlyCharges\": [29.85, 56.95],\n",
        "    \"TotalCharges\": [29.85, 1889.5],\n",
        "    \"numAdminTickets\": [0, 0],\n",
        "    \"numTechTickets\": [0, 0]\n",
        "})\n",
        "\n",
        "# Apply the same preprocessing as on training data\n",
        "sample_data_processed = pd.get_dummies(sample_data)  # One-Hot Encoding\n",
        "\n",
        "# Ensure sample data has the same features as X_train_reduced\n",
        "missing_cols = set(X_train_reduced.columns) - set(sample_data_processed.columns)\n",
        "for col in missing_cols:\n",
        "    sample_data_processed[col] = 0  # Add missing columns with default value\n",
        "\n",
        "# Ensure column order matches training data\n",
        "sample_data_processed = sample_data_processed[X_train_reduced.columns]\n"
      ],
      "metadata": {
        "id": "AaPJL9ePahli"
      },
      "execution_count": null,
      "outputs": []
    },
    {
      "cell_type": "code",
      "source": [
        "from catboost import CatBoostClassifier\n",
        "from sklearn.model_selection import GridSearchCV\n",
        "\n",
        "# Define hyperparameters to tune\n",
        "param_grid = {\n",
        "    'iterations': [500, 1000],  # Number of boosting rounds\n",
        "    'learning_rate': [0.01, 0.05, 0.1],  # Step size of weight updates\n",
        "    'depth': [4, 6, 8],  # Depth of trees (higher = more complex)\n",
        "    'l2_leaf_reg': [3, 5, 7]  # L2 regularization to prevent overfitting\n",
        "}\n",
        "\n",
        "# Initialize CatBoost model\n",
        "cb = CatBoostClassifier(auto_class_weights=\"Balanced\", verbose=0, random_seed=42)\n",
        "\n",
        "# Perform GridSearchCV to find the best parameters\n",
        "grid_search = GridSearchCV(cb, param_grid, scoring='roc_auc', cv=3, n_jobs=-1)\n",
        "grid_search.fit(X_train_reduced, y_train)\n",
        "\n",
        "# Print best parameters\n",
        "print(\"✅ Best Parameters Found:\", grid_search.best_params_)\n",
        "print(\"📈 Best AUC-ROC Score:\", grid_search.best_score_)\n"
      ],
      "metadata": {
        "colab": {
          "base_uri": "https://localhost:8080/"
        },
        "id": "6I6PpqrMe3u1",
        "outputId": "f692fffc-17ae-4d6e-a607-26489f4b9ad7"
      },
      "execution_count": null,
      "outputs": [
        {
          "output_type": "stream",
          "name": "stdout",
          "text": [
            "✅ Best Parameters Found: {'depth': 6, 'iterations': 1000, 'l2_leaf_reg': 3, 'learning_rate': 0.01}\n",
            "📈 Best AUC-ROC Score: 0.9278472942215185\n"
          ]
        }
      ]
    },
    {
      "cell_type": "code",
      "source": [
        "# Use the best parameters from GridSearch\n",
        "best_params = grid_search.best_params_\n",
        "\n",
        "# Train the best CatBoost model\n",
        "best_catboost = CatBoostClassifier(**best_params, auto_class_weights=\"Balanced\", verbose=100, random_seed=42)\n",
        "best_catboost.fit(X_train_reduced, y_train)\n",
        "\n",
        "# Predict on test set\n",
        "y_pred_best_cb = best_catboost.predict(X_test_reduced)\n",
        "y_pred_proba_best_cb = best_catboost.predict_proba(X_test_reduced)[:, 1]\n",
        "\n",
        "# Evaluate model performance\n",
        "from sklearn.metrics import classification_report, roc_auc_score\n",
        "\n",
        "print(\"\\n📊 Classification Report (Fine-Tuned CatBoost):\\n\", classification_report(y_test, y_pred_best_cb))\n",
        "print(\"📈 AUC-ROC Score (Fine-Tuned CatBoost):\", roc_auc_score(y_test, y_pred_proba_best_cb))\n"
      ],
      "metadata": {
        "colab": {
          "base_uri": "https://localhost:8080/"
        },
        "id": "uXwg_YuSfioR",
        "outputId": "eaea09bc-6ab8-4434-a145-1d67f04f2c48"
      },
      "execution_count": null,
      "outputs": [
        {
          "output_type": "stream",
          "name": "stdout",
          "text": [
            "0:\tlearn: 0.6849115\ttotal: 5.96ms\tremaining: 5.96s\n",
            "100:\tlearn: 0.3977637\ttotal: 581ms\tremaining: 5.17s\n",
            "200:\tlearn: 0.3526993\ttotal: 1.32s\tremaining: 5.26s\n",
            "300:\tlearn: 0.3345936\ttotal: 1.78s\tremaining: 4.14s\n",
            "400:\tlearn: 0.3230180\ttotal: 2.1s\tremaining: 3.14s\n",
            "500:\tlearn: 0.3134536\ttotal: 2.43s\tremaining: 2.42s\n",
            "600:\tlearn: 0.3057505\ttotal: 2.76s\tremaining: 1.83s\n",
            "700:\tlearn: 0.2994227\ttotal: 3.09s\tremaining: 1.32s\n",
            "800:\tlearn: 0.2933984\ttotal: 3.41s\tremaining: 847ms\n",
            "900:\tlearn: 0.2869078\ttotal: 3.75s\tremaining: 412ms\n",
            "999:\tlearn: 0.2804156\ttotal: 4.09s\tremaining: 0us\n",
            "\n",
            "📊 Classification Report (Fine-Tuned CatBoost):\n",
            "               precision    recall  f1-score   support\n",
            "\n",
            "           0       0.96      0.83      0.89      1035\n",
            "           1       0.65      0.90      0.76       374\n",
            "\n",
            "    accuracy                           0.85      1409\n",
            "   macro avg       0.81      0.86      0.82      1409\n",
            "weighted avg       0.88      0.85      0.85      1409\n",
            "\n",
            "📈 AUC-ROC Score (Fine-Tuned CatBoost): 0.9358495440336874\n"
          ]
        }
      ]
    },
    {
      "cell_type": "code",
      "source": [
        "best_catboost = CatBoostClassifier(\n",
        "    iterations=2000,\n",
        "    learning_rate=0.01,\n",
        "    depth=6,\n",
        "    auto_class_weights=\"Balanced\",\n",
        "    random_seed=42,\n",
        "    early_stopping_rounds=100  # Stops training if no improvement in 100 rounds\n",
        ")\n",
        "\n",
        "best_catboost.fit(X_train_reduced, y_train, eval_set=(X_test_reduced, y_test), verbose=100)\n"
      ],
      "metadata": {
        "colab": {
          "base_uri": "https://localhost:8080/"
        },
        "id": "6hxwTUnWjNGx",
        "outputId": "3c8cdfaa-6535-4f95-e925-97c1dab07516"
      },
      "execution_count": null,
      "outputs": [
        {
          "output_type": "stream",
          "name": "stdout",
          "text": [
            "0:\tlearn: 0.6849115\ttest: 0.6848969\tbest: 0.6848969 (0)\ttotal: 19.4ms\tremaining: 38.7s\n",
            "100:\tlearn: 0.3977637\ttest: 0.3938066\tbest: 0.3938066 (100)\ttotal: 1.66s\tremaining: 31.3s\n",
            "200:\tlearn: 0.3526993\ttest: 0.3500670\tbest: 0.3500670 (200)\ttotal: 3.87s\tremaining: 34.6s\n",
            "300:\tlearn: 0.3345936\ttest: 0.3353360\tbest: 0.3353360 (300)\ttotal: 4.78s\tremaining: 27s\n",
            "400:\tlearn: 0.3230180\ttest: 0.3275952\tbest: 0.3275952 (400)\ttotal: 5.78s\tremaining: 23.1s\n",
            "500:\tlearn: 0.3134536\ttest: 0.3231491\tbest: 0.3231380 (499)\ttotal: 6.92s\tremaining: 20.7s\n",
            "600:\tlearn: 0.3057505\ttest: 0.3202562\tbest: 0.3202317 (598)\ttotal: 7.8s\tremaining: 18.2s\n",
            "700:\tlearn: 0.2994227\ttest: 0.3185573\tbest: 0.3185573 (700)\ttotal: 8.78s\tremaining: 16.3s\n",
            "800:\tlearn: 0.2933984\ttest: 0.3174869\tbest: 0.3174386 (797)\ttotal: 10s\tremaining: 15s\n",
            "900:\tlearn: 0.2869078\ttest: 0.3163572\tbest: 0.3163572 (900)\ttotal: 10.9s\tremaining: 13.3s\n",
            "1000:\tlearn: 0.2803175\ttest: 0.3158042\tbest: 0.3155116 (963)\ttotal: 11.7s\tremaining: 11.7s\n",
            "1100:\tlearn: 0.2736019\ttest: 0.3156897\tbest: 0.3153348 (1041)\ttotal: 12.4s\tremaining: 10.1s\n",
            "Stopped by overfitting detector  (100 iterations wait)\n",
            "\n",
            "bestTest = 0.3153348098\n",
            "bestIteration = 1041\n",
            "\n",
            "Shrink model to first 1042 iterations.\n"
          ]
        },
        {
          "output_type": "execute_result",
          "data": {
            "text/plain": [
              "<catboost.core.CatBoostClassifier at 0x7b717ecd11d0>"
            ]
          },
          "metadata": {},
          "execution_count": 108
        }
      ]
    },
    {
      "cell_type": "code",
      "source": [
        "from hyperopt import hp, fmin, tpe, Trials\n",
        "from catboost import CatBoostClassifier\n",
        "\n",
        "# Define search space\n",
        "space = {\n",
        "    'iterations': hp.choice('iterations', [500, 1000, 1500]),\n",
        "    'learning_rate': hp.uniform('learning_rate', 0.01, 0.1),\n",
        "    'depth': hp.choice('depth', [4, 6, 8, 10]),\n",
        "    'l2_leaf_reg': hp.uniform('l2_leaf_reg', 1, 10)\n",
        "}\n",
        "\n",
        "# Objective function\n",
        "def objective(params):\n",
        "    model = CatBoostClassifier(**params, auto_class_weights=\"Balanced\", verbose=0, random_seed=42)\n",
        "    model.fit(X_train_reduced, y_train, eval_set=(X_test_reduced, y_test), early_stopping_rounds=50, verbose=0)\n",
        "    y_pred_proba = model.predict_proba(X_test_reduced)[:, 1]\n",
        "    return -roc_auc_score(y_test, y_pred_proba)  # Minimize negative AUC-ROC\n",
        "\n",
        "# Run Hyperopt Optimization\n",
        "trials = Trials()\n",
        "best = fmin(fn=objective, space=space, algo=tpe.suggest, max_evals=20, trials=trials)\n",
        "\n",
        "print(\"✅ Best Hyperparameters:\", best)\n"
      ],
      "metadata": {
        "colab": {
          "base_uri": "https://localhost:8080/"
        },
        "id": "f1GD0f11jank",
        "outputId": "0cab84a9-f289-4c3a-8357-00e837b6bed5"
      },
      "execution_count": null,
      "outputs": [
        {
          "output_type": "stream",
          "name": "stdout",
          "text": [
            "100%|██████████| 20/20 [00:45<00:00,  2.26s/trial, best loss: -0.9368428530832622]\n",
            "✅ Best Hyperparameters: {'depth': 0, 'iterations': 2, 'l2_leaf_reg': 1.7753592705095764, 'learning_rate': 0.0879549987174874}\n"
          ]
        }
      ]
    },
    {
      "cell_type": "markdown",
      "source": [
        "# FEATURE ENGINEERING"
      ],
      "metadata": {
        "id": "nbw3vfFxtMEO"
      }
    },
    {
      "cell_type": "code",
      "source": [
        "import pandas as pd\n",
        "\n",
        "# ✅ 1. Create AvgMonthlySpend Feature (TotalCharges / Tenure)\n",
        "X_train_reduced[\"AvgMonthlySpend\"] = X_train_reduced[\"TotalCharges\"] / (X_train_reduced[\"tenure\"] + 1)  # Avoid divide by zero\n",
        "X_test_reduced[\"AvgMonthlySpend\"] = X_test_reduced[\"TotalCharges\"] / (X_test_reduced[\"tenure\"] + 1)\n",
        "\n",
        "# ✅ 2. Create TenureGroup Feature (Categorical Grouping)\n",
        "def tenure_group(tenure):\n",
        "    if tenure <= 12:\n",
        "        return \"New\"\n",
        "    elif tenure <= 36:\n",
        "        return \"Medium\"\n",
        "    else:\n",
        "        return \"Long-term\"\n",
        "\n",
        "X_train_reduced[\"TenureGroup\"] = X_train_reduced[\"tenure\"].apply(tenure_group)\n",
        "X_test_reduced[\"TenureGroup\"] = X_test_reduced[\"tenure\"].apply(tenure_group)\n",
        "\n",
        "# One-Hot Encode TenureGroup\n",
        "X_train_reduced = pd.get_dummies(X_train_reduced, columns=[\"TenureGroup\"])\n",
        "X_test_reduced = pd.get_dummies(X_test_reduced, columns=[\"TenureGroup\"])\n",
        "\n",
        "# ✅ 3. Create TotalSupportTickets Feature\n",
        "X_train_reduced[\"TotalSupportTickets\"] = X_train_reduced[\"numAdminTickets\"] + X_train_reduced[\"numTechTickets\"]\n",
        "X_test_reduced[\"TotalSupportTickets\"] = X_test_reduced[\"numAdminTickets\"] + X_test_reduced[\"numTechTickets\"]\n",
        "\n",
        "# ✅ 4. Combine StreamingTV & StreamingMovies into HasStreamingService Feature\n",
        "X_train_reduced[\"HasStreamingService\"] = ((X_train_reduced[\"StreamingTV\"] == 1) | (X_train_reduced[\"StreamingMovies\"] == 1)).astype(int)\n",
        "X_test_reduced[\"HasStreamingService\"] = ((X_test_reduced[\"StreamingTV\"] == 1) | (X_test_reduced[\"StreamingMovies\"] == 1)).astype(int)\n",
        "\n",
        "# ✅ 5. Convert Contract Type into Numeric Values\n",
        "# Instead of \"Contract\", use the one-hot encoded versions\n",
        "X_train_reduced[\"ContractType\"] = (\n",
        "    X_train_reduced[\"Contract_One year\"] * 1 + X_train_reduced[\"Contract_Two year\"] * 2\n",
        ")\n",
        "X_test_reduced[\"ContractType\"] = (\n",
        "    X_test_reduced[\"Contract_One year\"] * 1 + X_test_reduced[\"Contract_Two year\"] * 2\n",
        ")\n",
        "\n"
      ],
      "metadata": {
        "id": "LiCH2i6uklmX"
      },
      "execution_count": null,
      "outputs": []
    },
    {
      "cell_type": "code",
      "source": [
        "# Remove duplicate columns if they exist\n",
        "X_train_reduced = X_train_reduced.loc[:, ~X_train_reduced.columns.duplicated()]\n",
        "X_test_reduced = X_test_reduced.loc[:, ~X_test_reduced.columns.duplicated()]\n"
      ],
      "metadata": {
        "id": "_jey7Qy0lddi"
      },
      "execution_count": null,
      "outputs": []
    },
    {
      "cell_type": "code",
      "source": [
        "from catboost import CatBoostClassifier\n",
        "from sklearn.metrics import classification_report, roc_auc_score\n",
        "\n",
        "# Use the best parameters from fine-tuning\n",
        "best_catboost = CatBoostClassifier(\n",
        "    iterations=1000,\n",
        "    learning_rate=0.01,\n",
        "    depth=6,\n",
        "    auto_class_weights=\"Balanced\",\n",
        "    random_seed=42,\n",
        "    early_stopping_rounds=100,\n",
        "    verbose=100\n",
        ")\n",
        "\n",
        "# Train on the updated dataset\n",
        "best_catboost.fit(X_train_reduced, y_train, eval_set=(X_test_reduced, y_test), verbose=100)\n",
        "\n",
        "# Predict on the test set\n",
        "y_pred_best_cb = best_catboost.predict(X_test_reduced)\n",
        "y_pred_proba_best_cb = best_catboost.predict_proba(X_test_reduced)[:, 1]\n",
        "\n",
        "# Evaluate the model\n",
        "print(\"\\n📊 Classification Report (CatBoost After Feature Engineering):\\n\", classification_report(y_test, y_pred_best_cb))\n",
        "print(\"📈 AUC-ROC Score (After Feature Engineering):\", roc_auc_score(y_test, y_pred_proba_best_cb))\n"
      ],
      "metadata": {
        "colab": {
          "base_uri": "https://localhost:8080/"
        },
        "id": "3cDX7zOmlP3M",
        "outputId": "59748642-dc41-44be-dbc4-2b6fffe8266f"
      },
      "execution_count": null,
      "outputs": [
        {
          "output_type": "stream",
          "name": "stdout",
          "text": [
            "0:\tlearn: 0.6844507\ttest: 0.6846560\tbest: 0.6846560 (0)\ttotal: 4.41ms\tremaining: 4.4s\n",
            "100:\tlearn: 0.3969839\ttest: 0.3969678\tbest: 0.3969678 (100)\ttotal: 391ms\tremaining: 3.48s\n",
            "200:\tlearn: 0.3514509\ttest: 0.3517375\tbest: 0.3517375 (200)\ttotal: 768ms\tremaining: 3.05s\n",
            "300:\tlearn: 0.3334460\ttest: 0.3371260\tbest: 0.3371260 (300)\ttotal: 1.15s\tremaining: 2.67s\n",
            "400:\tlearn: 0.3215109\ttest: 0.3301521\tbest: 0.3301521 (400)\ttotal: 1.53s\tremaining: 2.28s\n",
            "500:\tlearn: 0.3123493\ttest: 0.3261496\tbest: 0.3261252 (498)\ttotal: 1.9s\tremaining: 1.89s\n",
            "600:\tlearn: 0.3051429\ttest: 0.3236307\tbest: 0.3236307 (600)\ttotal: 2.28s\tremaining: 1.51s\n",
            "700:\tlearn: 0.2981048\ttest: 0.3214563\tbest: 0.3214563 (700)\ttotal: 2.65s\tremaining: 1.13s\n",
            "800:\tlearn: 0.2918399\ttest: 0.3202935\tbest: 0.3202934 (799)\ttotal: 3.02s\tremaining: 751ms\n",
            "900:\tlearn: 0.2851840\ttest: 0.3193254\tbest: 0.3192861 (899)\ttotal: 3.4s\tremaining: 374ms\n",
            "999:\tlearn: 0.2783056\ttest: 0.3185510\tbest: 0.3185510 (999)\ttotal: 3.78s\tremaining: 0us\n",
            "\n",
            "bestTest = 0.3185510272\n",
            "bestIteration = 999\n",
            "\n",
            "\n",
            "📊 Classification Report (CatBoost After Feature Engineering):\n",
            "               precision    recall  f1-score   support\n",
            "\n",
            "           0       0.96      0.83      0.89      1035\n",
            "           1       0.65      0.90      0.76       374\n",
            "\n",
            "    accuracy                           0.85      1409\n",
            "   macro avg       0.81      0.87      0.82      1409\n",
            "weighted avg       0.88      0.85      0.85      1409\n",
            "\n",
            "📈 AUC-ROC Score (After Feature Engineering): 0.9348962773515205\n"
          ]
        }
      ]
    },
    {
      "cell_type": "code",
      "source": [
        "from imblearn.over_sampling import SMOTE\n",
        "import pandas as pd\n",
        "from catboost import CatBoostClassifier\n",
        "from sklearn.metrics import classification_report, roc_auc_score\n",
        "\n",
        "# Apply SMOTE to training data\n",
        "smote = SMOTE(random_state=42)\n",
        "X_train_smote, y_train_smote = smote.fit_resample(X_train_reduced, y_train)\n",
        "\n",
        "# Print new class distribution after SMOTE\n",
        "print(\"Class distribution after SMOTE:\", pd.Series(y_train_smote).value_counts())\n"
      ],
      "metadata": {
        "colab": {
          "base_uri": "https://localhost:8080/"
        },
        "id": "8j59IUoKrBhS",
        "outputId": "d777b80f-6c51-4be4-c5a9-0c4d2b94dd07"
      },
      "execution_count": null,
      "outputs": [
        {
          "output_type": "stream",
          "name": "stdout",
          "text": [
            "Class distribution after SMOTE: Churn\n",
            "0    4139\n",
            "1    4139\n",
            "Name: count, dtype: int64\n"
          ]
        }
      ]
    },
    {
      "cell_type": "code",
      "source": [
        "# Train CatBoost on SMOTE-balanced data\n",
        "catboost_smote = CatBoostClassifier(\n",
        "    iterations=1000,\n",
        "    learning_rate=0.01,\n",
        "    depth=6,\n",
        "    auto_class_weights=\"Balanced\",\n",
        "    random_seed=42,\n",
        "    early_stopping_rounds=100,\n",
        "    verbose=100\n",
        ")\n",
        "\n",
        "catboost_smote.fit(X_train_smote, y_train_smote, eval_set=(X_test_reduced, y_test), verbose=100)\n",
        "\n",
        "# Predict on test set\n",
        "y_pred_cb_smote = catboost_smote.predict(X_test_reduced)\n",
        "y_pred_proba_cb_smote = catboost_smote.predict_proba(X_test_reduced)[:, 1]\n",
        "\n",
        "# Evaluate model performance\n",
        "print(\"\\n📊 Classification Report (CatBoost + SMOTE):\\n\", classification_report(y_test, y_pred_cb_smote))\n",
        "print(\"📈 AUC-ROC Score (CatBoost + SMOTE):\", roc_auc_score(y_test, y_pred_proba_cb_smote))\n"
      ],
      "metadata": {
        "colab": {
          "base_uri": "https://localhost:8080/"
        },
        "id": "2WRai3-SrEFW",
        "outputId": "d6643f44-50eb-407b-9c56-fa90c5b7c4d5"
      },
      "execution_count": null,
      "outputs": [
        {
          "output_type": "stream",
          "name": "stdout",
          "text": [
            "0:\tlearn: 0.6833351\ttest: 0.6821842\tbest: 0.6821842 (0)\ttotal: 4.97ms\tremaining: 4.96s\n",
            "100:\tlearn: 0.3635182\ttest: 0.3716635\tbest: 0.3716635 (100)\ttotal: 997ms\tremaining: 8.88s\n",
            "200:\tlearn: 0.3165033\ttest: 0.3466291\tbest: 0.3466291 (200)\ttotal: 1.82s\tremaining: 7.24s\n",
            "300:\tlearn: 0.2964049\ttest: 0.3370231\tbest: 0.3370101 (298)\ttotal: 3.39s\tremaining: 7.87s\n",
            "400:\tlearn: 0.2828204\ttest: 0.3311768\tbest: 0.3311768 (400)\ttotal: 4.56s\tremaining: 6.81s\n",
            "500:\tlearn: 0.2732438\ttest: 0.3274581\tbest: 0.3274581 (500)\ttotal: 6.12s\tremaining: 6.1s\n",
            "600:\tlearn: 0.2647846\ttest: 0.3243521\tbest: 0.3243521 (600)\ttotal: 7.57s\tremaining: 5.02s\n",
            "700:\tlearn: 0.2580615\ttest: 0.3218266\tbest: 0.3218083 (699)\ttotal: 9.27s\tremaining: 3.95s\n",
            "800:\tlearn: 0.2517703\ttest: 0.3200895\tbest: 0.3200895 (800)\ttotal: 10.7s\tremaining: 2.65s\n",
            "900:\tlearn: 0.2458470\ttest: 0.3188067\tbest: 0.3188067 (900)\ttotal: 11.5s\tremaining: 1.26s\n",
            "999:\tlearn: 0.2395776\ttest: 0.3179680\tbest: 0.3178858 (984)\ttotal: 12.9s\tremaining: 0us\n",
            "\n",
            "bestTest = 0.3178858146\n",
            "bestIteration = 984\n",
            "\n",
            "Shrink model to first 985 iterations.\n",
            "\n",
            "📊 Classification Report (CatBoost + SMOTE):\n",
            "               precision    recall  f1-score   support\n",
            "\n",
            "           0       0.93      0.85      0.89      1035\n",
            "           1       0.66      0.82      0.73       374\n",
            "\n",
            "    accuracy                           0.84      1409\n",
            "   macro avg       0.80      0.83      0.81      1409\n",
            "weighted avg       0.86      0.84      0.85      1409\n",
            "\n",
            "📈 AUC-ROC Score (CatBoost + SMOTE): 0.9242398408638817\n"
          ]
        }
      ]
    },
    {
      "cell_type": "markdown",
      "source": [
        "# CHECKING FOR OVERFITTING"
      ],
      "metadata": {
        "id": "65gXJ0w6s41R"
      }
    },
    {
      "cell_type": "code",
      "source": [
        "from sklearn.model_selection import cross_val_score\n",
        "\n",
        "cv_auc = cross_val_score(best_catboost, X_train_reduced, y_train, cv=5, scoring=\"roc_auc\")\n",
        "print(\"Cross-Validation AUC-ROC Scores:\", cv_auc)\n",
        "print(\"Mean AUC-ROC:\", cv_auc.mean())\n"
      ],
      "metadata": {
        "colab": {
          "base_uri": "https://localhost:8080/"
        },
        "id": "KHDzBL42r2Vr",
        "outputId": "86fff396-5793-4dad-9107-c91b3316f725"
      },
      "execution_count": null,
      "outputs": [
        {
          "output_type": "stream",
          "name": "stdout",
          "text": [
            "0:\tlearn: 0.6848614\ttotal: 3.56ms\tremaining: 3.56s\n",
            "100:\tlearn: 0.4033005\ttotal: 648ms\tremaining: 5.77s\n",
            "200:\tlearn: 0.3569620\ttotal: 1.24s\tremaining: 4.94s\n",
            "300:\tlearn: 0.3375615\ttotal: 1.73s\tremaining: 4.01s\n",
            "400:\tlearn: 0.3240803\ttotal: 2.29s\tremaining: 3.42s\n",
            "500:\tlearn: 0.3144478\ttotal: 2.83s\tremaining: 2.82s\n",
            "600:\tlearn: 0.3057141\ttotal: 3.32s\tremaining: 2.2s\n",
            "700:\tlearn: 0.2975759\ttotal: 4s\tremaining: 1.71s\n",
            "800:\tlearn: 0.2901750\ttotal: 4.76s\tremaining: 1.18s\n",
            "900:\tlearn: 0.2820721\ttotal: 6.18s\tremaining: 680ms\n",
            "999:\tlearn: 0.2741177\ttotal: 7.11s\tremaining: 0us\n",
            "0:\tlearn: 0.6847116\ttotal: 11.8ms\tremaining: 11.8s\n",
            "100:\tlearn: 0.4016765\ttotal: 751ms\tremaining: 6.68s\n",
            "200:\tlearn: 0.3549393\ttotal: 1.48s\tremaining: 5.9s\n",
            "300:\tlearn: 0.3364711\ttotal: 2.54s\tremaining: 5.91s\n",
            "400:\tlearn: 0.3239363\ttotal: 3.81s\tremaining: 5.7s\n",
            "500:\tlearn: 0.3146548\ttotal: 5.08s\tremaining: 5.06s\n",
            "600:\tlearn: 0.3071026\ttotal: 6.42s\tremaining: 4.26s\n",
            "700:\tlearn: 0.2993700\ttotal: 7.82s\tremaining: 3.34s\n",
            "800:\tlearn: 0.2920573\ttotal: 8.56s\tremaining: 2.13s\n",
            "900:\tlearn: 0.2844961\ttotal: 9.01s\tremaining: 990ms\n",
            "999:\tlearn: 0.2770244\ttotal: 9.78s\tremaining: 0us\n",
            "0:\tlearn: 0.6843799\ttotal: 6.34ms\tremaining: 6.33s\n",
            "100:\tlearn: 0.3979220\ttotal: 980ms\tremaining: 8.73s\n",
            "200:\tlearn: 0.3509155\ttotal: 1.92s\tremaining: 7.61s\n",
            "300:\tlearn: 0.3319722\ttotal: 2.24s\tremaining: 5.2s\n",
            "400:\tlearn: 0.3195808\ttotal: 2.57s\tremaining: 3.85s\n",
            "500:\tlearn: 0.3093485\ttotal: 2.9s\tremaining: 2.88s\n",
            "600:\tlearn: 0.3003162\ttotal: 3.21s\tremaining: 2.13s\n",
            "700:\tlearn: 0.2928870\ttotal: 3.56s\tremaining: 1.52s\n",
            "800:\tlearn: 0.2850184\ttotal: 3.88s\tremaining: 964ms\n",
            "900:\tlearn: 0.2778503\ttotal: 4.21s\tremaining: 463ms\n",
            "999:\tlearn: 0.2696002\ttotal: 4.55s\tremaining: 0us\n",
            "0:\tlearn: 0.6841930\ttotal: 3.33ms\tremaining: 3.33s\n",
            "100:\tlearn: 0.3889350\ttotal: 330ms\tremaining: 2.94s\n",
            "200:\tlearn: 0.3434738\ttotal: 648ms\tremaining: 2.58s\n",
            "300:\tlearn: 0.3243462\ttotal: 987ms\tremaining: 2.29s\n",
            "400:\tlearn: 0.3106134\ttotal: 1.31s\tremaining: 1.95s\n",
            "500:\tlearn: 0.3004644\ttotal: 1.63s\tremaining: 1.62s\n",
            "600:\tlearn: 0.2917416\ttotal: 1.97s\tremaining: 1.3s\n",
            "700:\tlearn: 0.2848133\ttotal: 2.28s\tremaining: 974ms\n",
            "800:\tlearn: 0.2776531\ttotal: 2.6s\tremaining: 647ms\n",
            "900:\tlearn: 0.2703220\ttotal: 2.94s\tremaining: 323ms\n",
            "999:\tlearn: 0.2634329\ttotal: 3.26s\tremaining: 0us\n",
            "0:\tlearn: 0.6842711\ttotal: 3.3ms\tremaining: 3.3s\n",
            "100:\tlearn: 0.3918454\ttotal: 462ms\tremaining: 4.11s\n",
            "200:\tlearn: 0.3456823\ttotal: 1.17s\tremaining: 4.67s\n",
            "300:\tlearn: 0.3254801\ttotal: 1.83s\tremaining: 4.26s\n",
            "400:\tlearn: 0.3124844\ttotal: 2.63s\tremaining: 3.92s\n",
            "500:\tlearn: 0.3025925\ttotal: 3.19s\tremaining: 3.18s\n",
            "600:\tlearn: 0.2938551\ttotal: 3.87s\tremaining: 2.57s\n",
            "700:\tlearn: 0.2859624\ttotal: 4.47s\tremaining: 1.91s\n",
            "800:\tlearn: 0.2784326\ttotal: 5.14s\tremaining: 1.28s\n",
            "900:\tlearn: 0.2706204\ttotal: 5.7s\tremaining: 626ms\n",
            "999:\tlearn: 0.2630454\ttotal: 6.04s\tremaining: 0us\n",
            "Cross-Validation AUC-ROC Scores: [0.9379534  0.93488561 0.92538534 0.91264965 0.91827454]\n",
            "Mean AUC-ROC: 0.9258297094074142\n"
          ]
        }
      ]
    },
    {
      "cell_type": "markdown",
      "source": [
        "# TESTING USING CATBOOST"
      ],
      "metadata": {
        "id": "sF1k9EvUs-us"
      }
    },
    {
      "cell_type": "code",
      "source": [
        "import pandas as pd\n",
        "\n",
        "# Create test sample data\n",
        "test_sample = pd.DataFrame({\n",
        "    \"gender\": [\"Female\", \"Male\", \"Female\", \"Male\"],\n",
        "    \"SeniorCitizen\": [0, 1, 0, 1],\n",
        "    \"Partner\": [\"Yes\", \"No\", \"No\", \"Yes\"],\n",
        "    \"Dependents\": [\"No\", \"No\", \"Yes\", \"No\"],\n",
        "    \"tenure\": [1, 24, 6, 60],  # Short & long tenure cases\n",
        "    \"PhoneService\": [\"No\", \"Yes\", \"Yes\", \"Yes\"],\n",
        "    \"MultipleLines\": [\"No phone service\", \"No\", \"Yes\", \"Yes\"],\n",
        "    \"InternetService\": [\"DSL\", \"Fiber optic\", \"DSL\", \"No\"],\n",
        "    \"OnlineSecurity\": [\"No\", \"Yes\", \"No\", \"No internet service\"],\n",
        "    \"OnlineBackup\": [\"Yes\", \"No\", \"Yes\", \"No internet service\"],\n",
        "    \"DeviceProtection\": [\"No\", \"Yes\", \"No\", \"No internet service\"],\n",
        "    \"TechSupport\": [\"No\", \"Yes\", \"No\", \"No internet service\"],\n",
        "    \"StreamingTV\": [\"No\", \"Yes\", \"No\", \"No internet service\"],\n",
        "    \"StreamingMovies\": [\"No\", \"Yes\", \"No\", \"No internet service\"],\n",
        "    \"Contract\": [\"Month-to-month\", \"Two year\", \"One year\", \"Month-to-month\"],\n",
        "    \"PaperlessBilling\": [\"Yes\", \"No\", \"Yes\", \"No\"],\n",
        "    \"PaymentMethod\": [\"Electronic check\", \"Credit card (automatic)\", \"Mailed check\", \"Bank transfer (automatic)\"],\n",
        "    \"MonthlyCharges\": [29.85, 89.10, 45.00, 18.75],  # Low & high spending cases\n",
        "    \"TotalCharges\": [29.85, 2150.35, 270.00, 1125.40],  # Customers with different total spending\n",
        "    \"numAdminTickets\": [0, 3, 1, 0],  # Ticket history\n",
        "    \"numTechTickets\": [0, 2, 0, 1]\n",
        "})\n",
        "\n",
        "print(\"✅ Test Sample Data Created!\")\n"
      ],
      "metadata": {
        "colab": {
          "base_uri": "https://localhost:8080/"
        },
        "id": "2opu7ZtVsjt4",
        "outputId": "1565c166-228a-420c-80f4-8d62325a18ec"
      },
      "execution_count": null,
      "outputs": [
        {
          "output_type": "stream",
          "name": "stdout",
          "text": [
            "✅ Test Sample Data Created!\n"
          ]
        }
      ]
    },
    {
      "cell_type": "code",
      "source": [
        "# Apply the same preprocessing steps as the training data\n",
        "test_sample_processed = pd.get_dummies(test_sample)\n",
        "\n",
        "# Ensure test sample has the same features as X_train_reduced\n",
        "missing_cols = set(X_train_reduced.columns) - set(test_sample_processed.columns)\n",
        "for col in missing_cols:\n",
        "    test_sample_processed[col] = 0  # Add missing columns with default value\n",
        "\n",
        "# Ensure column order matches training data\n",
        "test_sample_processed = test_sample_processed[X_train_reduced.columns]\n"
      ],
      "metadata": {
        "id": "knQTue4QsmrG"
      },
      "execution_count": null,
      "outputs": []
    },
    {
      "cell_type": "code",
      "source": [
        "# Predict using trained CatBoost model\n",
        "y_pred_test = best_catboost.predict(test_sample_processed)\n",
        "y_pred_proba_test = best_catboost.predict_proba(test_sample_processed)[:, 1]\n",
        "\n",
        "# Show predictions\n",
        "for i in range(len(test_sample)):\n",
        "    print(f\"\\n📌 Customer {i+1}:\")\n",
        "    print(f\"   - Predicted Churn: {'⚠️ Churn' if y_pred_test[i] == 1 else '✅ No Churn'}\")\n",
        "    print(f\"   - Churn Probability: {y_pred_proba_test[i]:.4f}\")\n",
        "    print(\"-\" * 50)\n"
      ],
      "metadata": {
        "colab": {
          "base_uri": "https://localhost:8080/"
        },
        "id": "HJsVCy-Msy5K",
        "outputId": "b46f44fb-17a6-49aa-8c9a-dae3eecf97e5"
      },
      "execution_count": null,
      "outputs": [
        {
          "output_type": "stream",
          "name": "stdout",
          "text": [
            "\n",
            "📌 Customer 1:\n",
            "   - Predicted Churn: ⚠️ Churn\n",
            "   - Churn Probability: 0.7331\n",
            "--------------------------------------------------\n",
            "\n",
            "📌 Customer 2:\n",
            "   - Predicted Churn: ⚠️ Churn\n",
            "   - Churn Probability: 0.6583\n",
            "--------------------------------------------------\n",
            "\n",
            "📌 Customer 3:\n",
            "   - Predicted Churn: ✅ No Churn\n",
            "   - Churn Probability: 0.3616\n",
            "--------------------------------------------------\n",
            "\n",
            "📌 Customer 4:\n",
            "   - Predicted Churn: ✅ No Churn\n",
            "   - Churn Probability: 0.2762\n",
            "--------------------------------------------------\n"
          ]
        }
      ]
    },
    {
      "cell_type": "code",
      "source": [
        "from sklearn.ensemble import RandomForestClassifier\n",
        "from catboost import CatBoostClassifier\n",
        "from sklearn.model_selection import train_test_split\n",
        "import numpy as np\n",
        "\n",
        "# Train-Test Split (if not already done)\n",
        "X_train, X_valid, y_train, y_valid = train_test_split(X_train_reduced, y_train, test_size=0.2, random_state=42)\n",
        "\n",
        "# ✅ Train Random Forest\n",
        "rf_model = RandomForestClassifier(n_estimators=200, max_depth=10, random_state=42)\n",
        "rf_model.fit(X_train, y_train)\n",
        "rf_train_preds = rf_model.predict_proba(X_valid)[:, 1]  # Get churn probabilities\n",
        "\n",
        "# ✅ Train CatBoost\n",
        "cb_model = CatBoostClassifier(iterations=1000, learning_rate=0.01, depth=6, random_seed=42, verbose=100)\n",
        "cb_model.fit(X_train, y_train, eval_set=(X_valid, y_valid), early_stopping_rounds=100, verbose=100)\n",
        "cb_train_preds = cb_model.predict_proba(X_valid)[:, 1]\n",
        "\n",
        "# ✅ Create Stacking Dataset\n",
        "stacked_train = np.column_stack((rf_train_preds, cb_train_preds))  # Combine RF & CB predictions\n"
      ],
      "metadata": {
        "colab": {
          "base_uri": "https://localhost:8080/"
        },
        "id": "o4NrtTwZyjy4",
        "outputId": "73ab1443-3db8-4a79-ff40-db05b29334ab"
      },
      "execution_count": null,
      "outputs": [
        {
          "output_type": "stream",
          "name": "stdout",
          "text": [
            "0:\tlearn: 0.6818488\ttest: 0.6815881\tbest: 0.6815881 (0)\ttotal: 11.2ms\tremaining: 11.2s\n",
            "100:\tlearn: 0.3514444\ttest: 0.3421379\tbest: 0.3421379 (100)\ttotal: 591ms\tremaining: 5.26s\n",
            "200:\tlearn: 0.3106389\ttest: 0.3082881\tbest: 0.3082881 (200)\ttotal: 1.82s\tremaining: 7.25s\n",
            "300:\tlearn: 0.2934639\ttest: 0.2974446\tbest: 0.2974446 (300)\ttotal: 2.19s\tremaining: 5.1s\n",
            "400:\tlearn: 0.2822191\ttest: 0.2917709\tbest: 0.2917709 (400)\ttotal: 2.53s\tremaining: 3.79s\n",
            "500:\tlearn: 0.2735590\ttest: 0.2882957\tbest: 0.2882957 (500)\ttotal: 2.85s\tremaining: 2.84s\n",
            "600:\tlearn: 0.2670609\ttest: 0.2863694\tbest: 0.2863694 (600)\ttotal: 3.17s\tremaining: 2.1s\n",
            "700:\tlearn: 0.2607351\ttest: 0.2848220\tbest: 0.2848171 (699)\ttotal: 3.51s\tremaining: 1.5s\n",
            "800:\tlearn: 0.2546062\ttest: 0.2833632\tbest: 0.2833554 (798)\ttotal: 3.9s\tremaining: 969ms\n",
            "900:\tlearn: 0.2483340\ttest: 0.2823667\tbest: 0.2823667 (900)\ttotal: 4.67s\tremaining: 514ms\n",
            "999:\tlearn: 0.2420595\ttest: 0.2821166\tbest: 0.2820746 (924)\ttotal: 5.37s\tremaining: 0us\n",
            "\n",
            "bestTest = 0.2820746109\n",
            "bestIteration = 924\n",
            "\n",
            "Shrink model to first 925 iterations.\n"
          ]
        }
      ]
    },
    {
      "cell_type": "code",
      "source": [
        "from sklearn.linear_model import LogisticRegression\n",
        "from sklearn.metrics import classification_report, roc_auc_score\n",
        "\n",
        "# ✅ Train Logistic Regression as Meta-Model\n",
        "meta_model = LogisticRegression()\n",
        "meta_model.fit(stacked_train, y_valid)\n",
        "\n",
        "# ✅ Predict on Validation Data\n",
        "meta_preds = meta_model.predict(stacked_train)\n",
        "meta_preds_proba = meta_model.predict_proba(stacked_train)[:, 1]\n",
        "\n",
        "# ✅ Evaluate Performance\n",
        "print(\"\\n📊 Classification Report (Stacking Model):\\n\", classification_report(y_valid, meta_preds))\n",
        "print(\"📈 AUC-ROC Score (Stacking Model):\", roc_auc_score(y_valid, meta_preds_proba))\n"
      ],
      "metadata": {
        "colab": {
          "base_uri": "https://localhost:8080/"
        },
        "id": "gSYZJyP3y32S",
        "outputId": "5245d088-32dc-41dd-9c59-6b405eda1375"
      },
      "execution_count": null,
      "outputs": [
        {
          "output_type": "stream",
          "name": "stdout",
          "text": [
            "\n",
            "📊 Classification Report (Stacking Model):\n",
            "               precision    recall  f1-score   support\n",
            "\n",
            "           0       0.89      0.93      0.91       839\n",
            "           1       0.78      0.68      0.73       288\n",
            "\n",
            "    accuracy                           0.87      1127\n",
            "   macro avg       0.84      0.81      0.82      1127\n",
            "weighted avg       0.86      0.87      0.87      1127\n",
            "\n",
            "📈 AUC-ROC Score (Stacking Model): 0.9315301781221031\n"
          ]
        }
      ]
    }
  ]
}